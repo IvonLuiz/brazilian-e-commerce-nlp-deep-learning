{
  "cells": [
    {
      "cell_type": "code",
      "execution_count": 77,
      "metadata": {
        "colab": {
          "base_uri": "https://localhost:8080/"
        },
        "id": "khAinpqS2e2S",
        "outputId": "375737ec-efbd-40b0-b283-82b150fca62a"
      },
      "outputs": [
        {
          "name": "stdout",
          "output_type": "stream",
          "text": [
            "Requirement already satisfied: kagglehub in /home/carlos/.cache/pypoetry/virtualenvs/brazilian-e-commerce-nlp-deep-learning-Rk9x1azB-py3.12/lib/python3.12/site-packages (0.3.6)\n",
            "Requirement already satisfied: packaging in /home/carlos/.cache/pypoetry/virtualenvs/brazilian-e-commerce-nlp-deep-learning-Rk9x1azB-py3.12/lib/python3.12/site-packages (from kagglehub) (24.2)\n",
            "Requirement already satisfied: requests in /home/carlos/.cache/pypoetry/virtualenvs/brazilian-e-commerce-nlp-deep-learning-Rk9x1azB-py3.12/lib/python3.12/site-packages (from kagglehub) (2.32.3)\n",
            "Requirement already satisfied: tqdm in /home/carlos/.cache/pypoetry/virtualenvs/brazilian-e-commerce-nlp-deep-learning-Rk9x1azB-py3.12/lib/python3.12/site-packages (from kagglehub) (4.67.1)\n",
            "Requirement already satisfied: charset-normalizer<4,>=2 in /home/carlos/.cache/pypoetry/virtualenvs/brazilian-e-commerce-nlp-deep-learning-Rk9x1azB-py3.12/lib/python3.12/site-packages (from requests->kagglehub) (3.4.1)\n",
            "Requirement already satisfied: idna<4,>=2.5 in /home/carlos/.cache/pypoetry/virtualenvs/brazilian-e-commerce-nlp-deep-learning-Rk9x1azB-py3.12/lib/python3.12/site-packages (from requests->kagglehub) (3.10)\n",
            "Requirement already satisfied: urllib3<3,>=1.21.1 in /home/carlos/.cache/pypoetry/virtualenvs/brazilian-e-commerce-nlp-deep-learning-Rk9x1azB-py3.12/lib/python3.12/site-packages (from requests->kagglehub) (2.3.0)\n",
            "Requirement already satisfied: certifi>=2017.4.17 in /home/carlos/.cache/pypoetry/virtualenvs/brazilian-e-commerce-nlp-deep-learning-Rk9x1azB-py3.12/lib/python3.12/site-packages (from requests->kagglehub) (2024.12.14)\n",
            "\n",
            "\u001b[1m[\u001b[0m\u001b[34;49mnotice\u001b[0m\u001b[1;39;49m]\u001b[0m\u001b[39;49m A new release of pip is available: \u001b[0m\u001b[31;49m24.3.1\u001b[0m\u001b[39;49m -> \u001b[0m\u001b[32;49m25.0\u001b[0m\n",
            "\u001b[1m[\u001b[0m\u001b[34;49mnotice\u001b[0m\u001b[1;39;49m]\u001b[0m\u001b[39;49m To update, run: \u001b[0m\u001b[32;49mpip install --upgrade pip\u001b[0m\n",
            "Requirement already satisfied: pandas in /home/carlos/.cache/pypoetry/virtualenvs/brazilian-e-commerce-nlp-deep-learning-Rk9x1azB-py3.12/lib/python3.12/site-packages (2.2.3)\n",
            "Requirement already satisfied: numpy>=1.26.0 in /home/carlos/.cache/pypoetry/virtualenvs/brazilian-e-commerce-nlp-deep-learning-Rk9x1azB-py3.12/lib/python3.12/site-packages (from pandas) (2.0.2)\n",
            "Requirement already satisfied: python-dateutil>=2.8.2 in /home/carlos/.cache/pypoetry/virtualenvs/brazilian-e-commerce-nlp-deep-learning-Rk9x1azB-py3.12/lib/python3.12/site-packages (from pandas) (2.9.0.post0)\n",
            "Requirement already satisfied: pytz>=2020.1 in /home/carlos/.cache/pypoetry/virtualenvs/brazilian-e-commerce-nlp-deep-learning-Rk9x1azB-py3.12/lib/python3.12/site-packages (from pandas) (2024.2)\n",
            "Requirement already satisfied: tzdata>=2022.7 in /home/carlos/.cache/pypoetry/virtualenvs/brazilian-e-commerce-nlp-deep-learning-Rk9x1azB-py3.12/lib/python3.12/site-packages (from pandas) (2024.2)\n",
            "Requirement already satisfied: six>=1.5 in /home/carlos/.cache/pypoetry/virtualenvs/brazilian-e-commerce-nlp-deep-learning-Rk9x1azB-py3.12/lib/python3.12/site-packages (from python-dateutil>=2.8.2->pandas) (1.17.0)\n",
            "\n",
            "\u001b[1m[\u001b[0m\u001b[34;49mnotice\u001b[0m\u001b[1;39;49m]\u001b[0m\u001b[39;49m A new release of pip is available: \u001b[0m\u001b[31;49m24.3.1\u001b[0m\u001b[39;49m -> \u001b[0m\u001b[32;49m25.0\u001b[0m\n",
            "\u001b[1m[\u001b[0m\u001b[34;49mnotice\u001b[0m\u001b[1;39;49m]\u001b[0m\u001b[39;49m To update, run: \u001b[0m\u001b[32;49mpip install --upgrade pip\u001b[0m\n",
            "Requirement already satisfied: nltk in /home/carlos/.cache/pypoetry/virtualenvs/brazilian-e-commerce-nlp-deep-learning-Rk9x1azB-py3.12/lib/python3.12/site-packages (3.9.1)\n",
            "Requirement already satisfied: click in /home/carlos/.cache/pypoetry/virtualenvs/brazilian-e-commerce-nlp-deep-learning-Rk9x1azB-py3.12/lib/python3.12/site-packages (from nltk) (8.1.8)\n",
            "Requirement already satisfied: joblib in /home/carlos/.cache/pypoetry/virtualenvs/brazilian-e-commerce-nlp-deep-learning-Rk9x1azB-py3.12/lib/python3.12/site-packages (from nltk) (1.4.2)\n",
            "Requirement already satisfied: regex>=2021.8.3 in /home/carlos/.cache/pypoetry/virtualenvs/brazilian-e-commerce-nlp-deep-learning-Rk9x1azB-py3.12/lib/python3.12/site-packages (from nltk) (2024.11.6)\n",
            "Requirement already satisfied: tqdm in /home/carlos/.cache/pypoetry/virtualenvs/brazilian-e-commerce-nlp-deep-learning-Rk9x1azB-py3.12/lib/python3.12/site-packages (from nltk) (4.67.1)\n",
            "\n",
            "\u001b[1m[\u001b[0m\u001b[34;49mnotice\u001b[0m\u001b[1;39;49m]\u001b[0m\u001b[39;49m A new release of pip is available: \u001b[0m\u001b[31;49m24.3.1\u001b[0m\u001b[39;49m -> \u001b[0m\u001b[32;49m25.0\u001b[0m\n",
            "\u001b[1m[\u001b[0m\u001b[34;49mnotice\u001b[0m\u001b[1;39;49m]\u001b[0m\u001b[39;49m To update, run: \u001b[0m\u001b[32;49mpip install --upgrade pip\u001b[0m\n",
            "Requirement already satisfied: scikit-learn in /home/carlos/.cache/pypoetry/virtualenvs/brazilian-e-commerce-nlp-deep-learning-Rk9x1azB-py3.12/lib/python3.12/site-packages (1.6.1)\n",
            "Requirement already satisfied: numpy>=1.19.5 in /home/carlos/.cache/pypoetry/virtualenvs/brazilian-e-commerce-nlp-deep-learning-Rk9x1azB-py3.12/lib/python3.12/site-packages (from scikit-learn) (2.0.2)\n",
            "Requirement already satisfied: scipy>=1.6.0 in /home/carlos/.cache/pypoetry/virtualenvs/brazilian-e-commerce-nlp-deep-learning-Rk9x1azB-py3.12/lib/python3.12/site-packages (from scikit-learn) (1.15.1)\n",
            "Requirement already satisfied: joblib>=1.2.0 in /home/carlos/.cache/pypoetry/virtualenvs/brazilian-e-commerce-nlp-deep-learning-Rk9x1azB-py3.12/lib/python3.12/site-packages (from scikit-learn) (1.4.2)\n",
            "Requirement already satisfied: threadpoolctl>=3.1.0 in /home/carlos/.cache/pypoetry/virtualenvs/brazilian-e-commerce-nlp-deep-learning-Rk9x1azB-py3.12/lib/python3.12/site-packages (from scikit-learn) (3.5.0)\n",
            "\n",
            "\u001b[1m[\u001b[0m\u001b[34;49mnotice\u001b[0m\u001b[1;39;49m]\u001b[0m\u001b[39;49m A new release of pip is available: \u001b[0m\u001b[31;49m24.3.1\u001b[0m\u001b[39;49m -> \u001b[0m\u001b[32;49m25.0\u001b[0m\n",
            "\u001b[1m[\u001b[0m\u001b[34;49mnotice\u001b[0m\u001b[1;39;49m]\u001b[0m\u001b[39;49m To update, run: \u001b[0m\u001b[32;49mpip install --upgrade pip\u001b[0m\n",
            "Requirement already satisfied: tensorflow in /home/carlos/.cache/pypoetry/virtualenvs/brazilian-e-commerce-nlp-deep-learning-Rk9x1azB-py3.12/lib/python3.12/site-packages (2.18.0)\n",
            "Requirement already satisfied: absl-py>=1.0.0 in /home/carlos/.cache/pypoetry/virtualenvs/brazilian-e-commerce-nlp-deep-learning-Rk9x1azB-py3.12/lib/python3.12/site-packages (from tensorflow) (2.1.0)\n",
            "Requirement already satisfied: astunparse>=1.6.0 in /home/carlos/.cache/pypoetry/virtualenvs/brazilian-e-commerce-nlp-deep-learning-Rk9x1azB-py3.12/lib/python3.12/site-packages (from tensorflow) (1.6.3)\n",
            "Requirement already satisfied: flatbuffers>=24.3.25 in /home/carlos/.cache/pypoetry/virtualenvs/brazilian-e-commerce-nlp-deep-learning-Rk9x1azB-py3.12/lib/python3.12/site-packages (from tensorflow) (24.12.23)\n",
            "Requirement already satisfied: gast!=0.5.0,!=0.5.1,!=0.5.2,>=0.2.1 in /home/carlos/.cache/pypoetry/virtualenvs/brazilian-e-commerce-nlp-deep-learning-Rk9x1azB-py3.12/lib/python3.12/site-packages (from tensorflow) (0.6.0)\n",
            "Requirement already satisfied: google-pasta>=0.1.1 in /home/carlos/.cache/pypoetry/virtualenvs/brazilian-e-commerce-nlp-deep-learning-Rk9x1azB-py3.12/lib/python3.12/site-packages (from tensorflow) (0.2.0)\n",
            "Requirement already satisfied: libclang>=13.0.0 in /home/carlos/.cache/pypoetry/virtualenvs/brazilian-e-commerce-nlp-deep-learning-Rk9x1azB-py3.12/lib/python3.12/site-packages (from tensorflow) (18.1.1)\n",
            "Requirement already satisfied: opt-einsum>=2.3.2 in /home/carlos/.cache/pypoetry/virtualenvs/brazilian-e-commerce-nlp-deep-learning-Rk9x1azB-py3.12/lib/python3.12/site-packages (from tensorflow) (3.4.0)\n",
            "Requirement already satisfied: packaging in /home/carlos/.cache/pypoetry/virtualenvs/brazilian-e-commerce-nlp-deep-learning-Rk9x1azB-py3.12/lib/python3.12/site-packages (from tensorflow) (24.2)\n",
            "Requirement already satisfied: protobuf!=4.21.0,!=4.21.1,!=4.21.2,!=4.21.3,!=4.21.4,!=4.21.5,<6.0.0dev,>=3.20.3 in /home/carlos/.cache/pypoetry/virtualenvs/brazilian-e-commerce-nlp-deep-learning-Rk9x1azB-py3.12/lib/python3.12/site-packages (from tensorflow) (5.29.3)\n",
            "Requirement already satisfied: requests<3,>=2.21.0 in /home/carlos/.cache/pypoetry/virtualenvs/brazilian-e-commerce-nlp-deep-learning-Rk9x1azB-py3.12/lib/python3.12/site-packages (from tensorflow) (2.32.3)\n",
            "Requirement already satisfied: setuptools in /home/carlos/.cache/pypoetry/virtualenvs/brazilian-e-commerce-nlp-deep-learning-Rk9x1azB-py3.12/lib/python3.12/site-packages (from tensorflow) (75.8.0)\n",
            "Requirement already satisfied: six>=1.12.0 in /home/carlos/.cache/pypoetry/virtualenvs/brazilian-e-commerce-nlp-deep-learning-Rk9x1azB-py3.12/lib/python3.12/site-packages (from tensorflow) (1.17.0)\n",
            "Requirement already satisfied: termcolor>=1.1.0 in /home/carlos/.cache/pypoetry/virtualenvs/brazilian-e-commerce-nlp-deep-learning-Rk9x1azB-py3.12/lib/python3.12/site-packages (from tensorflow) (2.5.0)\n",
            "Requirement already satisfied: typing-extensions>=3.6.6 in /home/carlos/.cache/pypoetry/virtualenvs/brazilian-e-commerce-nlp-deep-learning-Rk9x1azB-py3.12/lib/python3.12/site-packages (from tensorflow) (4.12.2)\n",
            "Requirement already satisfied: wrapt>=1.11.0 in /home/carlos/.cache/pypoetry/virtualenvs/brazilian-e-commerce-nlp-deep-learning-Rk9x1azB-py3.12/lib/python3.12/site-packages (from tensorflow) (1.17.2)\n",
            "Requirement already satisfied: grpcio<2.0,>=1.24.3 in /home/carlos/.cache/pypoetry/virtualenvs/brazilian-e-commerce-nlp-deep-learning-Rk9x1azB-py3.12/lib/python3.12/site-packages (from tensorflow) (1.69.0)\n",
            "Requirement already satisfied: tensorboard<2.19,>=2.18 in /home/carlos/.cache/pypoetry/virtualenvs/brazilian-e-commerce-nlp-deep-learning-Rk9x1azB-py3.12/lib/python3.12/site-packages (from tensorflow) (2.18.0)\n",
            "Requirement already satisfied: keras>=3.5.0 in /home/carlos/.cache/pypoetry/virtualenvs/brazilian-e-commerce-nlp-deep-learning-Rk9x1azB-py3.12/lib/python3.12/site-packages (from tensorflow) (3.8.0)\n",
            "Requirement already satisfied: numpy<2.1.0,>=1.26.0 in /home/carlos/.cache/pypoetry/virtualenvs/brazilian-e-commerce-nlp-deep-learning-Rk9x1azB-py3.12/lib/python3.12/site-packages (from tensorflow) (2.0.2)\n",
            "Requirement already satisfied: h5py>=3.11.0 in /home/carlos/.cache/pypoetry/virtualenvs/brazilian-e-commerce-nlp-deep-learning-Rk9x1azB-py3.12/lib/python3.12/site-packages (from tensorflow) (3.12.1)\n",
            "Requirement already satisfied: ml-dtypes<0.5.0,>=0.4.0 in /home/carlos/.cache/pypoetry/virtualenvs/brazilian-e-commerce-nlp-deep-learning-Rk9x1azB-py3.12/lib/python3.12/site-packages (from tensorflow) (0.4.1)\n",
            "Requirement already satisfied: wheel<1.0,>=0.23.0 in /home/carlos/.cache/pypoetry/virtualenvs/brazilian-e-commerce-nlp-deep-learning-Rk9x1azB-py3.12/lib/python3.12/site-packages (from astunparse>=1.6.0->tensorflow) (0.45.1)\n",
            "Requirement already satisfied: rich in /home/carlos/.cache/pypoetry/virtualenvs/brazilian-e-commerce-nlp-deep-learning-Rk9x1azB-py3.12/lib/python3.12/site-packages (from keras>=3.5.0->tensorflow) (13.9.4)\n",
            "Requirement already satisfied: namex in /home/carlos/.cache/pypoetry/virtualenvs/brazilian-e-commerce-nlp-deep-learning-Rk9x1azB-py3.12/lib/python3.12/site-packages (from keras>=3.5.0->tensorflow) (0.0.8)\n",
            "Requirement already satisfied: optree in /home/carlos/.cache/pypoetry/virtualenvs/brazilian-e-commerce-nlp-deep-learning-Rk9x1azB-py3.12/lib/python3.12/site-packages (from keras>=3.5.0->tensorflow) (0.13.1)\n",
            "Requirement already satisfied: charset-normalizer<4,>=2 in /home/carlos/.cache/pypoetry/virtualenvs/brazilian-e-commerce-nlp-deep-learning-Rk9x1azB-py3.12/lib/python3.12/site-packages (from requests<3,>=2.21.0->tensorflow) (3.4.1)\n",
            "Requirement already satisfied: idna<4,>=2.5 in /home/carlos/.cache/pypoetry/virtualenvs/brazilian-e-commerce-nlp-deep-learning-Rk9x1azB-py3.12/lib/python3.12/site-packages (from requests<3,>=2.21.0->tensorflow) (3.10)\n",
            "Requirement already satisfied: urllib3<3,>=1.21.1 in /home/carlos/.cache/pypoetry/virtualenvs/brazilian-e-commerce-nlp-deep-learning-Rk9x1azB-py3.12/lib/python3.12/site-packages (from requests<3,>=2.21.0->tensorflow) (2.3.0)\n",
            "Requirement already satisfied: certifi>=2017.4.17 in /home/carlos/.cache/pypoetry/virtualenvs/brazilian-e-commerce-nlp-deep-learning-Rk9x1azB-py3.12/lib/python3.12/site-packages (from requests<3,>=2.21.0->tensorflow) (2024.12.14)\n",
            "Requirement already satisfied: markdown>=2.6.8 in /home/carlos/.cache/pypoetry/virtualenvs/brazilian-e-commerce-nlp-deep-learning-Rk9x1azB-py3.12/lib/python3.12/site-packages (from tensorboard<2.19,>=2.18->tensorflow) (3.7)\n",
            "Requirement already satisfied: tensorboard-data-server<0.8.0,>=0.7.0 in /home/carlos/.cache/pypoetry/virtualenvs/brazilian-e-commerce-nlp-deep-learning-Rk9x1azB-py3.12/lib/python3.12/site-packages (from tensorboard<2.19,>=2.18->tensorflow) (0.7.2)\n",
            "Requirement already satisfied: werkzeug>=1.0.1 in /home/carlos/.cache/pypoetry/virtualenvs/brazilian-e-commerce-nlp-deep-learning-Rk9x1azB-py3.12/lib/python3.12/site-packages (from tensorboard<2.19,>=2.18->tensorflow) (3.1.3)\n",
            "Requirement already satisfied: MarkupSafe>=2.1.1 in /home/carlos/.cache/pypoetry/virtualenvs/brazilian-e-commerce-nlp-deep-learning-Rk9x1azB-py3.12/lib/python3.12/site-packages (from werkzeug>=1.0.1->tensorboard<2.19,>=2.18->tensorflow) (3.0.2)\n",
            "Requirement already satisfied: markdown-it-py>=2.2.0 in /home/carlos/.cache/pypoetry/virtualenvs/brazilian-e-commerce-nlp-deep-learning-Rk9x1azB-py3.12/lib/python3.12/site-packages (from rich->keras>=3.5.0->tensorflow) (3.0.0)\n",
            "Requirement already satisfied: pygments<3.0.0,>=2.13.0 in /home/carlos/.cache/pypoetry/virtualenvs/brazilian-e-commerce-nlp-deep-learning-Rk9x1azB-py3.12/lib/python3.12/site-packages (from rich->keras>=3.5.0->tensorflow) (2.19.1)\n",
            "Requirement already satisfied: mdurl~=0.1 in /home/carlos/.cache/pypoetry/virtualenvs/brazilian-e-commerce-nlp-deep-learning-Rk9x1azB-py3.12/lib/python3.12/site-packages (from markdown-it-py>=2.2.0->rich->keras>=3.5.0->tensorflow) (0.1.2)\n",
            "\n",
            "\u001b[1m[\u001b[0m\u001b[34;49mnotice\u001b[0m\u001b[1;39;49m]\u001b[0m\u001b[39;49m A new release of pip is available: \u001b[0m\u001b[31;49m24.3.1\u001b[0m\u001b[39;49m -> \u001b[0m\u001b[32;49m25.0\u001b[0m\n",
            "\u001b[1m[\u001b[0m\u001b[34;49mnotice\u001b[0m\u001b[1;39;49m]\u001b[0m\u001b[39;49m To update, run: \u001b[0m\u001b[32;49mpip install --upgrade pip\u001b[0m\n",
            "Requirement already satisfied: matplotlib in /home/carlos/.cache/pypoetry/virtualenvs/brazilian-e-commerce-nlp-deep-learning-Rk9x1azB-py3.12/lib/python3.12/site-packages (3.10.0)\n",
            "Requirement already satisfied: contourpy>=1.0.1 in /home/carlos/.cache/pypoetry/virtualenvs/brazilian-e-commerce-nlp-deep-learning-Rk9x1azB-py3.12/lib/python3.12/site-packages (from matplotlib) (1.3.1)\n",
            "Requirement already satisfied: cycler>=0.10 in /home/carlos/.cache/pypoetry/virtualenvs/brazilian-e-commerce-nlp-deep-learning-Rk9x1azB-py3.12/lib/python3.12/site-packages (from matplotlib) (0.12.1)\n",
            "Requirement already satisfied: fonttools>=4.22.0 in /home/carlos/.cache/pypoetry/virtualenvs/brazilian-e-commerce-nlp-deep-learning-Rk9x1azB-py3.12/lib/python3.12/site-packages (from matplotlib) (4.55.8)\n",
            "Requirement already satisfied: kiwisolver>=1.3.1 in /home/carlos/.cache/pypoetry/virtualenvs/brazilian-e-commerce-nlp-deep-learning-Rk9x1azB-py3.12/lib/python3.12/site-packages (from matplotlib) (1.4.8)\n",
            "Requirement already satisfied: numpy>=1.23 in /home/carlos/.cache/pypoetry/virtualenvs/brazilian-e-commerce-nlp-deep-learning-Rk9x1azB-py3.12/lib/python3.12/site-packages (from matplotlib) (2.0.2)\n",
            "Requirement already satisfied: packaging>=20.0 in /home/carlos/.cache/pypoetry/virtualenvs/brazilian-e-commerce-nlp-deep-learning-Rk9x1azB-py3.12/lib/python3.12/site-packages (from matplotlib) (24.2)\n",
            "Requirement already satisfied: pillow>=8 in /home/carlos/.cache/pypoetry/virtualenvs/brazilian-e-commerce-nlp-deep-learning-Rk9x1azB-py3.12/lib/python3.12/site-packages (from matplotlib) (11.1.0)\n",
            "Requirement already satisfied: pyparsing>=2.3.1 in /home/carlos/.cache/pypoetry/virtualenvs/brazilian-e-commerce-nlp-deep-learning-Rk9x1azB-py3.12/lib/python3.12/site-packages (from matplotlib) (3.2.1)\n",
            "Requirement already satisfied: python-dateutil>=2.7 in /home/carlos/.cache/pypoetry/virtualenvs/brazilian-e-commerce-nlp-deep-learning-Rk9x1azB-py3.12/lib/python3.12/site-packages (from matplotlib) (2.9.0.post0)\n",
            "Requirement already satisfied: six>=1.5 in /home/carlos/.cache/pypoetry/virtualenvs/brazilian-e-commerce-nlp-deep-learning-Rk9x1azB-py3.12/lib/python3.12/site-packages (from python-dateutil>=2.7->matplotlib) (1.17.0)\n",
            "\n",
            "\u001b[1m[\u001b[0m\u001b[34;49mnotice\u001b[0m\u001b[1;39;49m]\u001b[0m\u001b[39;49m A new release of pip is available: \u001b[0m\u001b[31;49m24.3.1\u001b[0m\u001b[39;49m -> \u001b[0m\u001b[32;49m25.0\u001b[0m\n",
            "\u001b[1m[\u001b[0m\u001b[34;49mnotice\u001b[0m\u001b[1;39;49m]\u001b[0m\u001b[39;49m To update, run: \u001b[0m\u001b[32;49mpip install --upgrade pip\u001b[0m\n",
            "Requirement already satisfied: seaborn in /home/carlos/.cache/pypoetry/virtualenvs/brazilian-e-commerce-nlp-deep-learning-Rk9x1azB-py3.12/lib/python3.12/site-packages (0.13.2)\n",
            "Requirement already satisfied: numpy!=1.24.0,>=1.20 in /home/carlos/.cache/pypoetry/virtualenvs/brazilian-e-commerce-nlp-deep-learning-Rk9x1azB-py3.12/lib/python3.12/site-packages (from seaborn) (2.0.2)\n",
            "Requirement already satisfied: pandas>=1.2 in /home/carlos/.cache/pypoetry/virtualenvs/brazilian-e-commerce-nlp-deep-learning-Rk9x1azB-py3.12/lib/python3.12/site-packages (from seaborn) (2.2.3)\n",
            "Requirement already satisfied: matplotlib!=3.6.1,>=3.4 in /home/carlos/.cache/pypoetry/virtualenvs/brazilian-e-commerce-nlp-deep-learning-Rk9x1azB-py3.12/lib/python3.12/site-packages (from seaborn) (3.10.0)\n",
            "Requirement already satisfied: contourpy>=1.0.1 in /home/carlos/.cache/pypoetry/virtualenvs/brazilian-e-commerce-nlp-deep-learning-Rk9x1azB-py3.12/lib/python3.12/site-packages (from matplotlib!=3.6.1,>=3.4->seaborn) (1.3.1)\n",
            "Requirement already satisfied: cycler>=0.10 in /home/carlos/.cache/pypoetry/virtualenvs/brazilian-e-commerce-nlp-deep-learning-Rk9x1azB-py3.12/lib/python3.12/site-packages (from matplotlib!=3.6.1,>=3.4->seaborn) (0.12.1)\n",
            "Requirement already satisfied: fonttools>=4.22.0 in /home/carlos/.cache/pypoetry/virtualenvs/brazilian-e-commerce-nlp-deep-learning-Rk9x1azB-py3.12/lib/python3.12/site-packages (from matplotlib!=3.6.1,>=3.4->seaborn) (4.55.8)\n",
            "Requirement already satisfied: kiwisolver>=1.3.1 in /home/carlos/.cache/pypoetry/virtualenvs/brazilian-e-commerce-nlp-deep-learning-Rk9x1azB-py3.12/lib/python3.12/site-packages (from matplotlib!=3.6.1,>=3.4->seaborn) (1.4.8)\n",
            "Requirement already satisfied: packaging>=20.0 in /home/carlos/.cache/pypoetry/virtualenvs/brazilian-e-commerce-nlp-deep-learning-Rk9x1azB-py3.12/lib/python3.12/site-packages (from matplotlib!=3.6.1,>=3.4->seaborn) (24.2)\n",
            "Requirement already satisfied: pillow>=8 in /home/carlos/.cache/pypoetry/virtualenvs/brazilian-e-commerce-nlp-deep-learning-Rk9x1azB-py3.12/lib/python3.12/site-packages (from matplotlib!=3.6.1,>=3.4->seaborn) (11.1.0)\n",
            "Requirement already satisfied: pyparsing>=2.3.1 in /home/carlos/.cache/pypoetry/virtualenvs/brazilian-e-commerce-nlp-deep-learning-Rk9x1azB-py3.12/lib/python3.12/site-packages (from matplotlib!=3.6.1,>=3.4->seaborn) (3.2.1)\n",
            "Requirement already satisfied: python-dateutil>=2.7 in /home/carlos/.cache/pypoetry/virtualenvs/brazilian-e-commerce-nlp-deep-learning-Rk9x1azB-py3.12/lib/python3.12/site-packages (from matplotlib!=3.6.1,>=3.4->seaborn) (2.9.0.post0)\n",
            "Requirement already satisfied: pytz>=2020.1 in /home/carlos/.cache/pypoetry/virtualenvs/brazilian-e-commerce-nlp-deep-learning-Rk9x1azB-py3.12/lib/python3.12/site-packages (from pandas>=1.2->seaborn) (2024.2)\n",
            "Requirement already satisfied: tzdata>=2022.7 in /home/carlos/.cache/pypoetry/virtualenvs/brazilian-e-commerce-nlp-deep-learning-Rk9x1azB-py3.12/lib/python3.12/site-packages (from pandas>=1.2->seaborn) (2024.2)\n",
            "Requirement already satisfied: six>=1.5 in /home/carlos/.cache/pypoetry/virtualenvs/brazilian-e-commerce-nlp-deep-learning-Rk9x1azB-py3.12/lib/python3.12/site-packages (from python-dateutil>=2.7->matplotlib!=3.6.1,>=3.4->seaborn) (1.17.0)\n",
            "\n",
            "\u001b[1m[\u001b[0m\u001b[34;49mnotice\u001b[0m\u001b[1;39;49m]\u001b[0m\u001b[39;49m A new release of pip is available: \u001b[0m\u001b[31;49m24.3.1\u001b[0m\u001b[39;49m -> \u001b[0m\u001b[32;49m25.0\u001b[0m\n",
            "\u001b[1m[\u001b[0m\u001b[34;49mnotice\u001b[0m\u001b[1;39;49m]\u001b[0m\u001b[39;49m To update, run: \u001b[0m\u001b[32;49mpip install --upgrade pip\u001b[0m\n"
          ]
        }
      ],
      "source": [
        "!pip install kagglehub\n",
        "!pip install pandas\n",
        "!pip install nltk\n",
        "!pip install scikit-learn\n",
        "!pip install tensorflow\n",
        "!pip install matplotlib\n",
        "!pip install seaborn"
      ]
    },
    {
      "cell_type": "code",
      "execution_count": 78,
      "metadata": {
        "id": "vrFm_hUc2e2W"
      },
      "outputs": [],
      "source": [
        "import kagglehub\n",
        "import pandas as pd\n",
        "import numpy as np\n",
        "import seaborn as sns\n",
        "import re\n",
        "import nltk\n",
        "import matplotlib.pyplot as plt\n",
        "import pickle\n",
        "\n",
        "from sklearn.feature_extraction.text import CountVectorizer, TfidfVectorizer, TfidfTransformer\n",
        "from sklearn.pipeline import Pipeline\n",
        "from sklearn.base import BaseEstimator, TransformerMixin\n",
        "from sklearn.model_selection import train_test_split\n",
        "from sklearn.metrics import classification_report, confusion_matrix, accuracy_score, ConfusionMatrixDisplay\n",
        "from sklearn.model_selection import KFold\n",
        "\n",
        "import tensorflow as tf\n",
        "from tensorflow.keras.callbacks import EarlyStopping\n",
        "from tensorflow.keras import models\n",
        "from tensorflow.keras import layers\n",
        "from tensorflow.keras.preprocessing.text import Tokenizer\n",
        "from tensorflow.keras.preprocessing.sequence import pad_sequences\n",
        "from tensorflow.keras.utils import to_categorical"
      ]
    },
    {
      "cell_type": "markdown",
      "metadata": {
        "id": "ALRsADqg2e2Y"
      },
      "source": [
        "\n",
        "\n",
        "olist_customers_dataset.csv\n",
        "olist_geolocation_dataset.csv\n",
        "olist_orders_dataset.csv\n",
        "olist_order_items_dataset.csv\n",
        "olist_order_payments_dataset.csv\n",
        "olist_order_reviews_dataset.csv\n",
        "olist_products_dataset.csv\n",
        "olist_sellers_dataset.csv\n",
        "product_category_name_translation.csv\n"
      ]
    },
    {
      "cell_type": "markdown",
      "metadata": {
        "id": "W6YFwdkk2e2Z"
      },
      "source": [
        "## Dataset"
      ]
    },
    {
      "cell_type": "markdown",
      "metadata": {},
      "source": [
        "We will use the [Brazilian E-Commerce](https://www.kaggle.com/datasets/olistbr/brazilian-ecommerce) dataset, which contains reviews from products bought in e-commerces."
      ]
    },
    {
      "cell_type": "code",
      "execution_count": 79,
      "metadata": {
        "colab": {
          "base_uri": "https://localhost:8080/"
        },
        "id": "SQhAn17h2e2Z",
        "outputId": "6eeedf27-40ae-4ac9-c5d3-e6d1b7e218be"
      },
      "outputs": [
        {
          "name": "stdout",
          "output_type": "stream",
          "text": [
            "Path to dataset files: /home/carlos/.cache/kagglehub/datasets/olistbr/brazilian-ecommerce/versions/2\n"
          ]
        }
      ],
      "source": [
        "# Download latest version\n",
        "path = kagglehub.dataset_download(\"olistbr/brazilian-ecommerce\")\n",
        "\n",
        "print(\"Path to dataset files:\", path)"
      ]
    },
    {
      "cell_type": "code",
      "execution_count": 80,
      "metadata": {
        "id": "mUmuSvIW2e2a"
      },
      "outputs": [],
      "source": [
        "# Reading all the files\n",
        "# olist_customer = pd.read_csv(path + 'olist_customers_dataset.csv')\n",
        "# olist_geolocation = pd.read_csv(path + 'olist_geolocation_dataset.csv')\n",
        "# olist_orders = pd.read_csv(path + 'olist_orders_dataset.csv')\n",
        "# olist_order_items = pd.read_csv(path + 'olist_order_items_dataset.csv')\n",
        "# olist_order_payments = pd.read_csv(path + 'olist_order_payments_dataset.csv')\n",
        "olist_order_reviews = pd.read_csv(path + '//olist_order_reviews_dataset.csv')\n",
        "# olist_products = pd.read_csv(path + 'olist_products_dataset.csv')\n",
        "# olist_sellers = pd.read_csv(path + 'olist_sellers_dataset.csv')"
      ]
    },
    {
      "cell_type": "code",
      "execution_count": 81,
      "metadata": {
        "colab": {
          "base_uri": "https://localhost:8080/",
          "height": 300
        },
        "id": "Ft2GFMdD2e2b",
        "outputId": "922b95ba-3378-4287-8975-f114cde36069"
      },
      "outputs": [
        {
          "data": {
            "text/html": [
              "<div>\n",
              "<style scoped>\n",
              "    .dataframe tbody tr th:only-of-type {\n",
              "        vertical-align: middle;\n",
              "    }\n",
              "\n",
              "    .dataframe tbody tr th {\n",
              "        vertical-align: top;\n",
              "    }\n",
              "\n",
              "    .dataframe thead th {\n",
              "        text-align: right;\n",
              "    }\n",
              "</style>\n",
              "<table border=\"1\" class=\"dataframe\">\n",
              "  <thead>\n",
              "    <tr style=\"text-align: right;\">\n",
              "      <th></th>\n",
              "      <th>review_score</th>\n",
              "    </tr>\n",
              "  </thead>\n",
              "  <tbody>\n",
              "    <tr>\n",
              "      <th>count</th>\n",
              "      <td>99224.000000</td>\n",
              "    </tr>\n",
              "    <tr>\n",
              "      <th>mean</th>\n",
              "      <td>4.086421</td>\n",
              "    </tr>\n",
              "    <tr>\n",
              "      <th>std</th>\n",
              "      <td>1.347579</td>\n",
              "    </tr>\n",
              "    <tr>\n",
              "      <th>min</th>\n",
              "      <td>1.000000</td>\n",
              "    </tr>\n",
              "    <tr>\n",
              "      <th>25%</th>\n",
              "      <td>4.000000</td>\n",
              "    </tr>\n",
              "    <tr>\n",
              "      <th>50%</th>\n",
              "      <td>5.000000</td>\n",
              "    </tr>\n",
              "    <tr>\n",
              "      <th>75%</th>\n",
              "      <td>5.000000</td>\n",
              "    </tr>\n",
              "    <tr>\n",
              "      <th>max</th>\n",
              "      <td>5.000000</td>\n",
              "    </tr>\n",
              "  </tbody>\n",
              "</table>\n",
              "</div>"
            ],
            "text/plain": [
              "       review_score\n",
              "count  99224.000000\n",
              "mean       4.086421\n",
              "std        1.347579\n",
              "min        1.000000\n",
              "25%        4.000000\n",
              "50%        5.000000\n",
              "75%        5.000000\n",
              "max        5.000000"
            ]
          },
          "execution_count": 81,
          "metadata": {},
          "output_type": "execute_result"
        }
      ],
      "source": [
        "olist_order_reviews.describe()"
      ]
    },
    {
      "cell_type": "code",
      "execution_count": 82,
      "metadata": {
        "colab": {
          "base_uri": "https://localhost:8080/",
          "height": 224
        },
        "id": "mnrdQZrK2e2b",
        "outputId": "88964732-d970-4e05-d6c0-152a67918116"
      },
      "outputs": [
        {
          "name": "stdout",
          "output_type": "stream",
          "text": [
            "Dataset shape: (40977, 2)\n"
          ]
        },
        {
          "data": {
            "text/html": [
              "<div>\n",
              "<style scoped>\n",
              "    .dataframe tbody tr th:only-of-type {\n",
              "        vertical-align: middle;\n",
              "    }\n",
              "\n",
              "    .dataframe tbody tr th {\n",
              "        vertical-align: top;\n",
              "    }\n",
              "\n",
              "    .dataframe thead th {\n",
              "        text-align: right;\n",
              "    }\n",
              "</style>\n",
              "<table border=\"1\" class=\"dataframe\">\n",
              "  <thead>\n",
              "    <tr style=\"text-align: right;\">\n",
              "      <th></th>\n",
              "      <th>score</th>\n",
              "      <th>comment</th>\n",
              "    </tr>\n",
              "  </thead>\n",
              "  <tbody>\n",
              "    <tr>\n",
              "      <th>0</th>\n",
              "      <td>5</td>\n",
              "      <td>Recebi bem antes do prazo estipulado.</td>\n",
              "    </tr>\n",
              "    <tr>\n",
              "      <th>1</th>\n",
              "      <td>5</td>\n",
              "      <td>Parabéns lojas lannister adorei comprar pela I...</td>\n",
              "    </tr>\n",
              "    <tr>\n",
              "      <th>2</th>\n",
              "      <td>4</td>\n",
              "      <td>aparelho eficiente. no site a marca do aparelh...</td>\n",
              "    </tr>\n",
              "    <tr>\n",
              "      <th>3</th>\n",
              "      <td>4</td>\n",
              "      <td>Mas um pouco ,travando...pelo valor ta Boa.\\r\\n</td>\n",
              "    </tr>\n",
              "    <tr>\n",
              "      <th>4</th>\n",
              "      <td>5</td>\n",
              "      <td>Vendedor confiável, produto ok e entrega antes...</td>\n",
              "    </tr>\n",
              "  </tbody>\n",
              "</table>\n",
              "</div>"
            ],
            "text/plain": [
              "   score                                            comment\n",
              "0      5              Recebi bem antes do prazo estipulado.\n",
              "1      5  Parabéns lojas lannister adorei comprar pela I...\n",
              "2      4  aparelho eficiente. no site a marca do aparelh...\n",
              "3      4    Mas um pouco ,travando...pelo valor ta Boa.\\r\\n\n",
              "4      5  Vendedor confiável, produto ok e entrega antes..."
            ]
          },
          "execution_count": 82,
          "metadata": {},
          "output_type": "execute_result"
        }
      ],
      "source": [
        "df_comments = olist_order_reviews.loc[:, ['review_score', 'review_comment_message']]\n",
        "df_comments = df_comments.dropna(subset=['review_comment_message'])\n",
        "df_comments = df_comments.reset_index(drop=True)\n",
        "\n",
        "print(f'Dataset shape: {df_comments.shape}')\n",
        "df_comments.columns = ['score', 'comment']\n",
        "df_comments.head()"
      ]
    },
    {
      "cell_type": "markdown",
      "metadata": {
        "id": "SzukufS62e2c"
      },
      "source": [
        "We will consider a binary classification problem, with negative comments being with score below 4 and good reviews being 4 and 5."
      ]
    },
    {
      "cell_type": "code",
      "execution_count": 83,
      "metadata": {
        "colab": {
          "base_uri": "https://localhost:8080/"
        },
        "id": "ls4hqbJp2e2c",
        "outputId": "f2de4453-4256-491a-c7c8-30619d9fc00e"
      },
      "outputs": [
        {
          "data": {
            "text/plain": [
              "40977"
            ]
          },
          "execution_count": 83,
          "metadata": {},
          "output_type": "execute_result"
        }
      ],
      "source": [
        "y = df_comments['score']\n",
        "y = y.apply(lambda x: 0 if x < 4 else 1)\n",
        "\n",
        "len(y)"
      ]
    },
    {
      "cell_type": "code",
      "execution_count": 84,
      "metadata": {
        "colab": {
          "base_uri": "https://localhost:8080/",
          "height": 178
        },
        "id": "DMUW1FgP2e2d",
        "outputId": "bfdfbf81-f37b-407e-9609-ae6992f432ae"
      },
      "outputs": [
        {
          "data": {
            "text/plain": [
              "score\n",
              "1    26530\n",
              "0    14447\n",
              "Name: count, dtype: int64"
            ]
          },
          "execution_count": 84,
          "metadata": {},
          "output_type": "execute_result"
        }
      ],
      "source": [
        "y.value_counts(sort=False)"
      ]
    },
    {
      "cell_type": "markdown",
      "metadata": {
        "id": "9Leu95p52e2e"
      },
      "source": [
        "We have almost 41k comments that could be used for training a sentimental analysis model. But, beforehand we have to do some preprocessing on the text to transform the comment input into a vector that can be interpreted for a Machine Learning model."
      ]
    },
    {
      "cell_type": "markdown",
      "metadata": {
        "id": "d_0RZMgi2e2e"
      },
      "source": [
        "## Natural language processing"
      ]
    },
    {
      "cell_type": "markdown",
      "metadata": {
        "id": "Ri09aDIL2e2e"
      },
      "source": [
        "### Regular expressions"
      ]
    },
    {
      "cell_type": "markdown",
      "metadata": {
        "id": "C0xqUjBg2e2e"
      },
      "source": [
        "First lest's define a function to help visualize transformations on data."
      ]
    },
    {
      "cell_type": "code",
      "execution_count": 85,
      "metadata": {
        "id": "_Y83EHtQ2e2f"
      },
      "outputs": [],
      "source": [
        "def print_diff(dataset_original, dataset_changed, limit=4):\n",
        "    # Print the original and changed values from lists\n",
        "    count = 0\n",
        "    for original, modified in zip(dataset_original, dataset_changed):\n",
        "        if original != modified:\n",
        "            print(f'Original: {original}')\n",
        "            print(f'Changed:  {modified}')\n",
        "            print('')\n",
        "            count += 1\n",
        "            if count >= limit:\n",
        "                break"
      ]
    },
    {
      "cell_type": "markdown",
      "metadata": {
        "id": "BuRcNIUe2e2f"
      },
      "source": [
        "##### \\n and \\r"
      ]
    },
    {
      "cell_type": "markdown",
      "metadata": {
        "id": "WWrE_R6E2e2f"
      },
      "source": [
        "As long as we consider the global internet as the source of our comments, probably we have to deal with some HTML tags, break lines, special characteres and other content that could be part of the dataset. Let's dig a little bit more on Regular Expressions to search for those patterns.\n",
        "\n",
        "First of all, let's define a function that will be used for analysing the results of an applied regular expression. With this we can validate our text pre processing in an easier way."
      ]
    },
    {
      "cell_type": "code",
      "execution_count": 86,
      "metadata": {
        "colab": {
          "base_uri": "https://localhost:8080/"
        },
        "id": "KAr5oCeT2e2g",
        "outputId": "2183de62-af26-4ebb-f14d-b260dc4e62a9"
      },
      "outputs": [
        {
          "name": "stdout",
          "output_type": "stream",
          "text": [
            "Original: Mas um pouco ,travando...pelo valor ta Boa.\n",
            "\n",
            "Changed:  Mas um pouco ,travando...pelo valor ta Boa.  \n",
            "\n",
            "Original: A compra foi realizada facilmente.\n",
            "A entrega foi efetuada muito antes do prazo dado.\n",
            "O produto já começou a ser usado e até o presente,\n",
            "sem problemas.\n",
            "Changed:  A compra foi realizada facilmente.  A entrega foi efetuada muito antes do prazo dado.  O produto já começou a ser usado e até o presente,  sem problemas.\n",
            "\n",
            "Original: recebi somente 1 controle Midea Split ESTILO.\n",
            "Faltou Controle Remoto para Ar Condicionado Consul\n",
            "Changed:  recebi somente 1 controle Midea Split ESTILO.  Faltou Controle Remoto para Ar Condicionado Consul\n",
            "\n",
            "Original: Ocorreu tudo como contratado sendo a entrega realizada antes do prazo \n",
            " Estou satisfeita\n",
            "\n",
            "Changed:  Ocorreu tudo como contratado sendo a entrega realizada antes do prazo    Estou satisfeita  \n",
            "\n"
          ]
        }
      ],
      "source": [
        "def re_breakline(text_list):\n",
        "    \"\"\"\n",
        "    Args:\n",
        "    ----------\n",
        "    text_list: list object with text content to be prepared [type: list]\n",
        "    \"\"\"\n",
        "\n",
        "    # Applying regex\n",
        "    return [re.sub('[\\n\\r]', ' ', r) for r in text_list]\n",
        "\n",
        "# Creating a list of comment reviews\n",
        "reviews = list(df_comments['comment'].values)\n",
        "\n",
        "# Applying RegEx\n",
        "reviews_breakline = re_breakline(reviews)\n",
        "df_comments['re_breakline'] = reviews_breakline\n",
        "\n",
        "# Verifying results\n",
        "print_diff(reviews, reviews_breakline)"
      ]
    },
    {
      "cell_type": "markdown",
      "metadata": {},
      "source": [
        "### Word substitution\n",
        "\n",
        "We will substitute some metadata for a word representing the concept. The main idea is to generalize the concept, making it easier for the model to get more information from this data."
      ]
    },
    {
      "cell_type": "markdown",
      "metadata": {
        "id": "tTrs1rQt2e2g"
      },
      "source": [
        "##### links"
      ]
    },
    {
      "cell_type": "code",
      "execution_count": 87,
      "metadata": {
        "colab": {
          "base_uri": "https://localhost:8080/"
        },
        "id": "tLdPtI6b2e2g",
        "outputId": "3f36f3bb-5d99-4908-a103-82790e588448"
      },
      "outputs": [
        {
          "name": "stdout",
          "output_type": "stream",
          "text": [
            "Original: comprei o produto pela cor ilustrada pelo site da loja americana, no site mostra ser preto http://prntscr.com/jkx7hr quando o produto chegou aqui veio todos com a mesma cor, tabaco http://prntscr.com/\n",
            "Changed:  comprei o produto pela cor ilustrada pelo site da loja americana, no site mostra ser preto  link  quando o produto chegou aqui veio todos com a mesma cor, tabaco  link \n",
            "\n"
          ]
        },
        {
          "name": "stderr",
          "output_type": "stream",
          "text": [
            "<>:9: SyntaxWarning: invalid escape sequence '\\('\n",
            "<>:9: SyntaxWarning: invalid escape sequence '\\('\n",
            "/tmp/ipykernel_32902/3933676453.py:9: SyntaxWarning: invalid escape sequence '\\('\n",
            "  pattern = 'http[s]?://(?:[a-zA-Z]|[0-9]|[$-_@.&+]|[!*\\(\\),]|(?:%[0-9a-fA-F][0-9a-fA-F]))+'\n"
          ]
        }
      ],
      "source": [
        "def re_hiperlinks(text_list):\n",
        "    \"\"\"\n",
        "    Args:\n",
        "    ----------\n",
        "    text_list: list object with text content to be prepared [type: list]\n",
        "    \"\"\"\n",
        "\n",
        "    # Applying regex\n",
        "    pattern = 'http[s]?://(?:[a-zA-Z]|[0-9]|[$-_@.&+]|[!*\\(\\),]|(?:%[0-9a-fA-F][0-9a-fA-F]))+'\n",
        "    return [re.sub(pattern, ' link ', r) for r in text_list]\n",
        "\n",
        "# Applying RegEx\n",
        "reviews_hiperlinks = re_hiperlinks(reviews_breakline)\n",
        "df_comments['re_hiperlinks'] = reviews_hiperlinks\n",
        "\n",
        "# Printing differences\n",
        "print_diff(reviews_breakline, reviews_hiperlinks)"
      ]
    },
    {
      "cell_type": "markdown",
      "metadata": {
        "id": "gx4Da0j22e2h"
      },
      "source": [
        "##### dates"
      ]
    },
    {
      "cell_type": "code",
      "execution_count": 88,
      "metadata": {
        "colab": {
          "base_uri": "https://localhost:8080/"
        },
        "id": "xiX7V5Jx2e2h",
        "outputId": "e1a59983-ad76-4678-e20c-f73ece627f53"
      },
      "outputs": [
        {
          "name": "stdout",
          "output_type": "stream",
          "text": [
            "Original: A targaryen não é de confiança não entregou a minha compra e colocou no rastreamento do pedido que foi entregue no dia 14/12/17 empresa falsa quero receber meus produtos que foram pagos com boleto bancari\n",
            "Changed:  A targaryen não é de confiança não entregou a minha compra e colocou no rastreamento do pedido que foi entregue no dia  data  empresa falsa quero receber meus produtos que foram pagos com boleto bancari\n",
            "\n",
            "Original: ENTREGA MUITO DEMORADA, COMPREI EM 26/03/2018 E ATÉ AGORA NÃO RECEBI OS PRODUTOS\n",
            "Changed:  ENTREGA MUITO DEMORADA, COMPREI EM  data  E ATÉ AGORA NÃO RECEBI OS PRODUTOS\n",
            "\n",
            "Original: ainda nao recebi e a ultima informacao sobre p produto e do dia 08/12/2017.\n",
            "Changed:  ainda nao recebi e a ultima informacao sobre p produto e do dia  data .\n",
            "\n",
            "Original: Comprei duas bonecas baby kiss Sid nil dia 07/12/17 e eles entregaram somente 1 boneca ,não veio junto nota fiscal,caixa amassada e também não consigo contato com a lannister o telefone só da ocupado\n",
            "Changed:  Comprei duas bonecas baby kiss Sid nil dia  data  e eles entregaram somente 1 boneca ,não veio junto nota fiscal,caixa amassada e também não consigo contato com a lannister o telefone só da ocupado\n",
            "\n"
          ]
        },
        {
          "name": "stderr",
          "output_type": "stream",
          "text": [
            "<>:9: SyntaxWarning: invalid escape sequence '\\/'\n",
            "<>:9: SyntaxWarning: invalid escape sequence '\\/'\n",
            "/tmp/ipykernel_32902/1465912373.py:9: SyntaxWarning: invalid escape sequence '\\/'\n",
            "  pattern = '([0-2][0-9]|(3)[0-1])(\\/|\\.)(((0)[0-9])|((1)[0-2]))(\\/|\\.)\\d{2,4}'\n"
          ]
        }
      ],
      "source": [
        "def re_dates(text_list):\n",
        "    \"\"\"\n",
        "    Args:\n",
        "    ----------\n",
        "    text_list: list object with text content to be prepared [type: list]\n",
        "    \"\"\"\n",
        "\n",
        "    # Applying regex\n",
        "    pattern = '([0-2][0-9]|(3)[0-1])(\\/|\\.)(((0)[0-9])|((1)[0-2]))(\\/|\\.)\\d{2,4}'\n",
        "    return [re.sub(pattern, ' data ', r) for r in text_list]\n",
        "\n",
        "\n",
        "# Applying RegEx\n",
        "reviews_dates = re_dates(reviews_hiperlinks)\n",
        "df_comments['re_dates'] = reviews_dates\n",
        "\n",
        "# Verifying results\n",
        "print_diff(reviews_hiperlinks, reviews_dates)\n"
      ]
    },
    {
      "cell_type": "markdown",
      "metadata": {
        "id": "atie-uYj2e2h"
      },
      "source": [
        "##### money"
      ]
    },
    {
      "cell_type": "code",
      "execution_count": 89,
      "metadata": {
        "colab": {
          "base_uri": "https://localhost:8080/"
        },
        "id": "vP2RbQS22e2i",
        "outputId": "e46539ea-e70b-41e0-c0c5-6ac0058c0b84"
      },
      "outputs": [
        {
          "name": "stdout",
          "output_type": "stream",
          "text": [
            "Original: Este foi o pedido  Balde Com 128 Peças - Blocos De Montar 2 un - R$ 25,00 cada (NÃO FOI ENTREGUE)  Vendido e entregue targaryen  Tapete de Eva Nº Letras 36 Peças Crianças 1 un - R$ 35,90 (ESTE FOI ENTREG\n",
            "Changed:  Este foi o pedido  Balde Com 128 Peças - Blocos De Montar 2 un -  dinheiro  cada (NÃO FOI ENTREGUE)  Vendido e entregue targaryen  Tapete de Eva Nº Letras 36 Peças Crianças 1 un -  dinheiro  (ESTE FOI ENTREG\n",
            "\n",
            "Original: Comprei 4 produtos, sendo que só recebi 3. Faltou um lençol branco sem elástico. Foi quase R$ 100,00. E como eu fico? No prejuizo?\n",
            "Changed:  Comprei 4 produtos, sendo que só recebi 3. Faltou um lençol branco sem elástico. Foi quase  dinheiro . E como eu fico? No prejuizo?\n",
            "\n",
            "Original: Relógio belíssimo, muito elegante, inacreditável diante do valor de menos de R$ 150,00! Veio muito bem embrulhado e protegido, fora que tem também caixa muito chique, como se fosse jóia!!! Recomendo\n",
            "Changed:  Relógio belíssimo, muito elegante, inacreditável diante do valor de menos de  dinheiro ! Veio muito bem embrulhado e protegido, fora que tem também caixa muito chique, como se fosse jóia!!! Recomendo\n",
            "\n",
            "Original: Entrega super rápida. Quanto ao produto, não gostei tanto, imaginei que seria melhor e mais bonito, se tivesse visto em uma loja, pegado em mãos antes não teria pagado R$21,90 não, mas ok.\n",
            "Changed:  Entrega super rápida. Quanto ao produto, não gostei tanto, imaginei que seria melhor e mais bonito, se tivesse visto em uma loja, pegado em mãos antes não teria pagado  dinheiro  não, mas ok.\n",
            "\n"
          ]
        },
        {
          "name": "stderr",
          "output_type": "stream",
          "text": [
            "<>:9: SyntaxWarning: invalid escape sequence '\\$'\n",
            "<>:9: SyntaxWarning: invalid escape sequence '\\$'\n",
            "/tmp/ipykernel_32902/2976552402.py:9: SyntaxWarning: invalid escape sequence '\\$'\n",
            "  pattern = '[R]{0,1}\\$[ ]{0,}\\d+(,|\\.)\\d+'\n"
          ]
        }
      ],
      "source": [
        "def re_money(text_list):\n",
        "    \"\"\"\n",
        "    Args:\n",
        "    ----------\n",
        "    text_list: list object with text content to be prepared [type: list]\n",
        "    \"\"\"\n",
        "\n",
        "    # Applying regex\n",
        "    pattern = '[R]{0,1}\\$[ ]{0,}\\d+(,|\\.)\\d+'\n",
        "    return [re.sub(pattern, ' dinheiro ', r) for r in text_list]\n",
        "\n",
        "# Applying RegEx\n",
        "reviews_money = re_money(reviews_dates)\n",
        "df_comments['re_money'] = reviews_money\n",
        "\n",
        "# Verifying results\n",
        "print_diff(reviews_dates, reviews_money)"
      ]
    },
    {
      "cell_type": "markdown",
      "metadata": {
        "id": "zo3LG4W42e2i"
      },
      "source": [
        "#### numbers"
      ]
    },
    {
      "cell_type": "code",
      "execution_count": 90,
      "metadata": {
        "colab": {
          "base_uri": "https://localhost:8080/"
        },
        "id": "9QZNM5Ig2e2i",
        "outputId": "2d58acb8-9d6a-4390-e968-18081b251cec"
      },
      "outputs": [
        {
          "name": "stdout",
          "output_type": "stream",
          "text": [
            "Original: aparelho eficiente. no site a marca do aparelho esta impresso como 3desinfector e ao chegar esta com outro nome...atualizar com a marca correta uma vez que é o mesmo aparelho\n",
            "Changed:  aparelho eficiente. no site a marca do aparelho esta impresso como  numero desinfector e ao chegar esta com outro nome...atualizar com a marca correta uma vez que é o mesmo aparelho\n",
            "\n",
            "Original: Loja nota 10\n",
            "Changed:  Loja nota  numero \n",
            "\n",
            "Original: recebi somente 1 controle Midea Split ESTILO.  Faltou Controle Remoto para Ar Condicionado Consul\n",
            "Changed:  recebi somente  numero  controle Midea Split ESTILO.  Faltou Controle Remoto para Ar Condicionado Consul\n",
            "\n",
            "Original: Este foi o pedido  Balde Com 128 Peças - Blocos De Montar 2 un -  dinheiro  cada (NÃO FOI ENTREGUE)  Vendido e entregue targaryen  Tapete de Eva Nº Letras 36 Peças Crianças 1 un -  dinheiro  (ESTE FOI ENTREG\n",
            "Changed:  Este foi o pedido  Balde Com  numero  Peças - Blocos De Montar  numero  un -  dinheiro  cada (NÃO FOI ENTREGUE)  Vendido e entregue targaryen  Tapete de Eva Nº Letras  numero  Peças Crianças  numero  un -  dinheiro  (ESTE FOI ENTREG\n",
            "\n"
          ]
        }
      ],
      "source": [
        "def re_numbers(text_list):\n",
        "    \"\"\"\n",
        "    Args:\n",
        "    ----------\n",
        "    text_series: list object with text content to be prepared [type: list]\n",
        "    \"\"\"\n",
        "\n",
        "    return [re.sub('[0-9]+', ' numero ', r) for r in text_list]\n",
        "\n",
        "reviews_numbers = re_numbers(reviews_money)\n",
        "df_comments['re_numbers'] = reviews_numbers\n",
        "\n",
        "print_diff(reviews_money, reviews_numbers)"
      ]
    },
    {
      "cell_type": "markdown",
      "metadata": {
        "id": "Ce6DpA1f2e2j"
      },
      "source": [
        "#### negation"
      ]
    },
    {
      "cell_type": "code",
      "execution_count": 91,
      "metadata": {
        "colab": {
          "base_uri": "https://localhost:8080/"
        },
        "id": "DsOpxaDK2e2j",
        "outputId": "9b895e22-33f4-4278-8fc9-9f01718cb006"
      },
      "outputs": [
        {
          "name": "stdout",
          "output_type": "stream",
          "text": [
            "Original: Não gostei ! Comprei gato por lebre\n",
            "Changed:   negação  gostei ! Comprei gato por lebre\n",
            "\n",
            "Original: Sempre compro pela Internet e a entrega ocorre antes do prazo combinado, que acredito ser o prazo máximo. No stark o prazo máximo já se esgotou e ainda não recebi o produto.\n",
            "Changed:  Sempre compro pela Internet e a entrega ocorre antes do prazo combinado, que acredito ser o prazo máximo. No stark o prazo máximo já se esgotou e ainda  negação  recebi o produto.\n",
            "\n",
            "Original: O produto não chegou no prazo estipulado e causou transtorno, pq programei a viagem de férias do meu filho, baseado no prazo. Moro na Bahia e ele em Cuiabá sozinho. Agora, a casa está vazia. \n",
            "Changed:  O produto  negação  chegou no prazo estipulado e causou transtorno, pq programei a viagem de férias do meu filho, baseado no prazo. Moro na Bahia e ele em Cuiabá sozinho. Agora, a casa está vazia. \n",
            "\n",
            "Original: Produto bom, porém o que veio para mim não condiz com a foto do anúncio.\n",
            "Changed:  Produto bom, porém o que veio para mim  negação  condiz com a foto do anúncio.\n",
            "\n"
          ]
        }
      ],
      "source": [
        "def re_negation(text_list):\n",
        "    \"\"\"\n",
        "    Args:\n",
        "    ----------\n",
        "    text_series: list object with text content to be prepared [type: list]\n",
        "    \"\"\"\n",
        "\n",
        "    return [re.sub('([nN][ãÃaA][oO]|[ñÑ]| [nN] )', ' negação ', r) for r in text_list]\n",
        "\n",
        "reviews_negation = re_negation(reviews_numbers)\n",
        "df_comments['re_negation'] = reviews_negation\n",
        "\n",
        "print_diff(reviews_numbers, reviews_negation)"
      ]
    },
    {
      "cell_type": "markdown",
      "metadata": {
        "id": "iwVZfy522e2k"
      },
      "source": [
        "##### special characters"
      ]
    },
    {
      "cell_type": "code",
      "execution_count": 92,
      "metadata": {
        "colab": {
          "base_uri": "https://localhost:8080/"
        },
        "id": "hwTb3zgG2e2k",
        "outputId": "43a02c72-c965-45ac-be58-517e289a11c4"
      },
      "outputs": [
        {
          "name": "stdout",
          "output_type": "stream",
          "text": [
            "Original: Recebi bem antes do prazo estipulado.\n",
            "Changed:  Recebi bem antes do prazo estipulado \n",
            "\n",
            "Original: aparelho eficiente. no site a marca do aparelho esta impresso como  numero desinfector e ao chegar esta com outro nome...atualizar com a marca correta uma vez que é o mesmo aparelho\n",
            "Changed:  aparelho eficiente  no site a marca do aparelho esta impresso como  numero desinfector e ao chegar esta com outro nome   atualizar com a marca correta uma vez que é o mesmo aparelho\n",
            "\n",
            "Original: Mas um pouco ,travando...pelo valor ta Boa.  \n",
            "Changed:  Mas um pouco  travando   pelo valor ta Boa   \n",
            "\n",
            "Original: Vendedor confiável, produto ok e entrega antes do prazo.\n",
            "Changed:  Vendedor confiável  produto ok e entrega antes do prazo \n",
            "\n",
            "Original: GOSTARIA DE SABER O QUE HOUVE, SEMPRE RECEBI E ESSA COMPRA AGORA ME DECPCIONOU\n",
            "Changed:  GOSTARIA DE SABER O QUE HOUVE  SEMPRE RECEBI E ESSA COMPRA AGORA ME DECPCIONOU\n",
            "\n",
            "Original: A compra foi realizada facilmente.  A entrega foi efetuada muito antes do prazo dado.  O produto já começou a ser usado e até o presente,  sem problemas.\n",
            "Changed:  A compra foi realizada facilmente   A entrega foi efetuada muito antes do prazo dado   O produto já começou a ser usado e até o presente   sem problemas \n",
            "\n"
          ]
        },
        {
          "name": "stderr",
          "output_type": "stream",
          "text": [
            "<>:8: SyntaxWarning: invalid escape sequence '\\W'\n",
            "<>:8: SyntaxWarning: invalid escape sequence '\\W'\n",
            "/tmp/ipykernel_32902/3997496433.py:8: SyntaxWarning: invalid escape sequence '\\W'\n",
            "  return [re.sub('\\W', ' ', r) for r in text_list]\n"
          ]
        }
      ],
      "source": [
        "def re_special_chars(text_list):\n",
        "    \"\"\"\n",
        "    Args:\n",
        "    ----------\n",
        "    text_series: list object with text content to be prepared [type: list]\n",
        "    \"\"\"\n",
        "\n",
        "    return [re.sub('\\W', ' ', r) for r in text_list]\n",
        "\n",
        "reviews_special_chars = re_special_chars(reviews_negation)\n",
        "df_comments['re_special_chars'] = reviews_special_chars\n",
        "\n",
        "print_diff(reviews_negation, reviews_special_chars, limit=6)"
      ]
    },
    {
      "cell_type": "markdown",
      "metadata": {
        "id": "MPuqhOJz2e2k"
      },
      "source": [
        "##### whitespaces"
      ]
    },
    {
      "cell_type": "code",
      "execution_count": 93,
      "metadata": {
        "colab": {
          "base_uri": "https://localhost:8080/"
        },
        "id": "EZcyCaL02e2l",
        "outputId": "63dc9094-01f7-4dd4-dbd1-97e6dd47d899"
      },
      "outputs": [
        {
          "name": "stderr",
          "output_type": "stream",
          "text": [
            "<>:9: SyntaxWarning: invalid escape sequence '\\s'\n",
            "<>:9: SyntaxWarning: invalid escape sequence '\\s'\n",
            "/tmp/ipykernel_32902/1907526812.py:9: SyntaxWarning: invalid escape sequence '\\s'\n",
            "  white_spaces = [re.sub('\\s+', ' ', r) for r in text_list]\n"
          ]
        },
        {
          "name": "stdout",
          "output_type": "stream",
          "text": [
            "Original: Recebi bem antes do prazo estipulado \n",
            "Changed:  Recebi bem antes do prazo estipulado\n",
            "\n",
            "Original: aparelho eficiente  no site a marca do aparelho esta impresso como  numero desinfector e ao chegar esta com outro nome   atualizar com a marca correta uma vez que é o mesmo aparelho\n",
            "Changed:  aparelho eficiente no site a marca do aparelho esta impresso como numero desinfector e ao chegar esta com outro nome atualizar com a marca correta uma vez que é o mesmo aparelho\n",
            "\n",
            "Original: Mas um pouco  travando   pelo valor ta Boa   \n",
            "Changed:  Mas um pouco travando pelo valor ta Boa\n",
            "\n",
            "Original: Vendedor confiável  produto ok e entrega antes do prazo \n",
            "Changed:  Vendedor confiável produto ok e entrega antes do prazo\n",
            "\n"
          ]
        }
      ],
      "source": [
        "def re_whitespaces(text_list):\n",
        "    \"\"\"\n",
        "    Args:\n",
        "    ----------\n",
        "    text_series: list object with text content to be prepared [type: list]\n",
        "    \"\"\"\n",
        "\n",
        "    # Applying regex\n",
        "    white_spaces = [re.sub('\\s+', ' ', r) for r in text_list]\n",
        "    white_spaces_end = [re.sub('[ \\t]+$', '', r) for r in white_spaces]\n",
        "    return white_spaces_end\n",
        "\n",
        "reviews_whitespaces = re_whitespaces(reviews_special_chars)\n",
        "df_comments['re_whitespaces'] = reviews_whitespaces\n",
        "\n",
        "# Verifying results\n",
        "print_diff(reviews_special_chars, reviews_whitespaces)"
      ]
    },
    {
      "cell_type": "markdown",
      "metadata": {
        "id": "J-3O9Vxr2e2l"
      },
      "source": [
        "##### stopwords"
      ]
    },
    {
      "cell_type": "code",
      "execution_count": 94,
      "metadata": {
        "colab": {
          "base_uri": "https://localhost:8080/"
        },
        "id": "JbgVnPFy2e2l",
        "outputId": "33ad18ce-10e7-4c27-fb53-78813e8a8c13"
      },
      "outputs": [
        {
          "name": "stdout",
          "output_type": "stream",
          "text": [
            "Total portuguese stopwords in the nltk.corpous module: 207\n",
            "['a', 'à', 'ao', 'aos', 'aquela', 'aquelas', 'aquele', 'aqueles', 'aquilo', 'as']\n"
          ]
        },
        {
          "name": "stderr",
          "output_type": "stream",
          "text": [
            "[nltk_data] Downloading package stopwords to /home/carlos/nltk_data...\n",
            "[nltk_data]   Package stopwords is already up-to-date!\n"
          ]
        }
      ],
      "source": [
        "# Download stopwords\n",
        "nltk.download('stopwords')\n",
        "\n",
        "# Examples of some portuguese stopwords\n",
        "pt_stopwords = nltk.corpus.stopwords.words('portuguese')\n",
        "print(f'Total portuguese stopwords in the nltk.corpous module: {len(pt_stopwords)}')\n",
        "print(pt_stopwords[:10])"
      ]
    },
    {
      "cell_type": "code",
      "execution_count": 95,
      "metadata": {
        "colab": {
          "base_uri": "https://localhost:8080/"
        },
        "id": "FxzScKdF2e2m",
        "outputId": "93357c3f-fb3f-40c6-c8ea-99a0f96f6ee6"
      },
      "outputs": [
        {
          "name": "stdout",
          "output_type": "stream",
          "text": [
            "Original: Recebi bem antes do prazo estipulado\n",
            "Changed:  recebi bem antes prazo estipulado\n",
            "\n",
            "Original: Parabéns lojas lannister adorei comprar pela Internet seguro e prático Parabéns a todos feliz Páscoa\n",
            "Changed:  parabéns lojas lannister adorei comprar internet seguro prático parabéns todos feliz páscoa\n",
            "\n",
            "Original: aparelho eficiente no site a marca do aparelho esta impresso como numero desinfector e ao chegar esta com outro nome atualizar com a marca correta uma vez que é o mesmo aparelho\n",
            "Changed:  aparelho eficiente site marca aparelho impresso numero desinfector chegar outro nome atualizar marca correta vez aparelho\n",
            "\n",
            "Original: Mas um pouco travando pelo valor ta Boa\n",
            "Changed:  pouco travando valor ta boa\n",
            "\n"
          ]
        }
      ],
      "source": [
        "# Defining a function to remove the stopwords and to lower the comments\n",
        "def stopwords_removal(text, cached_stopwords=nltk.corpus.stopwords.words('portuguese')):\n",
        "    \"\"\"\n",
        "    Args:\n",
        "    ----------\n",
        "    text: list object where the stopwords will be removed [type: list]\n",
        "    cached_stopwords: stopwords to be applied on the process [type: list, default: stopwords.words('portuguese')]\n",
        "    \"\"\"\n",
        "\n",
        "    return [c.lower() for c in text.split() if c.lower() not in cached_stopwords]\n",
        "\n",
        "reviews_stopwords = [' '.join(stopwords_removal(review)) for review in reviews_whitespaces]\n",
        "df_comments['stopwords_removed'] = reviews_stopwords\n",
        "\n",
        "print_diff(reviews_whitespaces, reviews_stopwords)"
      ]
    },
    {
      "cell_type": "markdown",
      "metadata": {
        "id": "I2gBO7_F2e2m"
      },
      "source": [
        "##### stemming\n",
        "\n",
        "Stemming is a text normalization process used in Natural Language Processing (NLP) to reduce words to their root or base form. The goal is to group together different forms of a word so they can be analyzed as a single item. For example, the words \"running\", \"runner\", and \"ran\" can all be reduced to the root word \"run\"."
      ]
    },
    {
      "cell_type": "code",
      "execution_count": 96,
      "metadata": {
        "colab": {
          "base_uri": "https://localhost:8080/"
        },
        "id": "0ozVKz0U2e2n",
        "outputId": "0d8f2d6b-dff9-4a74-e449-d4c8e2a6c314"
      },
      "outputs": [
        {
          "name": "stderr",
          "output_type": "stream",
          "text": [
            "[nltk_data] Downloading package rslp to /home/carlos/nltk_data...\n",
            "[nltk_data]   Package rslp is already up-to-date!\n"
          ]
        },
        {
          "data": {
            "text/plain": [
              "True"
            ]
          },
          "execution_count": 96,
          "metadata": {},
          "output_type": "execute_result"
        }
      ],
      "source": [
        "# Download rslp\n",
        "nltk.download('rslp')"
      ]
    },
    {
      "cell_type": "code",
      "execution_count": 97,
      "metadata": {
        "colab": {
          "base_uri": "https://localhost:8080/"
        },
        "id": "65_Dj5fr2e2n",
        "outputId": "d0510dc3-3bfe-4372-ba27-195efbfc0334"
      },
      "outputs": [
        {
          "name": "stdout",
          "output_type": "stream",
          "text": [
            "Original: recebi bem antes prazo estipulado\n",
            "Changed:  receb bem ant praz estipul\n",
            "\n",
            "Original: parabéns lojas lannister adorei comprar internet seguro prático parabéns todos feliz páscoa\n",
            "Changed:  parabém loj lannist ador compr internet segur prát parabém tod feliz pásco\n",
            "\n",
            "Original: aparelho eficiente site marca aparelho impresso numero desinfector chegar outro nome atualizar marca correta vez aparelho\n",
            "Changed:  aparelh efici sit marc aparelh impress numer desinfec cheg outr nom atual marc corret vez aparelh\n",
            "\n",
            "Original: pouco travando valor ta boa\n",
            "Changed:  pouc trav val ta boa\n",
            "\n"
          ]
        }
      ],
      "source": [
        "# Defining a function to remove the stopwords and to lower the comments\n",
        "def stemming_process(text, stemmer=nltk.stem.RSLPStemmer()):\n",
        "    \"\"\"\n",
        "    Args:\n",
        "    ----------\n",
        "    text: list object where the stopwords will be removed [type: list]\n",
        "    stemmer: type of stemmer to be applied [type: class, default: RSLPStemmer()]\n",
        "    \"\"\"\n",
        "\n",
        "    return [stemmer.stem(c) for c in text.split()]\n",
        "\n",
        "# Applying stemming and looking at some examples\n",
        "reviews_stemmer = [' '.join(stemming_process(review)) for review in reviews_stopwords]\n",
        "df_comments['stemming'] = reviews_stemmer\n",
        "\n",
        "print_diff(reviews_stopwords, reviews_stemmer)"
      ]
    },
    {
      "cell_type": "code",
      "execution_count": 98,
      "metadata": {
        "id": "bAqKArZC2e2p"
      },
      "outputs": [],
      "source": [
        "reviews_final = reviews_stemmer"
      ]
    },
    {
      "cell_type": "markdown",
      "metadata": {
        "id": "c5BN5mhvAICD"
      },
      "source": [
        "#### tokenization and pad"
      ]
    },
    {
      "cell_type": "code",
      "execution_count": 99,
      "metadata": {
        "colab": {
          "base_uri": "https://localhost:8080/"
        },
        "id": "tnpp2e-e_9Ue",
        "outputId": "ae425ff4-6d07-45b2-add4-b55a695434bc"
      },
      "outputs": [
        {
          "data": {
            "text/plain": [
              "array([[   8,   13,    9,    4,  162,    0,    0,    0,    0,    0,    0,\n",
              "           0,    0,    0,    0,    0,    0,    0,    0,    0,    0,    0,\n",
              "           0,    0,    0,    0,    0,    0,    0,    0,    0,    0,    0,\n",
              "           0,    0,    0,    0],\n",
              "       [  48,   15,   34,   47,    5,  353,  327,  421,   48,   38,  288,\n",
              "        3113,    0,    0,    0,    0,    0,    0,    0,    0,    0,    0,\n",
              "           0,    0,    0,    0,    0,    0,    0,    0,    0,    0,    0,\n",
              "           0,    0,    0,    0],\n",
              "       [ 303,  200,   35,  185,  303,  493,    6, 4117,    7,   32,  459,\n",
              "         545,  185,   43,   74,  303,    0,    0,    0,    0,    0,    0,\n",
              "           0,    0,    0,    0,    0,    0,    0,    0,    0,    0,    0,\n",
              "           0,    0,    0,    0],\n",
              "       [  97, 1315,   63,  599,   31,    0,    0,    0,    0,    0,    0,\n",
              "           0,    0,    0,    0,    0,    0,    0,    0,    0,    0,    0,\n",
              "           0,    0,    0,    0,    0,    0,    0,    0,    0,    0,    0,\n",
              "           0,    0,    0,    0],\n",
              "       [  54,  202,    1,   64,    3,    9,    4,    0,    0,    0,    0,\n",
              "           0,    0,    0,    0,    0,    0,    0,    0,    0,    0,    0,\n",
              "           0,    0,    0,    0,    0,    0,    0,    0,    0,    0,    0,\n",
              "           0,    0,    0,    0]], dtype=int32)"
            ]
          },
          "execution_count": 99,
          "metadata": {},
          "output_type": "execute_result"
        }
      ],
      "source": [
        "# Tokenization and padding\n",
        "tokenizer = Tokenizer()\n",
        "tokenizer.fit_on_texts(reviews_final)\n",
        "\n",
        "reviews_sequences = tokenizer.texts_to_sequences(reviews_final)\n",
        "\n",
        "max_length = max(len(seq) for seq in reviews_sequences)\n",
        "reviews_padded = pad_sequences(reviews_sequences, maxlen=max_length, padding='post')\n",
        "\n",
        "reviews_padded[:5]"
      ]
    },
    {
      "cell_type": "markdown",
      "metadata": {
        "id": "YDTJDqb52e2p"
      },
      "source": [
        "# Sentiment Classification"
      ]
    },
    {
      "cell_type": "markdown",
      "metadata": {
        "id": "OlTmgJNv2e2q"
      },
      "source": [
        "## Deep Neural Networks"
      ]
    },
    {
      "cell_type": "markdown",
      "metadata": {
        "id": "YZSlwHMp2e2r"
      },
      "source": [
        "Dive data into train, validation and test (80%, 10%, 10%)."
      ]
    },
    {
      "cell_type": "code",
      "execution_count": 100,
      "metadata": {
        "colab": {
          "base_uri": "https://localhost:8080/"
        },
        "id": "MNgPoNst2e2r",
        "outputId": "eac3109c-870f-493a-ce49-3055d9a42c19"
      },
      "outputs": [
        {
          "name": "stdout",
          "output_type": "stream",
          "text": [
            "Sizes: \n",
            " train: 32781 \n",
            " val: 4098 \n",
            " test: 4098\n"
          ]
        }
      ],
      "source": [
        "def train_val_test_split(X, y):\n",
        "    # Initial division: train and test\n",
        "    X_train, X_test, y_train, y_test = train_test_split(\n",
        "        X, y, test_size=0.2, random_state=42\n",
        "    )\n",
        "\n",
        "    # Secondary division: test and validation\n",
        "    X_test, X_val, y_test, y_val = train_test_split(\n",
        "        X_test, y_test, test_size=0.5, random_state=42\n",
        "    )\n",
        "\n",
        "    return X_train, X_val, X_test, y_train, y_val, y_test\n",
        "\n",
        "X_train, X_val, X_test, y_train, y_val, y_test = train_val_test_split(reviews_padded, y)\n",
        "print(f\"Sizes: \\n train: {len(X_train)} \\n val: {len(X_val)} \\n test: {len(X_test)}\")"
      ]
    },
    {
      "cell_type": "code",
      "execution_count": 101,
      "metadata": {
        "id": "pzU7ss0u2e2s"
      },
      "outputs": [],
      "source": [
        "tf.random.set_seed(42)"
      ]
    },
    {
      "cell_type": "code",
      "execution_count": 102,
      "metadata": {
        "colab": {
          "base_uri": "https://localhost:8080/",
          "height": 384
        },
        "id": "COxTzS-A2e2s",
        "outputId": "819292cf-0c73-48cc-f5d3-f1cba24b5412"
      },
      "outputs": [
        {
          "name": "stderr",
          "output_type": "stream",
          "text": [
            "/home/carlos/.cache/pypoetry/virtualenvs/brazilian-e-commerce-nlp-deep-learning-Rk9x1azB-py3.12/lib/python3.12/site-packages/keras/src/layers/core/dense.py:87: UserWarning: Do not pass an `input_shape`/`input_dim` argument to a layer. When using Sequential models, prefer using an `Input(shape)` object as the first layer in the model instead.\n",
            "  super().__init__(activity_regularizer=activity_regularizer, **kwargs)\n"
          ]
        },
        {
          "data": {
            "text/html": [
              "<pre style=\"white-space:pre;overflow-x:auto;line-height:normal;font-family:Menlo,'DejaVu Sans Mono',consolas,'Courier New',monospace\"><span style=\"font-weight: bold\">Model: \"sequential_8\"</span>\n",
              "</pre>\n"
            ],
            "text/plain": [
              "\u001b[1mModel: \"sequential_8\"\u001b[0m\n"
            ]
          },
          "metadata": {},
          "output_type": "display_data"
        },
        {
          "data": {
            "text/html": [
              "<pre style=\"white-space:pre;overflow-x:auto;line-height:normal;font-family:Menlo,'DejaVu Sans Mono',consolas,'Courier New',monospace\">┏━━━━━━━━━━━━━━━━━━━━━━━━━━━━━━━━━┳━━━━━━━━━━━━━━━━━━━━━━━━┳━━━━━━━━━━━━━━━┓\n",
              "┃<span style=\"font-weight: bold\"> Layer (type)                    </span>┃<span style=\"font-weight: bold\"> Output Shape           </span>┃<span style=\"font-weight: bold\">       Param # </span>┃\n",
              "┡━━━━━━━━━━━━━━━━━━━━━━━━━━━━━━━━━╇━━━━━━━━━━━━━━━━━━━━━━━━╇━━━━━━━━━━━━━━━┩\n",
              "│ dense_26 (<span style=\"color: #0087ff; text-decoration-color: #0087ff\">Dense</span>)                │ (<span style=\"color: #00d7ff; text-decoration-color: #00d7ff\">None</span>, <span style=\"color: #00af00; text-decoration-color: #00af00\">50</span>)             │         <span style=\"color: #00af00; text-decoration-color: #00af00\">1,900</span> │\n",
              "├─────────────────────────────────┼────────────────────────┼───────────────┤\n",
              "│ dropout_22 (<span style=\"color: #0087ff; text-decoration-color: #0087ff\">Dropout</span>)            │ (<span style=\"color: #00d7ff; text-decoration-color: #00d7ff\">None</span>, <span style=\"color: #00af00; text-decoration-color: #00af00\">50</span>)             │             <span style=\"color: #00af00; text-decoration-color: #00af00\">0</span> │\n",
              "├─────────────────────────────────┼────────────────────────┼───────────────┤\n",
              "│ dense_27 (<span style=\"color: #0087ff; text-decoration-color: #0087ff\">Dense</span>)                │ (<span style=\"color: #00d7ff; text-decoration-color: #00d7ff\">None</span>, <span style=\"color: #00af00; text-decoration-color: #00af00\">50</span>)             │         <span style=\"color: #00af00; text-decoration-color: #00af00\">2,550</span> │\n",
              "├─────────────────────────────────┼────────────────────────┼───────────────┤\n",
              "│ dropout_23 (<span style=\"color: #0087ff; text-decoration-color: #0087ff\">Dropout</span>)            │ (<span style=\"color: #00d7ff; text-decoration-color: #00d7ff\">None</span>, <span style=\"color: #00af00; text-decoration-color: #00af00\">50</span>)             │             <span style=\"color: #00af00; text-decoration-color: #00af00\">0</span> │\n",
              "├─────────────────────────────────┼────────────────────────┼───────────────┤\n",
              "│ dense_28 (<span style=\"color: #0087ff; text-decoration-color: #0087ff\">Dense</span>)                │ (<span style=\"color: #00d7ff; text-decoration-color: #00d7ff\">None</span>, <span style=\"color: #00af00; text-decoration-color: #00af00\">50</span>)             │         <span style=\"color: #00af00; text-decoration-color: #00af00\">2,550</span> │\n",
              "├─────────────────────────────────┼────────────────────────┼───────────────┤\n",
              "│ dense_29 (<span style=\"color: #0087ff; text-decoration-color: #0087ff\">Dense</span>)                │ (<span style=\"color: #00d7ff; text-decoration-color: #00d7ff\">None</span>, <span style=\"color: #00af00; text-decoration-color: #00af00\">1</span>)              │            <span style=\"color: #00af00; text-decoration-color: #00af00\">51</span> │\n",
              "└─────────────────────────────────┴────────────────────────┴───────────────┘\n",
              "</pre>\n"
            ],
            "text/plain": [
              "┏━━━━━━━━━━━━━━━━━━━━━━━━━━━━━━━━━┳━━━━━━━━━━━━━━━━━━━━━━━━┳━━━━━━━━━━━━━━━┓\n",
              "┃\u001b[1m \u001b[0m\u001b[1mLayer (type)                   \u001b[0m\u001b[1m \u001b[0m┃\u001b[1m \u001b[0m\u001b[1mOutput Shape          \u001b[0m\u001b[1m \u001b[0m┃\u001b[1m \u001b[0m\u001b[1m      Param #\u001b[0m\u001b[1m \u001b[0m┃\n",
              "┡━━━━━━━━━━━━━━━━━━━━━━━━━━━━━━━━━╇━━━━━━━━━━━━━━━━━━━━━━━━╇━━━━━━━━━━━━━━━┩\n",
              "│ dense_26 (\u001b[38;5;33mDense\u001b[0m)                │ (\u001b[38;5;45mNone\u001b[0m, \u001b[38;5;34m50\u001b[0m)             │         \u001b[38;5;34m1,900\u001b[0m │\n",
              "├─────────────────────────────────┼────────────────────────┼───────────────┤\n",
              "│ dropout_22 (\u001b[38;5;33mDropout\u001b[0m)            │ (\u001b[38;5;45mNone\u001b[0m, \u001b[38;5;34m50\u001b[0m)             │             \u001b[38;5;34m0\u001b[0m │\n",
              "├─────────────────────────────────┼────────────────────────┼───────────────┤\n",
              "│ dense_27 (\u001b[38;5;33mDense\u001b[0m)                │ (\u001b[38;5;45mNone\u001b[0m, \u001b[38;5;34m50\u001b[0m)             │         \u001b[38;5;34m2,550\u001b[0m │\n",
              "├─────────────────────────────────┼────────────────────────┼───────────────┤\n",
              "│ dropout_23 (\u001b[38;5;33mDropout\u001b[0m)            │ (\u001b[38;5;45mNone\u001b[0m, \u001b[38;5;34m50\u001b[0m)             │             \u001b[38;5;34m0\u001b[0m │\n",
              "├─────────────────────────────────┼────────────────────────┼───────────────┤\n",
              "│ dense_28 (\u001b[38;5;33mDense\u001b[0m)                │ (\u001b[38;5;45mNone\u001b[0m, \u001b[38;5;34m50\u001b[0m)             │         \u001b[38;5;34m2,550\u001b[0m │\n",
              "├─────────────────────────────────┼────────────────────────┼───────────────┤\n",
              "│ dense_29 (\u001b[38;5;33mDense\u001b[0m)                │ (\u001b[38;5;45mNone\u001b[0m, \u001b[38;5;34m1\u001b[0m)              │            \u001b[38;5;34m51\u001b[0m │\n",
              "└─────────────────────────────────┴────────────────────────┴───────────────┘\n"
            ]
          },
          "metadata": {},
          "output_type": "display_data"
        },
        {
          "data": {
            "text/html": [
              "<pre style=\"white-space:pre;overflow-x:auto;line-height:normal;font-family:Menlo,'DejaVu Sans Mono',consolas,'Courier New',monospace\"><span style=\"font-weight: bold\"> Total params: </span><span style=\"color: #00af00; text-decoration-color: #00af00\">7,051</span> (27.54 KB)\n",
              "</pre>\n"
            ],
            "text/plain": [
              "\u001b[1m Total params: \u001b[0m\u001b[38;5;34m7,051\u001b[0m (27.54 KB)\n"
            ]
          },
          "metadata": {},
          "output_type": "display_data"
        },
        {
          "data": {
            "text/html": [
              "<pre style=\"white-space:pre;overflow-x:auto;line-height:normal;font-family:Menlo,'DejaVu Sans Mono',consolas,'Courier New',monospace\"><span style=\"font-weight: bold\"> Trainable params: </span><span style=\"color: #00af00; text-decoration-color: #00af00\">7,051</span> (27.54 KB)\n",
              "</pre>\n"
            ],
            "text/plain": [
              "\u001b[1m Trainable params: \u001b[0m\u001b[38;5;34m7,051\u001b[0m (27.54 KB)\n"
            ]
          },
          "metadata": {},
          "output_type": "display_data"
        },
        {
          "data": {
            "text/html": [
              "<pre style=\"white-space:pre;overflow-x:auto;line-height:normal;font-family:Menlo,'DejaVu Sans Mono',consolas,'Courier New',monospace\"><span style=\"font-weight: bold\"> Non-trainable params: </span><span style=\"color: #00af00; text-decoration-color: #00af00\">0</span> (0.00 B)\n",
              "</pre>\n"
            ],
            "text/plain": [
              "\u001b[1m Non-trainable params: \u001b[0m\u001b[38;5;34m0\u001b[0m (0.00 B)\n"
            ]
          },
          "metadata": {},
          "output_type": "display_data"
        }
      ],
      "source": [
        "dense_model = models.Sequential()\n",
        "\n",
        "# Input - Layer\n",
        "dense_model.add(layers.Dense(50, activation = \"relu\", input_shape=(max_length, )))\n",
        "# Hidden - Layers\n",
        "dense_model.add(layers.Dropout(0.3, noise_shape=None, seed=None))\n",
        "dense_model.add(layers.Dense(50, activation = \"relu\"))\n",
        "dense_model.add(layers.Dropout(0.2, noise_shape=None, seed=None))\n",
        "dense_model.add(layers.Dense(50, activation = \"relu\"))\n",
        "# Output- Layer\n",
        "dense_model.add(layers.Dense(1, activation = \"sigmoid\"))\n",
        "dense_model.summary()"
      ]
    },
    {
      "cell_type": "code",
      "execution_count": 103,
      "metadata": {
        "id": "Akss96Aw2e2s"
      },
      "outputs": [],
      "source": [
        "early_stopping = EarlyStopping(\n",
        "    monitor='val_loss',\n",
        "    patience=5,\n",
        "    restore_best_weights=True\n",
        ")"
      ]
    },
    {
      "cell_type": "code",
      "execution_count": 104,
      "metadata": {
        "id": "D4D7jwBA2e2t"
      },
      "outputs": [],
      "source": [
        "dense_model.compile(\n",
        "    optimizer = \"adam\",\n",
        "    loss = \"binary_crossentropy\",\n",
        "    metrics = [\"accuracy\"]\n",
        ")"
      ]
    },
    {
      "cell_type": "code",
      "execution_count": 105,
      "metadata": {
        "colab": {
          "base_uri": "https://localhost:8080/"
        },
        "id": "DRnk5je52e2t",
        "outputId": "9b511553-a855-483d-b402-eacf683993fb"
      },
      "outputs": [
        {
          "name": "stdout",
          "output_type": "stream",
          "text": [
            "Epoch 1/100\n",
            "\u001b[1m257/257\u001b[0m \u001b[32m━━━━━━━━━━━━━━━━━━━━\u001b[0m\u001b[37m\u001b[0m \u001b[1m2s\u001b[0m 2ms/step - accuracy: 0.5524 - loss: 26.1769 - val_accuracy: 0.6181 - val_loss: 2.8563\n",
            "Epoch 2/100\n",
            "\u001b[1m257/257\u001b[0m \u001b[32m━━━━━━━━━━━━━━━━━━━━\u001b[0m\u001b[37m\u001b[0m \u001b[1m0s\u001b[0m 2ms/step - accuracy: 0.6308 - loss: 3.9827 - val_accuracy: 0.6628 - val_loss: 1.2241\n",
            "Epoch 3/100\n",
            "\u001b[1m257/257\u001b[0m \u001b[32m━━━━━━━━━━━━━━━━━━━━\u001b[0m\u001b[37m\u001b[0m \u001b[1m0s\u001b[0m 2ms/step - accuracy: 0.6523 - loss: 2.1536 - val_accuracy: 0.6794 - val_loss: 0.9937\n",
            "Epoch 4/100\n",
            "\u001b[1m257/257\u001b[0m \u001b[32m━━━━━━━━━━━━━━━━━━━━\u001b[0m\u001b[37m\u001b[0m \u001b[1m0s\u001b[0m 2ms/step - accuracy: 0.6620 - loss: 1.4470 - val_accuracy: 0.6659 - val_loss: 0.8182\n",
            "Epoch 5/100\n",
            "\u001b[1m257/257\u001b[0m \u001b[32m━━━━━━━━━━━━━━━━━━━━\u001b[0m\u001b[37m\u001b[0m \u001b[1m0s\u001b[0m 2ms/step - accuracy: 0.6652 - loss: 1.1523 - val_accuracy: 0.6689 - val_loss: 0.7493\n",
            "Epoch 6/100\n",
            "\u001b[1m257/257\u001b[0m \u001b[32m━━━━━━━━━━━━━━━━━━━━\u001b[0m\u001b[37m\u001b[0m \u001b[1m0s\u001b[0m 2ms/step - accuracy: 0.6684 - loss: 0.9338 - val_accuracy: 0.6637 - val_loss: 0.8033\n",
            "Epoch 7/100\n",
            "\u001b[1m257/257\u001b[0m \u001b[32m━━━━━━━━━━━━━━━━━━━━\u001b[0m\u001b[37m\u001b[0m \u001b[1m0s\u001b[0m 2ms/step - accuracy: 0.6611 - loss: 0.8866 - val_accuracy: 0.6652 - val_loss: 0.6510\n",
            "Epoch 8/100\n",
            "\u001b[1m257/257\u001b[0m \u001b[32m━━━━━━━━━━━━━━━━━━━━\u001b[0m\u001b[37m\u001b[0m \u001b[1m0s\u001b[0m 2ms/step - accuracy: 0.6663 - loss: 0.7819 - val_accuracy: 0.6650 - val_loss: 0.6372\n",
            "Epoch 9/100\n",
            "\u001b[1m257/257\u001b[0m \u001b[32m━━━━━━━━━━━━━━━━━━━━\u001b[0m\u001b[37m\u001b[0m \u001b[1m0s\u001b[0m 2ms/step - accuracy: 0.6656 - loss: 0.7124 - val_accuracy: 0.6686 - val_loss: 0.6350\n",
            "Epoch 10/100\n",
            "\u001b[1m257/257\u001b[0m \u001b[32m━━━━━━━━━━━━━━━━━━━━\u001b[0m\u001b[37m\u001b[0m \u001b[1m0s\u001b[0m 2ms/step - accuracy: 0.6667 - loss: 0.6981 - val_accuracy: 0.6689 - val_loss: 0.6264\n",
            "Epoch 11/100\n",
            "\u001b[1m257/257\u001b[0m \u001b[32m━━━━━━━━━━━━━━━━━━━━\u001b[0m\u001b[37m\u001b[0m \u001b[1m0s\u001b[0m 2ms/step - accuracy: 0.6657 - loss: 0.6854 - val_accuracy: 0.6713 - val_loss: 0.6159\n",
            "Epoch 12/100\n",
            "\u001b[1m257/257\u001b[0m \u001b[32m━━━━━━━━━━━━━━━━━━━━\u001b[0m\u001b[37m\u001b[0m \u001b[1m0s\u001b[0m 2ms/step - accuracy: 0.6685 - loss: 0.6639 - val_accuracy: 0.6715 - val_loss: 0.6239\n",
            "Epoch 13/100\n",
            "\u001b[1m257/257\u001b[0m \u001b[32m━━━━━━━━━━━━━━━━━━━━\u001b[0m\u001b[37m\u001b[0m \u001b[1m0s\u001b[0m 2ms/step - accuracy: 0.6663 - loss: 0.6507 - val_accuracy: 0.6713 - val_loss: 0.6063\n",
            "Epoch 14/100\n",
            "\u001b[1m257/257\u001b[0m \u001b[32m━━━━━━━━━━━━━━━━━━━━\u001b[0m\u001b[37m\u001b[0m \u001b[1m0s\u001b[0m 2ms/step - accuracy: 0.6651 - loss: 0.6411 - val_accuracy: 0.6720 - val_loss: 0.6117\n",
            "Epoch 15/100\n",
            "\u001b[1m257/257\u001b[0m \u001b[32m━━━━━━━━━━━━━━━━━━━━\u001b[0m\u001b[37m\u001b[0m \u001b[1m0s\u001b[0m 2ms/step - accuracy: 0.6672 - loss: 0.6330 - val_accuracy: 0.6781 - val_loss: 0.5964\n",
            "Epoch 16/100\n",
            "\u001b[1m257/257\u001b[0m \u001b[32m━━━━━━━━━━━━━━━━━━━━\u001b[0m\u001b[37m\u001b[0m \u001b[1m0s\u001b[0m 2ms/step - accuracy: 0.6678 - loss: 0.6235 - val_accuracy: 0.6811 - val_loss: 0.5968\n",
            "Epoch 17/100\n",
            "\u001b[1m257/257\u001b[0m \u001b[32m━━━━━━━━━━━━━━━━━━━━\u001b[0m\u001b[37m\u001b[0m \u001b[1m0s\u001b[0m 2ms/step - accuracy: 0.6708 - loss: 0.6210 - val_accuracy: 0.6806 - val_loss: 0.5919\n",
            "Epoch 18/100\n",
            "\u001b[1m257/257\u001b[0m \u001b[32m━━━━━━━━━━━━━━━━━━━━\u001b[0m\u001b[37m\u001b[0m \u001b[1m0s\u001b[0m 2ms/step - accuracy: 0.6709 - loss: 0.6181 - val_accuracy: 0.6825 - val_loss: 0.5928\n",
            "Epoch 19/100\n",
            "\u001b[1m257/257\u001b[0m \u001b[32m━━━━━━━━━━━━━━━━━━━━\u001b[0m\u001b[37m\u001b[0m \u001b[1m0s\u001b[0m 2ms/step - accuracy: 0.6740 - loss: 0.6087 - val_accuracy: 0.6852 - val_loss: 0.5964\n",
            "Epoch 20/100\n",
            "\u001b[1m257/257\u001b[0m \u001b[32m━━━━━━━━━━━━━━━━━━━━\u001b[0m\u001b[37m\u001b[0m \u001b[1m0s\u001b[0m 2ms/step - accuracy: 0.6760 - loss: 0.6043 - val_accuracy: 0.6889 - val_loss: 0.5896\n",
            "Epoch 21/100\n",
            "\u001b[1m257/257\u001b[0m \u001b[32m━━━━━━━━━━━━━━━━━━━━\u001b[0m\u001b[37m\u001b[0m \u001b[1m1s\u001b[0m 2ms/step - accuracy: 0.6767 - loss: 0.6008 - val_accuracy: 0.6930 - val_loss: 0.5862\n",
            "Epoch 22/100\n",
            "\u001b[1m257/257\u001b[0m \u001b[32m━━━━━━━━━━━━━━━━━━━━\u001b[0m\u001b[37m\u001b[0m \u001b[1m0s\u001b[0m 2ms/step - accuracy: 0.6872 - loss: 0.5963 - val_accuracy: 0.6962 - val_loss: 0.5836\n",
            "Epoch 23/100\n",
            "\u001b[1m257/257\u001b[0m \u001b[32m━━━━━━━━━━━━━━━━━━━━\u001b[0m\u001b[37m\u001b[0m \u001b[1m0s\u001b[0m 2ms/step - accuracy: 0.6859 - loss: 0.5985 - val_accuracy: 0.6962 - val_loss: 0.5925\n",
            "Epoch 24/100\n",
            "\u001b[1m257/257\u001b[0m \u001b[32m━━━━━━━━━━━━━━━━━━━━\u001b[0m\u001b[37m\u001b[0m \u001b[1m0s\u001b[0m 2ms/step - accuracy: 0.6920 - loss: 0.5937 - val_accuracy: 0.6989 - val_loss: 0.5805\n",
            "Epoch 25/100\n",
            "\u001b[1m257/257\u001b[0m \u001b[32m━━━━━━━━━━━━━━━━━━━━\u001b[0m\u001b[37m\u001b[0m \u001b[1m0s\u001b[0m 2ms/step - accuracy: 0.6925 - loss: 0.5903 - val_accuracy: 0.6957 - val_loss: 0.5809\n",
            "Epoch 26/100\n",
            "\u001b[1m257/257\u001b[0m \u001b[32m━━━━━━━━━━━━━━━━━━━━\u001b[0m\u001b[37m\u001b[0m \u001b[1m0s\u001b[0m 2ms/step - accuracy: 0.6919 - loss: 0.5883 - val_accuracy: 0.6977 - val_loss: 0.5806\n",
            "Epoch 27/100\n",
            "\u001b[1m257/257\u001b[0m \u001b[32m━━━━━━━━━━━━━━━━━━━━\u001b[0m\u001b[37m\u001b[0m \u001b[1m0s\u001b[0m 2ms/step - accuracy: 0.6927 - loss: 0.5915 - val_accuracy: 0.7006 - val_loss: 0.5798\n",
            "Epoch 28/100\n",
            "\u001b[1m257/257\u001b[0m \u001b[32m━━━━━━━━━━━━━━━━━━━━\u001b[0m\u001b[37m\u001b[0m \u001b[1m0s\u001b[0m 2ms/step - accuracy: 0.6971 - loss: 0.5901 - val_accuracy: 0.7077 - val_loss: 0.5777\n",
            "Epoch 29/100\n",
            "\u001b[1m257/257\u001b[0m \u001b[32m━━━━━━━━━━━━━━━━━━━━\u001b[0m\u001b[37m\u001b[0m \u001b[1m0s\u001b[0m 2ms/step - accuracy: 0.7010 - loss: 0.5839 - val_accuracy: 0.7060 - val_loss: 0.5790\n",
            "Epoch 30/100\n",
            "\u001b[1m257/257\u001b[0m \u001b[32m━━━━━━━━━━━━━━━━━━━━\u001b[0m\u001b[37m\u001b[0m \u001b[1m1s\u001b[0m 2ms/step - accuracy: 0.6990 - loss: 0.5818 - val_accuracy: 0.7050 - val_loss: 0.5782\n",
            "Epoch 31/100\n",
            "\u001b[1m257/257\u001b[0m \u001b[32m━━━━━━━━━━━━━━━━━━━━\u001b[0m\u001b[37m\u001b[0m \u001b[1m0s\u001b[0m 2ms/step - accuracy: 0.7027 - loss: 0.5822 - val_accuracy: 0.7040 - val_loss: 0.5799\n",
            "Epoch 32/100\n",
            "\u001b[1m257/257\u001b[0m \u001b[32m━━━━━━━━━━━━━━━━━━━━\u001b[0m\u001b[37m\u001b[0m \u001b[1m0s\u001b[0m 2ms/step - accuracy: 0.7024 - loss: 0.5837 - val_accuracy: 0.7025 - val_loss: 0.5788\n",
            "Epoch 33/100\n",
            "\u001b[1m257/257\u001b[0m \u001b[32m━━━━━━━━━━━━━━━━━━━━\u001b[0m\u001b[37m\u001b[0m \u001b[1m0s\u001b[0m 2ms/step - accuracy: 0.7049 - loss: 0.5790 - val_accuracy: 0.7060 - val_loss: 0.5768\n",
            "Epoch 34/100\n",
            "\u001b[1m257/257\u001b[0m \u001b[32m━━━━━━━━━━━━━━━━━━━━\u001b[0m\u001b[37m\u001b[0m \u001b[1m0s\u001b[0m 2ms/step - accuracy: 0.7044 - loss: 0.5775 - val_accuracy: 0.7077 - val_loss: 0.5734\n",
            "Epoch 35/100\n",
            "\u001b[1m257/257\u001b[0m \u001b[32m━━━━━━━━━━━━━━━━━━━━\u001b[0m\u001b[37m\u001b[0m \u001b[1m0s\u001b[0m 2ms/step - accuracy: 0.7065 - loss: 0.5755 - val_accuracy: 0.7094 - val_loss: 0.5746\n",
            "Epoch 36/100\n",
            "\u001b[1m257/257\u001b[0m \u001b[32m━━━━━━━━━━━━━━━━━━━━\u001b[0m\u001b[37m\u001b[0m \u001b[1m0s\u001b[0m 2ms/step - accuracy: 0.7099 - loss: 0.5736 - val_accuracy: 0.7077 - val_loss: 0.5732\n",
            "Epoch 37/100\n",
            "\u001b[1m257/257\u001b[0m \u001b[32m━━━━━━━━━━━━━━━━━━━━\u001b[0m\u001b[37m\u001b[0m \u001b[1m0s\u001b[0m 2ms/step - accuracy: 0.7068 - loss: 0.5733 - val_accuracy: 0.7106 - val_loss: 0.5688\n",
            "Epoch 38/100\n",
            "\u001b[1m257/257\u001b[0m \u001b[32m━━━━━━━━━━━━━━━━━━━━\u001b[0m\u001b[37m\u001b[0m \u001b[1m1s\u001b[0m 2ms/step - accuracy: 0.7054 - loss: 0.5752 - val_accuracy: 0.7128 - val_loss: 0.5678\n",
            "Epoch 39/100\n",
            "\u001b[1m257/257\u001b[0m \u001b[32m━━━━━━━━━━━━━━━━━━━━\u001b[0m\u001b[37m\u001b[0m \u001b[1m0s\u001b[0m 2ms/step - accuracy: 0.7143 - loss: 0.5699 - val_accuracy: 0.7130 - val_loss: 0.5653\n",
            "Epoch 40/100\n",
            "\u001b[1m257/257\u001b[0m \u001b[32m━━━━━━━━━━━━━━━━━━━━\u001b[0m\u001b[37m\u001b[0m \u001b[1m0s\u001b[0m 2ms/step - accuracy: 0.7111 - loss: 0.5700 - val_accuracy: 0.7121 - val_loss: 0.5646\n",
            "Epoch 41/100\n",
            "\u001b[1m257/257\u001b[0m \u001b[32m━━━━━━━━━━━━━━━━━━━━\u001b[0m\u001b[37m\u001b[0m \u001b[1m0s\u001b[0m 2ms/step - accuracy: 0.7108 - loss: 0.5699 - val_accuracy: 0.7111 - val_loss: 0.5649\n",
            "Epoch 42/100\n",
            "\u001b[1m257/257\u001b[0m \u001b[32m━━━━━━━━━━━━━━━━━━━━\u001b[0m\u001b[37m\u001b[0m \u001b[1m0s\u001b[0m 2ms/step - accuracy: 0.7122 - loss: 0.5666 - val_accuracy: 0.7143 - val_loss: 0.5633\n",
            "Epoch 43/100\n",
            "\u001b[1m257/257\u001b[0m \u001b[32m━━━━━━━━━━━━━━━━━━━━\u001b[0m\u001b[37m\u001b[0m \u001b[1m0s\u001b[0m 2ms/step - accuracy: 0.7113 - loss: 0.5679 - val_accuracy: 0.7091 - val_loss: 0.5639\n",
            "Epoch 44/100\n",
            "\u001b[1m257/257\u001b[0m \u001b[32m━━━━━━━━━━━━━━━━━━━━\u001b[0m\u001b[37m\u001b[0m \u001b[1m0s\u001b[0m 2ms/step - accuracy: 0.7144 - loss: 0.5640 - val_accuracy: 0.7091 - val_loss: 0.5633\n",
            "Epoch 45/100\n",
            "\u001b[1m257/257\u001b[0m \u001b[32m━━━━━━━━━━━━━━━━━━━━\u001b[0m\u001b[37m\u001b[0m \u001b[1m0s\u001b[0m 2ms/step - accuracy: 0.7165 - loss: 0.5615 - val_accuracy: 0.7145 - val_loss: 0.5606\n",
            "Epoch 46/100\n",
            "\u001b[1m257/257\u001b[0m \u001b[32m━━━━━━━━━━━━━━━━━━━━\u001b[0m\u001b[37m\u001b[0m \u001b[1m0s\u001b[0m 2ms/step - accuracy: 0.7125 - loss: 0.5621 - val_accuracy: 0.7140 - val_loss: 0.5617\n",
            "Epoch 47/100\n",
            "\u001b[1m257/257\u001b[0m \u001b[32m━━━━━━━━━━━━━━━━━━━━\u001b[0m\u001b[37m\u001b[0m \u001b[1m0s\u001b[0m 2ms/step - accuracy: 0.7149 - loss: 0.5622 - val_accuracy: 0.7157 - val_loss: 0.5585\n",
            "Epoch 48/100\n",
            "\u001b[1m257/257\u001b[0m \u001b[32m━━━━━━━━━━━━━━━━━━━━\u001b[0m\u001b[37m\u001b[0m \u001b[1m0s\u001b[0m 2ms/step - accuracy: 0.7175 - loss: 0.5578 - val_accuracy: 0.7099 - val_loss: 0.5602\n",
            "Epoch 49/100\n",
            "\u001b[1m257/257\u001b[0m \u001b[32m━━━━━━━━━━━━━━━━━━━━\u001b[0m\u001b[37m\u001b[0m \u001b[1m0s\u001b[0m 2ms/step - accuracy: 0.7162 - loss: 0.5569 - val_accuracy: 0.7128 - val_loss: 0.5575\n",
            "Epoch 50/100\n",
            "\u001b[1m257/257\u001b[0m \u001b[32m━━━━━━━━━━━━━━━━━━━━\u001b[0m\u001b[37m\u001b[0m \u001b[1m0s\u001b[0m 2ms/step - accuracy: 0.7133 - loss: 0.5588 - val_accuracy: 0.7189 - val_loss: 0.5559\n",
            "Epoch 51/100\n",
            "\u001b[1m257/257\u001b[0m \u001b[32m━━━━━━━━━━━━━━━━━━━━\u001b[0m\u001b[37m\u001b[0m \u001b[1m0s\u001b[0m 2ms/step - accuracy: 0.7181 - loss: 0.5561 - val_accuracy: 0.7177 - val_loss: 0.5574\n",
            "Epoch 52/100\n",
            "\u001b[1m257/257\u001b[0m \u001b[32m━━━━━━━━━━━━━━━━━━━━\u001b[0m\u001b[37m\u001b[0m \u001b[1m0s\u001b[0m 2ms/step - accuracy: 0.7132 - loss: 0.5567 - val_accuracy: 0.7147 - val_loss: 0.5563\n",
            "Epoch 53/100\n",
            "\u001b[1m257/257\u001b[0m \u001b[32m━━━━━━━━━━━━━━━━━━━━\u001b[0m\u001b[37m\u001b[0m \u001b[1m0s\u001b[0m 2ms/step - accuracy: 0.7164 - loss: 0.5541 - val_accuracy: 0.7164 - val_loss: 0.5543\n",
            "Epoch 54/100\n",
            "\u001b[1m257/257\u001b[0m \u001b[32m━━━━━━━━━━━━━━━━━━━━\u001b[0m\u001b[37m\u001b[0m \u001b[1m0s\u001b[0m 2ms/step - accuracy: 0.7155 - loss: 0.5540 - val_accuracy: 0.7138 - val_loss: 0.5557\n",
            "Epoch 55/100\n",
            "\u001b[1m257/257\u001b[0m \u001b[32m━━━━━━━━━━━━━━━━━━━━\u001b[0m\u001b[37m\u001b[0m \u001b[1m0s\u001b[0m 2ms/step - accuracy: 0.7180 - loss: 0.5518 - val_accuracy: 0.7106 - val_loss: 0.5561\n",
            "Epoch 56/100\n",
            "\u001b[1m257/257\u001b[0m \u001b[32m━━━━━━━━━━━━━━━━━━━━\u001b[0m\u001b[37m\u001b[0m \u001b[1m0s\u001b[0m 2ms/step - accuracy: 0.7157 - loss: 0.5521 - val_accuracy: 0.7091 - val_loss: 0.5587\n",
            "Epoch 57/100\n",
            "\u001b[1m257/257\u001b[0m \u001b[32m━━━━━━━━━━━━━━━━━━━━\u001b[0m\u001b[37m\u001b[0m \u001b[1m0s\u001b[0m 2ms/step - accuracy: 0.7181 - loss: 0.5515 - val_accuracy: 0.7040 - val_loss: 0.5570\n",
            "Epoch 58/100\n",
            "\u001b[1m257/257\u001b[0m \u001b[32m━━━━━━━━━━━━━━━━━━━━\u001b[0m\u001b[37m\u001b[0m \u001b[1m0s\u001b[0m 2ms/step - accuracy: 0.7146 - loss: 0.5524 - val_accuracy: 0.7123 - val_loss: 0.5542\n",
            "Epoch 59/100\n",
            "\u001b[1m257/257\u001b[0m \u001b[32m━━━━━━━━━━━━━━━━━━━━\u001b[0m\u001b[37m\u001b[0m \u001b[1m0s\u001b[0m 2ms/step - accuracy: 0.7136 - loss: 0.5518 - val_accuracy: 0.7096 - val_loss: 0.5570\n",
            "Epoch 60/100\n",
            "\u001b[1m257/257\u001b[0m \u001b[32m━━━━━━━━━━━━━━━━━━━━\u001b[0m\u001b[37m\u001b[0m \u001b[1m0s\u001b[0m 2ms/step - accuracy: 0.7176 - loss: 0.5499 - val_accuracy: 0.7074 - val_loss: 0.5593\n",
            "Epoch 61/100\n",
            "\u001b[1m257/257\u001b[0m \u001b[32m━━━━━━━━━━━━━━━━━━━━\u001b[0m\u001b[37m\u001b[0m \u001b[1m0s\u001b[0m 2ms/step - accuracy: 0.7169 - loss: 0.5492 - val_accuracy: 0.7023 - val_loss: 0.5595\n",
            "Epoch 62/100\n",
            "\u001b[1m257/257\u001b[0m \u001b[32m━━━━━━━━━━━━━━━━━━━━\u001b[0m\u001b[37m\u001b[0m \u001b[1m0s\u001b[0m 2ms/step - accuracy: 0.7196 - loss: 0.5491 - val_accuracy: 0.7103 - val_loss: 0.5538\n",
            "Epoch 63/100\n",
            "\u001b[1m257/257\u001b[0m \u001b[32m━━━━━━━━━━━━━━━━━━━━\u001b[0m\u001b[37m\u001b[0m \u001b[1m0s\u001b[0m 2ms/step - accuracy: 0.7154 - loss: 0.5506 - val_accuracy: 0.7123 - val_loss: 0.5593\n",
            "Epoch 64/100\n",
            "\u001b[1m257/257\u001b[0m \u001b[32m━━━━━━━━━━━━━━━━━━━━\u001b[0m\u001b[37m\u001b[0m \u001b[1m0s\u001b[0m 2ms/step - accuracy: 0.7164 - loss: 0.5495 - val_accuracy: 0.7125 - val_loss: 0.5546\n",
            "Epoch 65/100\n",
            "\u001b[1m257/257\u001b[0m \u001b[32m━━━━━━━━━━━━━━━━━━━━\u001b[0m\u001b[37m\u001b[0m \u001b[1m0s\u001b[0m 2ms/step - accuracy: 0.7150 - loss: 0.5485 - val_accuracy: 0.7084 - val_loss: 0.5561\n",
            "Epoch 66/100\n",
            "\u001b[1m257/257\u001b[0m \u001b[32m━━━━━━━━━━━━━━━━━━━━\u001b[0m\u001b[37m\u001b[0m \u001b[1m0s\u001b[0m 2ms/step - accuracy: 0.7180 - loss: 0.5500 - val_accuracy: 0.7123 - val_loss: 0.5524\n",
            "Epoch 67/100\n",
            "\u001b[1m257/257\u001b[0m \u001b[32m━━━━━━━━━━━━━━━━━━━━\u001b[0m\u001b[37m\u001b[0m \u001b[1m0s\u001b[0m 2ms/step - accuracy: 0.7197 - loss: 0.5473 - val_accuracy: 0.7150 - val_loss: 0.5569\n",
            "Epoch 68/100\n",
            "\u001b[1m257/257\u001b[0m \u001b[32m━━━━━━━━━━━━━━━━━━━━\u001b[0m\u001b[37m\u001b[0m \u001b[1m0s\u001b[0m 2ms/step - accuracy: 0.7198 - loss: 0.5483 - val_accuracy: 0.7118 - val_loss: 0.5561\n",
            "Epoch 69/100\n",
            "\u001b[1m257/257\u001b[0m \u001b[32m━━━━━━━━━━━━━━━━━━━━\u001b[0m\u001b[37m\u001b[0m \u001b[1m0s\u001b[0m 2ms/step - accuracy: 0.7190 - loss: 0.5490 - val_accuracy: 0.7174 - val_loss: 0.5538\n",
            "Epoch 70/100\n",
            "\u001b[1m257/257\u001b[0m \u001b[32m━━━━━━━━━━━━━━━━━━━━\u001b[0m\u001b[37m\u001b[0m \u001b[1m0s\u001b[0m 2ms/step - accuracy: 0.7185 - loss: 0.5471 - val_accuracy: 0.7138 - val_loss: 0.5547\n",
            "Epoch 71/100\n",
            "\u001b[1m257/257\u001b[0m \u001b[32m━━━━━━━━━━━━━━━━━━━━\u001b[0m\u001b[37m\u001b[0m \u001b[1m1s\u001b[0m 2ms/step - accuracy: 0.7208 - loss: 0.5454 - val_accuracy: 0.7164 - val_loss: 0.5564\n"
          ]
        }
      ],
      "source": [
        "results = dense_model.fit(\n",
        "    X_train, y_train,\n",
        "    epochs= 100,\n",
        "    batch_size = 128,\n",
        "    validation_data = (X_val, y_val),\n",
        "    callbacks=[early_stopping]\n",
        ")"
      ]
    },
    {
      "cell_type": "code",
      "execution_count": 106,
      "metadata": {
        "colab": {
          "base_uri": "https://localhost:8080/",
          "height": 607
        },
        "id": "-Cf-Z9-F2e2t",
        "outputId": "aa4654d5-3a93-43d0-fcd1-a132c0586da8"
      },
      "outputs": [
        {
          "data": {
            "image/png": "[encoded data removed]",
            "text/plain": [
              "<Figure size 1400x600 with 2 Axes>"
            ]
          },
          "metadata": {},
          "output_type": "display_data"
        }
      ],
      "source": [
        "def plot_hist(hist):\n",
        "    fig, axs = plt.subplots(1, 2, figsize=(14, 6))\n",
        "\n",
        "    # Plot accuracy\n",
        "    axs[0].plot(hist.history['accuracy'], label='Training Accuracy')\n",
        "    axs[0].plot(hist.history['val_accuracy'], label='Validation Accuracy')\n",
        "    axs[0].set_xlabel('Epochs')\n",
        "    axs[0].set_ylabel('Accuracy')\n",
        "    axs[0].set_title('Training vs Validation Accuracy')\n",
        "    axs[0].legend()\n",
        "\n",
        "    # Plot loss\n",
        "    axs[1].plot(hist.history['loss'], label='Training Loss')\n",
        "    axs[1].plot(hist.history['val_loss'], label='Validation Loss')\n",
        "    axs[1].set_xlabel('Epochs')\n",
        "    axs[1].set_ylabel('Loss')\n",
        "    axs[1].set_title('Training vs Validation Loss')\n",
        "    axs[1].legend()\n",
        "\n",
        "    plt.tight_layout()\n",
        "    plt.show()\n",
        "\n",
        "\n",
        "plot_hist(results)"
      ]
    },
    {
      "cell_type": "code",
      "execution_count": 107,
      "metadata": {
        "colab": {
          "base_uri": "https://localhost:8080/"
        },
        "id": "h4lyxJbM2e2u",
        "outputId": "f27079d8-bd32-4d56-8475-e186a599eea7"
      },
      "outputs": [
        {
          "name": "stdout",
          "output_type": "stream",
          "text": [
            "Accuracy: 71.84%\n"
          ]
        }
      ],
      "source": [
        "scores = dense_model.evaluate(X_test, y_test, verbose=0)\n",
        "print(\"Accuracy: %.2f%%\" % (scores[1]*100))"
      ]
    },
    {
      "cell_type": "markdown",
      "metadata": {
        "id": "-LN2gpUA2e2v"
      },
      "source": [
        "### LSTM"
      ]
    },
    {
      "cell_type": "code",
      "execution_count": 108,
      "metadata": {
        "colab": {
          "base_uri": "https://localhost:8080/"
        },
        "id": "B4pzNUnL2e2v",
        "outputId": "d48aabd6-931a-41fc-d973-7a66c48194f6"
      },
      "outputs": [
        {
          "name": "stderr",
          "output_type": "stream",
          "text": [
            "/home/carlos/.cache/pypoetry/virtualenvs/brazilian-e-commerce-nlp-deep-learning-Rk9x1azB-py3.12/lib/python3.12/site-packages/keras/src/layers/core/embedding.py:90: UserWarning: Argument `input_length` is deprecated. Just remove it.\n",
            "  warnings.warn(\n"
          ]
        }
      ],
      "source": [
        "lstm_model = models.Sequential()\n",
        "lstm_model.add(layers.Embedding(input_dim=len(tokenizer.word_index) + 1, output_dim=50, input_length=max_length))\n",
        "lstm_model.add(layers.LSTM(units=128, return_sequences=True))\n",
        "lstm_model.add(layers.Dropout(0.2))\n",
        "lstm_model.add(layers.LSTM(units=128))\n",
        "lstm_model.add(layers.Dropout(0.2))\n",
        "lstm_model.add(layers.Dense(units=1, activation='sigmoid'))"
      ]
    },
    {
      "cell_type": "code",
      "execution_count": 109,
      "metadata": {
        "id": "LJAv0UMV2e2w"
      },
      "outputs": [],
      "source": [
        "lstm_model.compile(\n",
        "    optimizer = \"adam\",\n",
        "    loss = \"binary_crossentropy\",\n",
        "    metrics = [\"accuracy\"]\n",
        ")"
      ]
    },
    {
      "cell_type": "code",
      "execution_count": 110,
      "metadata": {
        "colab": {
          "base_uri": "https://localhost:8080/"
        },
        "id": "xBR8iQCw2e2w",
        "outputId": "081a8f12-a9dd-4874-b502-ae1e34576c44"
      },
      "outputs": [
        {
          "name": "stdout",
          "output_type": "stream",
          "text": [
            "Epoch 1/100\n",
            "\u001b[1m1025/1025\u001b[0m \u001b[32m━━━━━━━━━━━━━━━━━━━━\u001b[0m\u001b[37m\u001b[0m \u001b[1m39s\u001b[0m 36ms/step - accuracy: 0.8424 - loss: 0.3863 - val_accuracy: 0.8736 - val_loss: 0.3356\n",
            "Epoch 2/100\n",
            "\u001b[1m1025/1025\u001b[0m \u001b[32m━━━━━━━━━━━━━━━━━━━━\u001b[0m\u001b[37m\u001b[0m \u001b[1m35s\u001b[0m 34ms/step - accuracy: 0.9025 - loss: 0.2811 - val_accuracy: 0.8785 - val_loss: 0.3393\n",
            "Epoch 3/100\n",
            "\u001b[1m1025/1025\u001b[0m \u001b[32m━━━━━━━━━━━━━━━━━━━━\u001b[0m\u001b[37m\u001b[0m \u001b[1m35s\u001b[0m 34ms/step - accuracy: 0.9115 - loss: 0.2586 - val_accuracy: 0.8824 - val_loss: 0.3532\n",
            "Epoch 4/100\n",
            "\u001b[1m1025/1025\u001b[0m \u001b[32m━━━━━━━━━━━━━━━━━━━━\u001b[0m\u001b[37m\u001b[0m \u001b[1m36s\u001b[0m 35ms/step - accuracy: 0.9162 - loss: 0.2434 - val_accuracy: 0.8763 - val_loss: 0.3288\n",
            "Epoch 5/100\n",
            "\u001b[1m1025/1025\u001b[0m \u001b[32m━━━━━━━━━━━━━━━━━━━━\u001b[0m\u001b[37m\u001b[0m \u001b[1m35s\u001b[0m 34ms/step - accuracy: 0.9210 - loss: 0.2223 - val_accuracy: 0.8485 - val_loss: 0.3627\n",
            "Epoch 6/100\n",
            "\u001b[1m1025/1025\u001b[0m \u001b[32m━━━━━━━━━━━━━━━━━━━━\u001b[0m\u001b[37m\u001b[0m \u001b[1m37s\u001b[0m 36ms/step - accuracy: 0.9202 - loss: 0.2264 - val_accuracy: 0.8807 - val_loss: 0.3266\n",
            "Epoch 7/100\n",
            "\u001b[1m1025/1025\u001b[0m \u001b[32m━━━━━━━━━━━━━━━━━━━━\u001b[0m\u001b[37m\u001b[0m \u001b[1m38s\u001b[0m 37ms/step - accuracy: 0.9341 - loss: 0.1946 - val_accuracy: 0.8843 - val_loss: 0.3293\n",
            "Epoch 8/100\n",
            "\u001b[1m1025/1025\u001b[0m \u001b[32m━━━━━━━━━━━━━━━━━━━━\u001b[0m\u001b[37m\u001b[0m \u001b[1m41s\u001b[0m 40ms/step - accuracy: 0.9383 - loss: 0.1881 - val_accuracy: 0.8831 - val_loss: 0.3384\n",
            "Epoch 9/100\n",
            "\u001b[1m1025/1025\u001b[0m \u001b[32m━━━━━━━━━━━━━━━━━━━━\u001b[0m\u001b[37m\u001b[0m \u001b[1m35s\u001b[0m 35ms/step - accuracy: 0.9418 - loss: 0.1779 - val_accuracy: 0.8775 - val_loss: 0.3609\n",
            "Epoch 10/100\n",
            "\u001b[1m1025/1025\u001b[0m \u001b[32m━━━━━━━━━━━━━━━━━━━━\u001b[0m\u001b[37m\u001b[0m \u001b[1m38s\u001b[0m 37ms/step - accuracy: 0.9446 - loss: 0.1726 - val_accuracy: 0.8785 - val_loss: 0.3736\n",
            "Epoch 11/100\n",
            "\u001b[1m1025/1025\u001b[0m \u001b[32m━━━━━━━━━━━━━━━━━━━━\u001b[0m\u001b[37m\u001b[0m \u001b[1m36s\u001b[0m 35ms/step - accuracy: 0.9475 - loss: 0.1659 - val_accuracy: 0.8768 - val_loss: 0.3851\n"
          ]
        }
      ],
      "source": [
        "history = lstm_model.fit(\n",
        "    X_train, y_train,\n",
        "    epochs= 100,\n",
        "    batch_size = 32,\n",
        "    validation_data = (X_val, y_val),\n",
        "    callbacks=[early_stopping]\n",
        ")"
      ]
    },
    {
      "cell_type": "code",
      "execution_count": 111,
      "metadata": {
        "colab": {
          "base_uri": "https://localhost:8080/",
          "height": 607
        },
        "id": "g2l-72F02e2x",
        "outputId": "6f439cc5-671a-4ab3-bc81-755f28517bbd"
      },
      "outputs": [
        {
          "data": {
            "image/png": "[encoded data removed]",
            "text/plain": [
              "<Figure size 1400x600 with 2 Axes>"
            ]
          },
          "metadata": {},
          "output_type": "display_data"
        }
      ],
      "source": [
        "plot_hist(history)"
      ]
    },
    {
      "cell_type": "code",
      "execution_count": 112,
      "metadata": {
        "colab": {
          "base_uri": "https://localhost:8080/"
        },
        "id": "v000lWAQ2e2x",
        "outputId": "1e2b2605-abe2-42ac-9900-d2fd85cdaa07"
      },
      "outputs": [
        {
          "name": "stdout",
          "output_type": "stream",
          "text": [
            "Accuracy: 87.95%\n"
          ]
        }
      ],
      "source": [
        "scores = lstm_model.evaluate(X_test, y_test, verbose=0)\n",
        "print(\"Accuracy: %.2f%%\" % (scores[1]*100))"
      ]
    },
    {
      "cell_type": "markdown",
      "metadata": {
        "id": "xfqENZkm2e2x"
      },
      "source": [
        "LSTM approach was clearly better, as expected. So we will be using it as a base for our next evaluations."
      ]
    },
    {
      "cell_type": "markdown",
      "metadata": {
        "id": "O2cf0N7P2e2y"
      },
      "source": [
        "## KFold Cross validation"
      ]
    },
    {
      "cell_type": "markdown",
      "metadata": {
        "id": "qAv0IxCf2e2y"
      },
      "source": [
        "We will performe cross validation using K-Fold with different amount of hidden layers and neurons."
      ]
    },
    {
      "cell_type": "code",
      "execution_count": 113,
      "metadata": {
        "id": "x2OdJg1r2e2y"
      },
      "outputs": [],
      "source": [
        "kfold = KFold(n_splits=5, shuffle=True, random_state=42)  # 5 folds\n",
        "\n",
        "param_grid = {\n",
        "    'num_layers': [1, 2, 3],\n",
        "    'units_per_layer': [32, 64, 128],\n",
        "}\n"
      ]
    },
    {
      "cell_type": "code",
      "execution_count": 114,
      "metadata": {
        "id": "yjrpCLTH2e2y"
      },
      "outputs": [],
      "source": [
        "def create_lstm_model(num_layers, units_per_layer, input_shape):\n",
        "    model = models.Sequential()\n",
        "\n",
        "    model.add(layers.Embedding(input_dim=input_shape[0], output_dim=50))\n",
        "\n",
        "    # LSTM layers\n",
        "    for i in range(num_layers):\n",
        "        return_sequences = i < num_layers - 1  # Last layers doesn't return sequence\n",
        "        model.add(layers.LSTM(units_per_layer, return_sequences=return_sequences))\n",
        "        model.add(layers.Dropout(0.2))\n",
        "\n",
        "    # Binary\n",
        "    model.add(layers.Dense(1, activation='sigmoid'))\n",
        "\n",
        "    model.compile(optimizer='adam', loss='binary_crossentropy', metrics=['accuracy'])\n",
        "\n",
        "    return model\n"
      ]
    },
    {
      "cell_type": "markdown",
      "metadata": {
        "id": "fqxvrR5P2e2z"
      },
      "source": [
        "Training model with 3 possibilities of layers (num_layers) 3 possibilities of number of neurons per layer (units_per_layer) and 5 folds for cross-validation. This is equivalent to 45 times that we will be performing a different training initialization. So this cell will take a long time. To prevent having to rerun this cell all the time, we will run it once and save the results."
      ]
    },
    {
      "cell_type": "code",
      "execution_count": 115,
      "metadata": {
        "id": "mnRDvGpW2e2z"
      },
      "outputs": [],
      "source": [
        "run_kfold = False"
      ]
    },
    {
      "cell_type": "code",
      "execution_count": 116,
      "metadata": {
        "id": "rgYbTfGr2e2z"
      },
      "outputs": [],
      "source": [
        "results = []\n",
        "X=reviews_padded\n",
        "\n",
        "if run_kfold == True:\n",
        "\n",
        "    for num_layers in param_grid['num_layers']:\n",
        "        for units_per_layer in param_grid['units_per_layer']:\n",
        "            fold_accuracies = []\n",
        "            fold_losses = []\n",
        "            print(f\"Testing configuration: {num_layers} layers, {units_per_layer} neurons per layer\")\n",
        "\n",
        "            # Cross-Validation\n",
        "            for train_idx, val_idx in kfold.split(X):\n",
        "                X_train, X_val = X[train_idx], X[val_idx]\n",
        "                y_train, y_val = y[train_idx], y[val_idx]\n",
        "\n",
        "                # Create model with hyperparameters choice\n",
        "                model = create_lstm_model(num_layers, units_per_layer, input_shape=(X.shape[0], X.shape[1]))\n",
        "\n",
        "                # Train model\n",
        "                history = model.fit(\n",
        "                    X_train, y_train,\n",
        "                    validation_data=(X_val, y_val),\n",
        "                    epochs=50,\n",
        "                    batch_size=64,\n",
        "                    callbacks=[early_stopping],\n",
        "                    verbose=0\n",
        "                )\n",
        "\n",
        "                # Evaluate on validation\n",
        "                loss, accuracy = model.evaluate(X_val, y_val, verbose=0)\n",
        "                fold_accuracies.append(accuracy)\n",
        "                fold_losses.append(loss)\n",
        "\n",
        "            # Metric means for configuration\n",
        "            mean_accuracy = np.mean(fold_accuracies)\n",
        "            mean_loss = np.mean(fold_losses)\n",
        "\n",
        "            print(f\"Acurácia média: {mean_accuracy:.4f}, Perda média: {mean_loss:.4f}\")\n",
        "\n",
        "            # Save results\n",
        "            results.append({\n",
        "                'num_layers': num_layers,\n",
        "                'units_per_layer': units_per_layer,\n",
        "                'mean_accuracy': mean_accuracy,\n",
        "                'mean_loss': mean_loss\n",
        "            })"
      ]
    },
    {
      "cell_type": "code",
      "execution_count": 117,
      "metadata": {
        "colab": {
          "base_uri": "https://localhost:8080/"
        },
        "id": "SQJHMmXt2e20",
        "outputId": "a2f33864-ec16-41a9-870a-ba4cf35ea69f"
      },
      "outputs": [
        {
          "name": "stdout",
          "output_type": "stream",
          "text": [
            "Resultados carregados de 'results.pkl'.\n"
          ]
        }
      ],
      "source": [
        "# If cross validation run we save new values for results\n",
        "if run_kfold == True:\n",
        "    with open('results.pkl', 'wb') as f:\n",
        "        pickle.dump(results, f)\n",
        "        print(\"Resultados salvos em 'results.pkl'.\")\n",
        "\n",
        "# If we didn't do cross validation we load previous results\n",
        "if run_kfold == False:\n",
        "    with open('results.pkl', 'rb') as f:\n",
        "        results = pickle.load(f)\n",
        "        print(\"Resultados carregados de 'results.pkl'.\")"
      ]
    },
    {
      "cell_type": "code",
      "execution_count": 118,
      "metadata": {
        "colab": {
          "base_uri": "https://localhost:8080/"
        },
        "id": "uSZG06dj2e21",
        "outputId": "6be9c685-bff3-422e-a4fd-6b700ef8b3bc"
      },
      "outputs": [
        {
          "name": "stdout",
          "output_type": "stream",
          "text": [
            "Best configuration:\n",
            "{'num_layers': 3, 'units_per_layer': 32, 'mean_accuracy': np.float64(0.8941114902496338), 'mean_loss': np.float64(0.2834396004676819)}\n"
          ]
        }
      ],
      "source": [
        "best_config = max(results, key=lambda x: x['mean_accuracy'])\n",
        "print(\"Best configuration:\")\n",
        "print(best_config)"
      ]
    },
    {
      "cell_type": "markdown",
      "metadata": {
        "id": "rVKjFmmR2e21"
      },
      "source": [
        "### Re-train best model"
      ]
    },
    {
      "cell_type": "code",
      "execution_count": 119,
      "metadata": {
        "colab": {
          "base_uri": "https://localhost:8080/"
        },
        "id": "E_jeDdOM2e21",
        "outputId": "f9c60a82-ed92-4e70-f5ca-3a795de14ab0"
      },
      "outputs": [
        {
          "name": "stdout",
          "output_type": "stream",
          "text": [
            "Epoch 1/50\n",
            "\u001b[1m513/513\u001b[0m \u001b[32m━━━━━━━━━━━━━━━━━━━━\u001b[0m\u001b[37m\u001b[0m \u001b[1m20s\u001b[0m 31ms/step - accuracy: 0.8001 - loss: 0.4363 - val_accuracy: 0.8814 - val_loss: 0.3041\n",
            "Epoch 2/50\n",
            "\u001b[1m513/513\u001b[0m \u001b[32m━━━━━━━━━━━━━━━━━━━━\u001b[0m\u001b[37m\u001b[0m \u001b[1m15s\u001b[0m 30ms/step - accuracy: 0.8974 - loss: 0.2821 - val_accuracy: 0.8868 - val_loss: 0.2945\n",
            "Epoch 3/50\n",
            "\u001b[1m513/513\u001b[0m \u001b[32m━━━━━━━━━━━━━━━━━━━━\u001b[0m\u001b[37m\u001b[0m \u001b[1m15s\u001b[0m 30ms/step - accuracy: 0.9123 - loss: 0.2546 - val_accuracy: 0.8875 - val_loss: 0.2898\n",
            "Epoch 4/50\n",
            "\u001b[1m513/513\u001b[0m \u001b[32m━━━━━━━━━━━━━━━━━━━━\u001b[0m\u001b[37m\u001b[0m \u001b[1m16s\u001b[0m 31ms/step - accuracy: 0.9195 - loss: 0.2352 - val_accuracy: 0.8892 - val_loss: 0.3034\n",
            "Epoch 5/50\n",
            "\u001b[1m513/513\u001b[0m \u001b[32m━━━━━━━━━━━━━━━━━━━━\u001b[0m\u001b[37m\u001b[0m \u001b[1m15s\u001b[0m 30ms/step - accuracy: 0.9258 - loss: 0.2201 - val_accuracy: 0.8873 - val_loss: 0.3203\n",
            "Epoch 6/50\n",
            "\u001b[1m513/513\u001b[0m \u001b[32m━━━━━━━━━━━━━━━━━━━━\u001b[0m\u001b[37m\u001b[0m \u001b[1m15s\u001b[0m 30ms/step - accuracy: 0.9298 - loss: 0.2116 - val_accuracy: 0.8851 - val_loss: 0.3312\n",
            "Epoch 7/50\n",
            "\u001b[1m513/513\u001b[0m \u001b[32m━━━━━━━━━━━━━━━━━━━━\u001b[0m\u001b[37m\u001b[0m \u001b[1m15s\u001b[0m 30ms/step - accuracy: 0.9336 - loss: 0.1990 - val_accuracy: 0.8838 - val_loss: 0.3527\n",
            "Epoch 8/50\n",
            "\u001b[1m513/513\u001b[0m \u001b[32m━━━━━━━━━━━━━━━━━━━━\u001b[0m\u001b[37m\u001b[0m \u001b[1m15s\u001b[0m 30ms/step - accuracy: 0.9366 - loss: 0.1958 - val_accuracy: 0.8829 - val_loss: 0.3273\n"
          ]
        }
      ],
      "source": [
        "best_lstm_model = create_lstm_model(best_config['num_layers'],\n",
        "                                    best_config['units_per_layer'],\n",
        "                                    X_train.shape)\n",
        "\n",
        "# Train best_lstm_model\n",
        "history = best_lstm_model.fit(\n",
        "    X_train, y_train,\n",
        "    validation_data=(X_val, y_val),\n",
        "    epochs=50,\n",
        "    batch_size=64,\n",
        "    callbacks=[early_stopping]\n",
        ")"
      ]
    },
    {
      "cell_type": "code",
      "execution_count": 120,
      "metadata": {
        "colab": {
          "base_uri": "https://localhost:8080/",
          "height": 607
        },
        "id": "9nR2Co402e22",
        "outputId": "e32aa775-4d66-43d4-f05e-2418039b2677"
      },
      "outputs": [
        {
          "data": {
            "image/png": "[encoded data removed]",
            "text/plain": [
              "<Figure size 1400x600 with 2 Axes>"
            ]
          },
          "metadata": {},
          "output_type": "display_data"
        }
      ],
      "source": [
        "plot_hist(history)"
      ]
    },
    {
      "cell_type": "markdown",
      "metadata": {
        "id": "LzTEq2ws2e22"
      },
      "source": [
        "## Tests"
      ]
    },
    {
      "cell_type": "code",
      "execution_count": 121,
      "metadata": {
        "id": "qY32MWj82e23"
      },
      "outputs": [],
      "source": [
        "def evaluate_model(y_true, y_pred):\n",
        "    print(\"Classification Report:\")\n",
        "    print(classification_report(y_true, y_pred))\n",
        "\n",
        "    print(f\"Accuracy: {accuracy_score(y_true, y_pred):.2f}\")\n",
        "\n",
        "    # Confusion matrix\n",
        "    cm = confusion_matrix(y_true, y_pred)\n",
        "    plt.figure(figsize=(8, 6))\n",
        "    sns.heatmap(cm, annot=True, fmt='d', cmap='Blues', xticklabels=['Not Satisfied', 'Satisfied'], yticklabels=['Not Satisfied', 'Satisfied'])\n",
        "    plt.xlabel('Predicted')\n",
        "    plt.ylabel('True')\n",
        "    plt.title('Confusion Matrix')\n",
        "    plt.show()\n",
        "\n",
        "def display_predictions(df, y_true, y_pred, n=5):\n",
        "    df['true_label'] = y_true\n",
        "    df['predicted_label'] = y_pred\n",
        "    correct = df[df['true_label'] == df['predicted_label']].sample(n)\n",
        "    incorrect = df[df['true_label'] != df['predicted_label']].sample(n)\n",
        "\n",
        "    print(\"Correct Predictions:\")\n",
        "    print(correct[['comment', 'true_label', 'predicted_label']])\n",
        "    print(\"\\nIncorrect Predictions:\")\n",
        "    print(incorrect[['comment', 'true_label', 'predicted_label']])"
      ]
    },
    {
      "cell_type": "code",
      "execution_count": 122,
      "metadata": {
        "colab": {
          "base_uri": "https://localhost:8080/",
          "height": 783
        },
        "id": "ir39dCOF2e23",
        "outputId": "4a283f11-d00a-43d5-80b1-9889df16019c"
      },
      "outputs": [
        {
          "name": "stdout",
          "output_type": "stream",
          "text": [
            "\u001b[1m129/129\u001b[0m \u001b[32m━━━━━━━━━━━━━━━━━━━━\u001b[0m\u001b[37m\u001b[0m \u001b[1m1s\u001b[0m 7ms/step\n",
            "Classification Report:\n",
            "              precision    recall  f1-score   support\n",
            "\n",
            "           0       0.85      0.80      0.82      1398\n",
            "           1       0.90      0.93      0.91      2700\n",
            "\n",
            "    accuracy                           0.88      4098\n",
            "   macro avg       0.87      0.86      0.87      4098\n",
            "weighted avg       0.88      0.88      0.88      4098\n",
            "\n",
            "Accuracy: 0.88\n"
          ]
        },
        {
          "data": {
            "image/png": "[encoded data removed]",
            "text/plain": [
              "<Figure size 800x600 with 2 Axes>"
            ]
          },
          "metadata": {},
          "output_type": "display_data"
        }
      ],
      "source": [
        "X_array_original = np.array(df_comments['comment'])\n",
        "\n",
        "y_pred = best_lstm_model.predict(X_test)\n",
        "y_pred_binary = np.where(y_pred >= 0.5, 1, 0)\n",
        "\n",
        "# Visualize examples\n",
        "def get_correct_and_incorrect(X_test: np.array, y_test: pd.Series, y_pred: np.array, n=10):\n",
        "    df_test = pd.DataFrame(X_test).iloc[y_test.index]\n",
        "    df_test['true_label'] = y_test.values\n",
        "    df_test['predicted_label'] = y_pred\n",
        "    df_test.columns = ['comment' if i == 0 else col for i, col in enumerate(df_test.columns)]\n",
        "\n",
        "    correct = df_test[df_test['true_label'] == df_test['predicted_label']].sample(n)\n",
        "    incorrect = df_test[df_test['true_label'] != df_test['predicted_label']].sample(n)\n",
        "\n",
        "    return correct, incorrect\n",
        "\n",
        "correct, incorrect = get_correct_and_incorrect(X_array_original, y_test, y_pred_binary)\n",
        "\n",
        "evaluate_model(y_test, y_pred_binary)\n"
      ]
    },
    {
      "cell_type": "code",
      "execution_count": 123,
      "metadata": {
        "colab": {
          "base_uri": "https://localhost:8080/",
          "height": 381
        },
        "id": "Mw5guExz2e24",
        "outputId": "82b21e4d-7a68-4df1-d1f2-0a3abf283be2"
      },
      "outputs": [
        {
          "name": "stdout",
          "output_type": "stream",
          "text": [
            "Correct examples:\n"
          ]
        },
        {
          "data": {
            "text/html": [
              "<div>\n",
              "<style scoped>\n",
              "    .dataframe tbody tr th:only-of-type {\n",
              "        vertical-align: middle;\n",
              "    }\n",
              "\n",
              "    .dataframe tbody tr th {\n",
              "        vertical-align: top;\n",
              "    }\n",
              "\n",
              "    .dataframe thead th {\n",
              "        text-align: right;\n",
              "    }\n",
              "</style>\n",
              "<table border=\"1\" class=\"dataframe\">\n",
              "  <thead>\n",
              "    <tr style=\"text-align: right;\">\n",
              "      <th></th>\n",
              "      <th>comment</th>\n",
              "      <th>true_label</th>\n",
              "      <th>predicted_label</th>\n",
              "    </tr>\n",
              "  </thead>\n",
              "  <tbody>\n",
              "    <tr>\n",
              "      <th>28131</th>\n",
              "      <td>Muito bom</td>\n",
              "      <td>1</td>\n",
              "      <td>1</td>\n",
              "    </tr>\n",
              "    <tr>\n",
              "      <th>35628</th>\n",
              "      <td>Já faz mais de 1 mês que comprei, e nada de en...</td>\n",
              "      <td>0</td>\n",
              "      <td>0</td>\n",
              "    </tr>\n",
              "    <tr>\n",
              "      <th>31916</th>\n",
              "      <td>Bom</td>\n",
              "      <td>1</td>\n",
              "      <td>1</td>\n",
              "    </tr>\n",
              "    <tr>\n",
              "      <th>30046</th>\n",
              "      <td>Entrega nao foi feita , pedsimo atendimento . ...</td>\n",
              "      <td>0</td>\n",
              "      <td>0</td>\n",
              "    </tr>\n",
              "    <tr>\n",
              "      <th>36677</th>\n",
              "      <td>Gostei muito parabéns</td>\n",
              "      <td>1</td>\n",
              "      <td>1</td>\n",
              "    </tr>\n",
              "    <tr>\n",
              "      <th>32990</th>\n",
              "      <td>Relógios Casio são os melhores, principalmente...</td>\n",
              "      <td>1</td>\n",
              "      <td>1</td>\n",
              "    </tr>\n",
              "    <tr>\n",
              "      <th>18308</th>\n",
              "      <td>olha eu comprei dois produtos mas so foi entre...</td>\n",
              "      <td>0</td>\n",
              "      <td>0</td>\n",
              "    </tr>\n",
              "    <tr>\n",
              "      <th>4879</th>\n",
              "      <td>Comprei e eles não tinham o produto.</td>\n",
              "      <td>0</td>\n",
              "      <td>0</td>\n",
              "    </tr>\n",
              "    <tr>\n",
              "      <th>24595</th>\n",
              "      <td>Ótima lindo..</td>\n",
              "      <td>1</td>\n",
              "      <td>1</td>\n",
              "    </tr>\n",
              "    <tr>\n",
              "      <th>3095</th>\n",
              "      <td>excelente</td>\n",
              "      <td>1</td>\n",
              "      <td>1</td>\n",
              "    </tr>\n",
              "  </tbody>\n",
              "</table>\n",
              "</div>"
            ],
            "text/plain": [
              "                                                 comment  true_label  \\\n",
              "28131                                          Muito bom           1   \n",
              "35628  Já faz mais de 1 mês que comprei, e nada de en...           0   \n",
              "31916                                                Bom           1   \n",
              "30046  Entrega nao foi feita , pedsimo atendimento . ...           0   \n",
              "36677                              Gostei muito parabéns           1   \n",
              "32990  Relógios Casio são os melhores, principalmente...           1   \n",
              "18308  olha eu comprei dois produtos mas so foi entre...           0   \n",
              "4879               Comprei e eles não tinham o produto.            0   \n",
              "24595                                      Ótima lindo..           1   \n",
              "3095                                           excelente           1   \n",
              "\n",
              "       predicted_label  \n",
              "28131                1  \n",
              "35628                0  \n",
              "31916                1  \n",
              "30046                0  \n",
              "36677                1  \n",
              "32990                1  \n",
              "18308                0  \n",
              "4879                 0  \n",
              "24595                1  \n",
              "3095                 1  "
            ]
          },
          "execution_count": 123,
          "metadata": {},
          "output_type": "execute_result"
        }
      ],
      "source": [
        "print(\"Correct examples:\")\n",
        "correct"
      ]
    },
    {
      "cell_type": "code",
      "execution_count": 124,
      "metadata": {
        "colab": {
          "base_uri": "https://localhost:8080/",
          "height": 381
        },
        "id": "WOlWFqNw2e24",
        "outputId": "1edb448c-fbd5-419b-bcfe-0d89a1726594"
      },
      "outputs": [
        {
          "name": "stdout",
          "output_type": "stream",
          "text": [
            "Incorrect examples:\n"
          ]
        },
        {
          "data": {
            "text/html": [
              "<div>\n",
              "<style scoped>\n",
              "    .dataframe tbody tr th:only-of-type {\n",
              "        vertical-align: middle;\n",
              "    }\n",
              "\n",
              "    .dataframe tbody tr th {\n",
              "        vertical-align: top;\n",
              "    }\n",
              "\n",
              "    .dataframe thead th {\n",
              "        text-align: right;\n",
              "    }\n",
              "</style>\n",
              "<table border=\"1\" class=\"dataframe\">\n",
              "  <thead>\n",
              "    <tr style=\"text-align: right;\">\n",
              "      <th></th>\n",
              "      <th>comment</th>\n",
              "      <th>true_label</th>\n",
              "      <th>predicted_label</th>\n",
              "    </tr>\n",
              "  </thead>\n",
              "  <tbody>\n",
              "    <tr>\n",
              "      <th>3248</th>\n",
              "      <td>Só que na descrição do produto, consta q vem c...</td>\n",
              "      <td>1</td>\n",
              "      <td>0</td>\n",
              "    </tr>\n",
              "    <tr>\n",
              "      <th>36316</th>\n",
              "      <td>Gostei muito da mercadoria e gostaria de fazer...</td>\n",
              "      <td>1</td>\n",
              "      <td>0</td>\n",
              "    </tr>\n",
              "    <tr>\n",
              "      <th>39138</th>\n",
              "      <td>Nao entrega o pedido no prazo certo</td>\n",
              "      <td>0</td>\n",
              "      <td>1</td>\n",
              "    </tr>\n",
              "    <tr>\n",
              "      <th>14857</th>\n",
              "      <td>Como das outras compras não tive problemas.</td>\n",
              "      <td>1</td>\n",
              "      <td>0</td>\n",
              "    </tr>\n",
              "    <tr>\n",
              "      <th>23198</th>\n",
              "      <td>Recebi tudo amtes do prazo o teclaclado é top,...</td>\n",
              "      <td>1</td>\n",
              "      <td>0</td>\n",
              "    </tr>\n",
              "    <tr>\n",
              "      <th>34638</th>\n",
              "      <td>demorou muito o produto ser entregue eu pensav...</td>\n",
              "      <td>1</td>\n",
              "      <td>0</td>\n",
              "    </tr>\n",
              "    <tr>\n",
              "      <th>22756</th>\n",
              "      <td>Na descrição do produto a base do pendente era...</td>\n",
              "      <td>1</td>\n",
              "      <td>0</td>\n",
              "    </tr>\n",
              "    <tr>\n",
              "      <th>1147</th>\n",
              "      <td>Arranhador veio com lascas na base por conta d...</td>\n",
              "      <td>0</td>\n",
              "      <td>1</td>\n",
              "    </tr>\n",
              "    <tr>\n",
              "      <th>4592</th>\n",
              "      <td>Produto idêntico ao anunciado. Não recebi no p...</td>\n",
              "      <td>1</td>\n",
              "      <td>0</td>\n",
              "    </tr>\n",
              "    <tr>\n",
              "      <th>12564</th>\n",
              "      <td>Ótima compra demoro um pouco para chegar mais ...</td>\n",
              "      <td>0</td>\n",
              "      <td>1</td>\n",
              "    </tr>\n",
              "  </tbody>\n",
              "</table>\n",
              "</div>"
            ],
            "text/plain": [
              "                                                 comment  true_label  \\\n",
              "3248   Só que na descrição do produto, consta q vem c...           1   \n",
              "36316  Gostei muito da mercadoria e gostaria de fazer...           1   \n",
              "39138               Nao entrega o pedido no prazo certo            0   \n",
              "14857        Como das outras compras não tive problemas.           1   \n",
              "23198  Recebi tudo amtes do prazo o teclaclado é top,...           1   \n",
              "34638  demorou muito o produto ser entregue eu pensav...           1   \n",
              "22756  Na descrição do produto a base do pendente era...           1   \n",
              "1147   Arranhador veio com lascas na base por conta d...           0   \n",
              "4592   Produto idêntico ao anunciado. Não recebi no p...           1   \n",
              "12564  Ótima compra demoro um pouco para chegar mais ...           0   \n",
              "\n",
              "       predicted_label  \n",
              "3248                 0  \n",
              "36316                0  \n",
              "39138                1  \n",
              "14857                0  \n",
              "23198                0  \n",
              "34638                0  \n",
              "22756                0  \n",
              "1147                 1  \n",
              "4592                 0  \n",
              "12564                1  "
            ]
          },
          "execution_count": 124,
          "metadata": {},
          "output_type": "execute_result"
        }
      ],
      "source": [
        "print(\"Incorrect examples:\")\n",
        "incorrect\n"
      ]
    },
    {
      "cell_type": "markdown",
      "metadata": {
        "id": "w-nXvQwz2e25"
      },
      "source": [
        "## Dense model with Regex Transformers + TF-IDF Vectorizer"
      ]
    },
    {
      "cell_type": "markdown",
      "metadata": {
        "id": "0tEsKkX32e25"
      },
      "source": [
        "### Feature Extraction\n",
        "\n",
        "After the RegEx, stopwords removal and stemming application, we can use Bag of Words, TF-IDF and Word2Vec to get more meaning. To make our analysis easier, let's define a function that receives a text and a vectorizer object and applies the feature extraction on the respective text."
      ]
    },
    {
      "cell_type": "markdown",
      "metadata": {
        "id": "DyOoN_BF2e25"
      },
      "source": [
        "#### CountVectorizer\n",
        "\n",
        "Count vectorization is a technique in NLP that converts text documents into a matrix of token counts. Tokens can be words, characters, or n-grams. Each token represents a column in the matrix, and the resulting vector for each document has counts for each token.\n",
        "\n",
        "On the Bag of Words approach, we create a dictionary vocabulary with all the unique words and, for each word in each comment/text string, we index the words into a vector that represents the occurrence (1) or not (0) of each word. This is a way for transforming a text into a frequency vector considering a literal bag of words (dictionary vocabulary).\n",
        "\n",
        "Example:"
      ]
    },
    {
      "cell_type": "code",
      "execution_count": 125,
      "metadata": {
        "colab": {
          "base_uri": "https://localhost:8080/"
        },
        "id": "UVt67_3Y2e26",
        "outputId": "231f1eb0-e93a-4134-ab6d-5840e1866f3d"
      },
      "outputs": [
        {
          "data": {
            "text/plain": [
              "{'this': 8,\n",
              " 'is': 3,\n",
              " 'the': 6,\n",
              " 'first': 2,\n",
              " 'document': 1,\n",
              " 'second': 5,\n",
              " 'and': 0,\n",
              " 'third': 7,\n",
              " 'one': 4}"
            ]
          },
          "execution_count": 125,
          "metadata": {},
          "output_type": "execute_result"
        }
      ],
      "source": [
        "corpus = [\n",
        "    'This is the first document',\n",
        "    'This document is the second document',\n",
        "    'and this is the third one',\n",
        "    'is this the first document'\n",
        "]\n",
        "\n",
        "vec = CountVectorizer().fit(corpus)\n",
        "vec.vocabulary_"
      ]
    },
    {
      "cell_type": "code",
      "execution_count": 126,
      "metadata": {
        "colab": {
          "base_uri": "https://localhost:8080/"
        },
        "id": "VfgX6YcZ2e26",
        "outputId": "f0d6d1fc-5b84-4e28-c7ed-3b096f417761"
      },
      "outputs": [
        {
          "data": {
            "text/plain": [
              "array([[0, 1, 1, 1, 0, 0, 1, 0, 1],\n",
              "       [0, 2, 0, 1, 0, 1, 1, 0, 1],\n",
              "       [1, 0, 0, 1, 1, 0, 1, 1, 1],\n",
              "       [0, 1, 1, 1, 0, 0, 1, 0, 1]])"
            ]
          },
          "execution_count": 126,
          "metadata": {},
          "output_type": "execute_result"
        }
      ],
      "source": [
        "vec.transform(corpus).toarray()"
      ]
    },
    {
      "cell_type": "markdown",
      "metadata": {
        "id": "s1usMedh2e27"
      },
      "source": [
        "#### TF-IDF\n",
        "\n",
        "With the Bag of Words approach, each word has the same weight, which may not be true all the time, especially for those words with a very low frequency in the corpus. So, the TF-IDF (Term Frequency and Inverse Document Frequency) approach can be used with the scikit-learn library following the formulas:\n",
        "\n",
        "$$\n",
        "TF = \\frac{\\text{Frequency of a word in the document}}{\\text{Total words in the document}}\n",
        "$$\n",
        "\n",
        "$$\n",
        "IDF = \\log\\left(\\frac{\\text{Total number of documents}}{\\text{Number of documents containing the word}}\\right)\n",
        "$$\n",
        "\n",
        "The purpose of using tf-idf instead of simply counting the frequency of a token in a document is to reduce the influence of tokens that appear very frequently in a given collection of documents. These tokens are less informative than those appearing in only a small fraction of the corpus. Scaling down the impact of these frequently occurring tokens helps improve text-based machine-learning models’ accuracy.\n",
        "\n",
        "Example:"
      ]
    },
    {
      "cell_type": "code",
      "execution_count": 127,
      "metadata": {
        "colab": {
          "base_uri": "https://localhost:8080/"
        },
        "id": "MqLh6YU_2e27",
        "outputId": "ed8c12cd-949c-474c-a4e5-6049344ddc5f"
      },
      "outputs": [
        {
          "data": {
            "text/plain": [
              "array([[0.        , 0.46979139, 0.58028582, 0.38408524, 0.        ,\n",
              "        0.        , 0.38408524, 0.        , 0.38408524],\n",
              "       [0.        , 0.6876236 , 0.        , 0.28108867, 0.        ,\n",
              "        0.53864762, 0.28108867, 0.        , 0.28108867],\n",
              "       [0.51184851, 0.        , 0.        , 0.26710379, 0.51184851,\n",
              "        0.        , 0.26710379, 0.51184851, 0.26710379],\n",
              "       [0.        , 0.46979139, 0.58028582, 0.38408524, 0.        ,\n",
              "        0.        , 0.38408524, 0.        , 0.38408524]])"
            ]
          },
          "execution_count": 127,
          "metadata": {},
          "output_type": "execute_result"
        }
      ],
      "source": [
        "vectorized = vec.transform(corpus).toarray()\n",
        "tfid = TfidfTransformer().fit(vectorized)\n",
        "\n",
        "tfid.transform(vectorized).toarray()"
      ]
    },
    {
      "cell_type": "code",
      "execution_count": 128,
      "metadata": {
        "id": "Sc9MiVU_2e27"
      },
      "outputs": [],
      "source": [
        "# [TEXT PREP] Class to apply multiple RegEx functions on a dict\n",
        "class ApplyRegex(BaseEstimator, TransformerMixin):\n",
        "\n",
        "    def __init__(self, regex_transformers):\n",
        "        self.regex_transformers = regex_transformers\n",
        "\n",
        "    def fit(self, X, y=None):\n",
        "        return self\n",
        "\n",
        "    def transform(self, X, y=None):\n",
        "        # Applying all regex functions in the regex_transformers dictionary\n",
        "        for regex_name, regex_function in self.regex_transformers.items():\n",
        "            X = regex_function(X)\n",
        "\n",
        "        return X\n",
        "\n",
        "\n",
        "# [TEXT PREP] Class to remove stopwords\n",
        "class StopWordsRemoval(BaseEstimator, TransformerMixin):\n",
        "\n",
        "    def __init__(self, text_stopwords):\n",
        "        self.text_stopwords = text_stopwords\n",
        "\n",
        "    def fit(self, X, y=None):\n",
        "        return self\n",
        "\n",
        "    def transform(self, X, y=None):\n",
        "        return [' '.join(stopwords_removal(comment, self.text_stopwords)) for comment in X]\n",
        "\n",
        "\n",
        "# [TEXT PREP] Class to apply stemming\n",
        "class StemmingProcess(BaseEstimator, TransformerMixin):\n",
        "\n",
        "    def __init__(self, stemmer):\n",
        "        self.stemmer = stemmer\n",
        "\n",
        "    def fit(self, X, y=None):\n",
        "        return self\n",
        "\n",
        "    def transform(self, X, y=None):\n",
        "        return [' '.join(stemming_process(comment, self.stemmer)) for comment in X]\n",
        "\n",
        "\n",
        "# [TEXT PREP] Class to extract features (vocab / bag of words / TF-IDF)\n",
        "class TextFeatureExtraction(BaseEstimator, TransformerMixin):\n",
        "\n",
        "    def __init__(self, vectorizer, train=True):\n",
        "        self.vectorizer = vectorizer\n",
        "        self.train = train\n",
        "\n",
        "    def fit(self, X, y=None):\n",
        "        return self\n",
        "\n",
        "    def transform(self, X, y=None):\n",
        "        if self.train:\n",
        "            return self.vectorizer.fit_transform(X).toarray()\n",
        "        else:\n",
        "            return self.vectorizer.transform(X)"
      ]
    },
    {
      "cell_type": "code",
      "execution_count": 129,
      "metadata": {
        "id": "WWuSW3LX2e28"
      },
      "outputs": [],
      "source": [
        "# Defining regex transformers to be applied\n",
        "regex_transformers = {\n",
        "    'break_line': re_breakline,\n",
        "    'hiperlinks': re_hiperlinks,\n",
        "    'dates': re_dates,\n",
        "    'money': re_money,\n",
        "    'numbers': re_numbers,\n",
        "    'negation': re_negation,\n",
        "    'special_chars': re_special_chars,\n",
        "    'whitespaces': re_whitespaces\n",
        "}\n",
        "\n",
        "# Defining the vectorizer to extract features from text\n",
        "vectorizer = TfidfVectorizer(max_features=300, min_df=7, max_df=0.8, stop_words=pt_stopwords)\n",
        "\n",
        "# Building the Pipeline\n",
        "text_pipeline = Pipeline([\n",
        "    ('regex', ApplyRegex(regex_transformers)),\n",
        "    ('stopwords', StopWordsRemoval(nltk.corpus.stopwords.words('portuguese'))),\n",
        "    ('stemming', StemmingProcess(nltk.stem.RSLPStemmer())),\n",
        "    ('text_features', TextFeatureExtraction(vectorizer))\n",
        "])"
      ]
    },
    {
      "cell_type": "markdown",
      "metadata": {
        "id": "c4qCk9Q_2e28"
      },
      "source": [
        "* max_features=300: indicates that the matrix will be created using the 300 most common words from the corpus\n",
        "* max_df=0.8: indicates that we will use only words with at least 80% frequency in the corpus\n",
        "* min_df=7: indicates that we will use only words that occurs in at least 7 text strings in the corpus"
      ]
    },
    {
      "cell_type": "code",
      "execution_count": 130,
      "metadata": {
        "id": "gUUOoFpy2e29"
      },
      "outputs": [],
      "source": [
        "X = df_comments['comment']\n",
        "\n",
        "X_transformed = text_pipeline.fit_transform(reviews_final)"
      ]
    },
    {
      "cell_type": "code",
      "execution_count": 131,
      "metadata": {
        "id": "0an69owE2e29"
      },
      "outputs": [],
      "source": [
        "X_train_trans, X_val_trans, X_test_trans, y_train_trans, y_val_trans, y_test_trans = train_val_test_split(X_transformed, y)"
      ]
    },
    {
      "cell_type": "code",
      "execution_count": 132,
      "metadata": {
        "colab": {
          "base_uri": "https://localhost:8080/"
        },
        "id": "vvP0jDeT2e29",
        "outputId": "00099d29-4103-4a6a-9cf3-eb53cde9dfb4"
      },
      "outputs": [
        {
          "data": {
            "text/plain": [
              "array([0.        , 0.        , 0.        , 0.        , 0.        ,\n",
              "       0.        , 0.        , 0.        , 0.        , 0.43824671,\n",
              "       0.        , 0.        , 0.        , 0.        , 0.        ,\n",
              "       0.        , 0.        , 0.        , 0.        , 0.        ,\n",
              "       0.        , 0.        , 0.        , 0.        , 0.        ,\n",
              "       0.        , 0.        , 0.        , 0.        , 0.        ,\n",
              "       0.        , 0.        , 0.        , 0.        , 0.        ,\n",
              "       0.        , 0.        , 0.        , 0.        , 0.        ,\n",
              "       0.        , 0.        , 0.        , 0.        , 0.        ,\n",
              "       0.        , 0.        , 0.        , 0.32527411, 0.        ,\n",
              "       0.        , 0.        , 0.        , 0.        , 0.        ,\n",
              "       0.        , 0.        , 0.        , 0.        , 0.        ,\n",
              "       0.        , 0.        , 0.        , 0.        , 0.        ,\n",
              "       0.        , 0.        , 0.        , 0.        , 0.        ,\n",
              "       0.        , 0.        , 0.        , 0.        , 0.        ,\n",
              "       0.        , 0.        , 0.        , 0.        , 0.        ,\n",
              "       0.        , 0.        , 0.        , 0.        , 0.        ,\n",
              "       0.        , 0.        , 0.        , 0.        , 0.        ,\n",
              "       0.        , 0.        , 0.        , 0.        , 0.        ,\n",
              "       0.        , 0.        , 0.        , 0.        , 0.        ,\n",
              "       0.        , 0.        , 0.25943248, 0.        , 0.        ,\n",
              "       0.        , 0.        , 0.        , 0.        , 0.        ,\n",
              "       0.        , 0.        , 0.        , 0.        , 0.        ,\n",
              "       0.        , 0.        , 0.        , 0.        , 0.        ,\n",
              "       0.        , 0.        , 0.        , 0.        , 0.        ,\n",
              "       0.        , 0.        , 0.        , 0.        , 0.        ,\n",
              "       0.        , 0.        , 0.        , 0.        , 0.        ,\n",
              "       0.        , 0.        , 0.        , 0.        , 0.        ,\n",
              "       0.        , 0.        , 0.        , 0.        , 0.        ,\n",
              "       0.        , 0.        , 0.        , 0.        , 0.        ,\n",
              "       0.        , 0.        , 0.        , 0.        , 0.        ,\n",
              "       0.        , 0.        , 0.        , 0.        , 0.        ,\n",
              "       0.        , 0.        , 0.        , 0.        , 0.        ,\n",
              "       0.        , 0.        , 0.        , 0.        , 0.        ,\n",
              "       0.        , 0.        , 0.        , 0.        , 0.        ,\n",
              "       0.        , 0.        , 0.        , 0.27427872, 0.        ,\n",
              "       0.        , 0.        , 0.        , 0.        , 0.        ,\n",
              "       0.        , 0.        , 0.        , 0.        , 0.        ,\n",
              "       0.        , 0.        , 0.        , 0.        , 0.        ,\n",
              "       0.        , 0.        , 0.65831002, 0.        , 0.        ,\n",
              "       0.        , 0.        , 0.        , 0.        , 0.        ,\n",
              "       0.        , 0.        , 0.        , 0.        , 0.        ,\n",
              "       0.        , 0.        , 0.        , 0.        , 0.29037051,\n",
              "       0.        , 0.        , 0.        , 0.        , 0.        ,\n",
              "       0.        , 0.        , 0.        , 0.2047326 , 0.        ,\n",
              "       0.        , 0.        , 0.        , 0.        , 0.        ,\n",
              "       0.        , 0.        , 0.        , 0.        , 0.        ,\n",
              "       0.        , 0.        , 0.        , 0.        , 0.        ,\n",
              "       0.        , 0.        , 0.        , 0.        , 0.        ,\n",
              "       0.        , 0.        , 0.        , 0.        , 0.        ,\n",
              "       0.        , 0.        , 0.        , 0.        , 0.        ,\n",
              "       0.        , 0.        , 0.        , 0.        , 0.        ,\n",
              "       0.        , 0.        , 0.        , 0.        , 0.        ,\n",
              "       0.        , 0.        , 0.        , 0.        , 0.        ,\n",
              "       0.        , 0.        , 0.        , 0.        , 0.        ,\n",
              "       0.        , 0.        , 0.        , 0.        , 0.        ,\n",
              "       0.        , 0.        , 0.        , 0.        , 0.        ,\n",
              "       0.        , 0.        , 0.        , 0.        , 0.        ,\n",
              "       0.        , 0.        , 0.        , 0.        , 0.        ,\n",
              "       0.        , 0.        , 0.        , 0.        , 0.        ])"
            ]
          },
          "execution_count": 132,
          "metadata": {},
          "output_type": "execute_result"
        }
      ],
      "source": [
        "X_train_trans[500]"
      ]
    },
    {
      "cell_type": "markdown",
      "metadata": {
        "id": "z4vwatIw2e2-"
      },
      "source": [
        "### Models"
      ]
    },
    {
      "cell_type": "markdown",
      "metadata": {
        "id": "hyzwwoYq2e2-"
      },
      "source": [
        "We will train a bunch of models to see if we can improve performance in relation to the lstm model without TF-IDF"
      ]
    },
    {
      "cell_type": "code",
      "execution_count": 133,
      "metadata": {
        "colab": {
          "base_uri": "https://localhost:8080/",
          "height": 1000
        },
        "id": "w66m7MDg2e2-",
        "outputId": "56fc5a27-4170-4fea-decd-83ea2a6465dc"
      },
      "outputs": [
        {
          "name": "stdout",
          "output_type": "stream",
          "text": [
            "Epoch 1/100\n"
          ]
        },
        {
          "name": "stderr",
          "output_type": "stream",
          "text": [
            "2025-02-03 11:20:09.557114: W external/local_xla/xla/tsl/framework/cpu_allocator_impl.cc:83] Allocation of 39337200 exceeds 10% of free system memory.\n"
          ]
        },
        {
          "name": "stdout",
          "output_type": "stream",
          "text": [
            "\u001b[1m1025/1025\u001b[0m \u001b[32m━━━━━━━━━━━━━━━━━━━━\u001b[0m\u001b[37m\u001b[0m \u001b[1m3s\u001b[0m 2ms/step - accuracy: 0.8224 - loss: 0.3885 - val_accuracy: 0.8865 - val_loss: 0.2945\n",
            "Epoch 2/100\n",
            "\u001b[1m1025/1025\u001b[0m \u001b[32m━━━━━━━━━━━━━━━━━━━━\u001b[0m\u001b[37m\u001b[0m \u001b[1m2s\u001b[0m 1ms/step - accuracy: 0.8913 - loss: 0.2857 - val_accuracy: 0.8892 - val_loss: 0.2897\n",
            "Epoch 3/100\n",
            "\u001b[1m1025/1025\u001b[0m \u001b[32m━━━━━━━━━━━━━━━━━━━━\u001b[0m\u001b[37m\u001b[0m \u001b[1m2s\u001b[0m 1ms/step - accuracy: 0.8976 - loss: 0.2720 - val_accuracy: 0.8887 - val_loss: 0.2879\n",
            "Epoch 4/100\n",
            "\u001b[1m1025/1025\u001b[0m \u001b[32m━━━━━━━━━━━━━━━━━━━━\u001b[0m\u001b[37m\u001b[0m \u001b[1m2s\u001b[0m 1ms/step - accuracy: 0.9029 - loss: 0.2602 - val_accuracy: 0.8909 - val_loss: 0.2891\n",
            "Epoch 5/100\n",
            "\u001b[1m1025/1025\u001b[0m \u001b[32m━━━━━━━━━━━━━━━━━━━━\u001b[0m\u001b[37m\u001b[0m \u001b[1m2s\u001b[0m 2ms/step - accuracy: 0.9073 - loss: 0.2482 - val_accuracy: 0.8870 - val_loss: 0.2921\n",
            "Epoch 6/100\n",
            "\u001b[1m1025/1025\u001b[0m \u001b[32m━━━━━━━━━━━━━━━━━━━━\u001b[0m\u001b[37m\u001b[0m \u001b[1m2s\u001b[0m 1ms/step - accuracy: 0.9158 - loss: 0.2338 - val_accuracy: 0.8853 - val_loss: 0.2991\n",
            "Epoch 7/100\n",
            "\u001b[1m1025/1025\u001b[0m \u001b[32m━━━━━━━━━━━━━━━━━━━━\u001b[0m\u001b[37m\u001b[0m \u001b[1m2s\u001b[0m 1ms/step - accuracy: 0.9220 - loss: 0.2237 - val_accuracy: 0.8819 - val_loss: 0.3060\n",
            "Epoch 8/100\n",
            "\u001b[1m1025/1025\u001b[0m \u001b[32m━━━━━━━━━━━━━━━━━━━━\u001b[0m\u001b[37m\u001b[0m \u001b[1m2s\u001b[0m 1ms/step - accuracy: 0.9265 - loss: 0.2078 - val_accuracy: 0.8819 - val_loss: 0.3166\n",
            "\u001b[1m129/129\u001b[0m \u001b[32m━━━━━━━━━━━━━━━━━━━━\u001b[0m\u001b[37m\u001b[0m \u001b[1m0s\u001b[0m 784us/step\n",
            "Classification Report:\n",
            "              precision    recall  f1-score   support\n",
            "\n",
            "           0       0.84      0.81      0.83      1398\n",
            "           1       0.90      0.92      0.91      2700\n",
            "\n",
            "    accuracy                           0.88      4098\n",
            "   macro avg       0.87      0.87      0.87      4098\n",
            "weighted avg       0.88      0.88      0.88      4098\n",
            "\n",
            "Accuracy: 0.88\n"
          ]
        },
        {
          "data": {
            "image/png": "[encoded data removed]",
            "text/plain": [
              "<Figure size 800x600 with 2 Axes>"
            ]
          },
          "metadata": {},
          "output_type": "display_data"
        }
      ],
      "source": [
        "model = models.Sequential([\n",
        "    layers.Dense(128, activation='relu'),\n",
        "    layers.Dropout(0.3),\n",
        "    layers.Dense(64, activation='relu'),\n",
        "    layers.Dropout(0.3),\n",
        "    layers.Dense(2, activation='softmax')\n",
        "])\n",
        "\n",
        "model.compile(optimizer='adam', loss='sparse_categorical_crossentropy', metrics=['accuracy'])\n",
        "model.fit(X_train_trans, y_train_trans, epochs=100, batch_size=32, validation_data=(X_val_trans, y_val_trans), callbacks=early_stopping)\n",
        "\n",
        "# Model evaluation\n",
        "y_pred = model.predict(X_test_trans)\n",
        "y_pred_binary = np.where(y_pred[:,1] >= 0.5, 1, 0)\n",
        "\n",
        "evaluate_model(y_test_trans, y_pred_binary)"
      ]
    },
    {
      "cell_type": "code",
      "execution_count": 134,
      "metadata": {
        "colab": {
          "base_uri": "https://localhost:8080/",
          "height": 966
        },
        "id": "Y9A4hpH02e2_",
        "outputId": "f0f547ab-c39d-493c-d570-8d2cab328e7a"
      },
      "outputs": [
        {
          "name": "stdout",
          "output_type": "stream",
          "text": [
            "Epoch 1/100\n",
            "\u001b[1m1025/1025\u001b[0m \u001b[32m━━━━━━━━━━━━━━━━━━━━\u001b[0m\u001b[37m\u001b[0m \u001b[1m3s\u001b[0m 2ms/step - accuracy: 0.8239 - loss: 0.3813 - val_accuracy: 0.8875 - val_loss: 0.2956\n",
            "Epoch 2/100\n",
            "\u001b[1m1025/1025\u001b[0m \u001b[32m━━━━━━━━━━━━━━━━━━━━\u001b[0m\u001b[37m\u001b[0m \u001b[1m2s\u001b[0m 2ms/step - accuracy: 0.8934 - loss: 0.2825 - val_accuracy: 0.8878 - val_loss: 0.2908\n",
            "Epoch 3/100\n",
            "\u001b[1m1025/1025\u001b[0m \u001b[32m━━━━━━━━━━━━━━━━━━━━\u001b[0m\u001b[37m\u001b[0m \u001b[1m2s\u001b[0m 2ms/step - accuracy: 0.8974 - loss: 0.2702 - val_accuracy: 0.8863 - val_loss: 0.2900\n",
            "Epoch 4/100\n",
            "\u001b[1m1025/1025\u001b[0m \u001b[32m━━━━━━━━━━━━━━━━━━━━\u001b[0m\u001b[37m\u001b[0m \u001b[1m2s\u001b[0m 2ms/step - accuracy: 0.9061 - loss: 0.2542 - val_accuracy: 0.8878 - val_loss: 0.2910\n",
            "Epoch 5/100\n",
            "\u001b[1m1025/1025\u001b[0m \u001b[32m━━━━━━━━━━━━━━━━━━━━\u001b[0m\u001b[37m\u001b[0m \u001b[1m3s\u001b[0m 2ms/step - accuracy: 0.9117 - loss: 0.2431 - val_accuracy: 0.8878 - val_loss: 0.2974\n",
            "Epoch 6/100\n",
            "\u001b[1m1025/1025\u001b[0m \u001b[32m━━━━━━━━━━━━━━━━━━━━\u001b[0m\u001b[37m\u001b[0m \u001b[1m2s\u001b[0m 2ms/step - accuracy: 0.9171 - loss: 0.2323 - val_accuracy: 0.8831 - val_loss: 0.3092\n",
            "Epoch 7/100\n",
            "\u001b[1m1025/1025\u001b[0m \u001b[32m━━━━━━━━━━━━━━━━━━━━\u001b[0m\u001b[37m\u001b[0m \u001b[1m2s\u001b[0m 2ms/step - accuracy: 0.9218 - loss: 0.2195 - val_accuracy: 0.8843 - val_loss: 0.3189\n",
            "Epoch 8/100\n",
            "\u001b[1m1025/1025\u001b[0m \u001b[32m━━━━━━━━━━━━━━━━━━━━\u001b[0m\u001b[37m\u001b[0m \u001b[1m2s\u001b[0m 2ms/step - accuracy: 0.9249 - loss: 0.2089 - val_accuracy: 0.8865 - val_loss: 0.3246\n",
            "\u001b[1m129/129\u001b[0m \u001b[32m━━━━━━━━━━━━━━━━━━━━\u001b[0m\u001b[37m\u001b[0m \u001b[1m0s\u001b[0m 905us/step\n",
            "Classification Report:\n",
            "              precision    recall  f1-score   support\n",
            "\n",
            "           0       0.85      0.81      0.83      1398\n",
            "           1       0.90      0.93      0.91      2700\n",
            "\n",
            "    accuracy                           0.89      4098\n",
            "   macro avg       0.88      0.87      0.87      4098\n",
            "weighted avg       0.89      0.89      0.89      4098\n",
            "\n",
            "Accuracy: 0.89\n"
          ]
        },
        {
          "data": {
            "image/png": "[encoded data removed]",
            "text/plain": [
              "<Figure size 800x600 with 2 Axes>"
            ]
          },
          "metadata": {},
          "output_type": "display_data"
        }
      ],
      "source": [
        "model = models.Sequential([\n",
        "    layers.Dense(128, activation='relu'),\n",
        "    layers.Dropout(0.3),\n",
        "    layers.Dense(128, activation='relu'),\n",
        "    layers.Dropout(0.3),\n",
        "    layers.Dense(64, activation='relu'),\n",
        "    layers.Dense(2, activation='softmax')\n",
        "])\n",
        "\n",
        "model.compile(optimizer='adam', loss='sparse_categorical_crossentropy', metrics=['accuracy'])\n",
        "model.fit(X_train_trans, y_train_trans, epochs=100, batch_size=32, validation_data=(X_val_trans, y_val_trans), callbacks=early_stopping)\n",
        "\n",
        "# Model evaluation\n",
        "y_pred = model.predict(X_test_trans)\n",
        "y_pred_binary = np.where(y_pred[:,1] >= 0.5, 1, 0)\n",
        "\n",
        "evaluate_model(y_test_trans, y_pred_binary)\n"
      ]
    },
    {
      "cell_type": "code",
      "execution_count": 135,
      "metadata": {
        "colab": {
          "base_uri": "https://localhost:8080/",
          "height": 966
        },
        "id": "MawYxhjd2e3A",
        "outputId": "3226db86-d4f8-4add-d2f5-012bad048154"
      },
      "outputs": [
        {
          "name": "stdout",
          "output_type": "stream",
          "text": [
            "Epoch 1/100\n",
            "\u001b[1m1025/1025\u001b[0m \u001b[32m━━━━━━━━━━━━━━━━━━━━\u001b[0m\u001b[37m\u001b[0m \u001b[1m5s\u001b[0m 3ms/step - accuracy: 0.8207 - loss: 0.3923 - val_accuracy: 0.8868 - val_loss: 0.2980\n",
            "Epoch 2/100\n",
            "\u001b[1m1025/1025\u001b[0m \u001b[32m━━━━━━━━━━━━━━━━━━━━\u001b[0m\u001b[37m\u001b[0m \u001b[1m3s\u001b[0m 3ms/step - accuracy: 0.8932 - loss: 0.2863 - val_accuracy: 0.8848 - val_loss: 0.2934\n",
            "Epoch 3/100\n",
            "\u001b[1m1025/1025\u001b[0m \u001b[32m━━━━━━━━━━━━━━━━━━━━\u001b[0m\u001b[37m\u001b[0m \u001b[1m3s\u001b[0m 3ms/step - accuracy: 0.9019 - loss: 0.2675 - val_accuracy: 0.8899 - val_loss: 0.2907\n",
            "Epoch 4/100\n",
            "\u001b[1m1025/1025\u001b[0m \u001b[32m━━━━━━━━━━━━━━━━━━━━\u001b[0m\u001b[37m\u001b[0m \u001b[1m2s\u001b[0m 2ms/step - accuracy: 0.9117 - loss: 0.2491 - val_accuracy: 0.8878 - val_loss: 0.2959\n",
            "Epoch 5/100\n",
            "\u001b[1m1025/1025\u001b[0m \u001b[32m━━━━━━━━━━━━━━━━━━━━\u001b[0m\u001b[37m\u001b[0m \u001b[1m2s\u001b[0m 2ms/step - accuracy: 0.9185 - loss: 0.2337 - val_accuracy: 0.8821 - val_loss: 0.3060\n",
            "Epoch 6/100\n",
            "\u001b[1m1025/1025\u001b[0m \u001b[32m━━━━━━━━━━━━━━━━━━━━\u001b[0m\u001b[37m\u001b[0m \u001b[1m3s\u001b[0m 2ms/step - accuracy: 0.9234 - loss: 0.2194 - val_accuracy: 0.8865 - val_loss: 0.3064\n",
            "Epoch 7/100\n",
            "\u001b[1m1025/1025\u001b[0m \u001b[32m━━━━━━━━━━━━━━━━━━━━\u001b[0m\u001b[37m\u001b[0m \u001b[1m2s\u001b[0m 2ms/step - accuracy: 0.9268 - loss: 0.2087 - val_accuracy: 0.8819 - val_loss: 0.3344\n",
            "Epoch 8/100\n",
            "\u001b[1m1025/1025\u001b[0m \u001b[32m━━━━━━━━━━━━━━━━━━━━\u001b[0m\u001b[37m\u001b[0m \u001b[1m2s\u001b[0m 2ms/step - accuracy: 0.9332 - loss: 0.1903 - val_accuracy: 0.8824 - val_loss: 0.3345\n",
            "\u001b[1m129/129\u001b[0m \u001b[32m━━━━━━━━━━━━━━━━━━━━\u001b[0m\u001b[37m\u001b[0m \u001b[1m0s\u001b[0m 1ms/step\n",
            "Classification Report:\n",
            "              precision    recall  f1-score   support\n",
            "\n",
            "           0       0.83      0.83      0.83      1398\n",
            "           1       0.91      0.91      0.91      2700\n",
            "\n",
            "    accuracy                           0.89      4098\n",
            "   macro avg       0.87      0.87      0.87      4098\n",
            "weighted avg       0.89      0.89      0.89      4098\n",
            "\n",
            "Accuracy: 0.89\n"
          ]
        },
        {
          "data": {
            "image/png": "[encoded data removed]",
            "text/plain": [
              "<Figure size 800x600 with 2 Axes>"
            ]
          },
          "metadata": {},
          "output_type": "display_data"
        }
      ],
      "source": [
        "model = models.Sequential([\n",
        "    layers.Dense(254, activation='relu'),\n",
        "    layers.Dropout(0.3),\n",
        "    layers.Dense(128, activation='relu'),\n",
        "    layers.Dropout(0.3),\n",
        "    layers.Dense(128, activation='relu'),\n",
        "    layers.Dropout(0.3),\n",
        "    layers.Dense(64, activation='relu'),\n",
        "    layers.Dropout(0.3),\n",
        "    layers.Dense(32, activation='relu'),\n",
        "    layers.Dense(2, activation='softmax')\n",
        "])\n",
        "\n",
        "model.compile(optimizer='adam', loss='sparse_categorical_crossentropy', metrics=['accuracy'])\n",
        "model.fit(X_train_trans, y_train_trans, epochs=100, batch_size=32, validation_data=(X_val_trans, y_val_trans), callbacks=early_stopping)\n",
        "\n",
        "# Model evaluation\n",
        "y_pred = model.predict(X_test_trans)\n",
        "y_pred_binary = np.where(y_pred[:,1] >= 0.5, 1, 0)\n",
        "\n",
        "evaluate_model(y_test_trans, y_pred_binary)"
      ]
    },
    {
      "cell_type": "code",
      "execution_count": 136,
      "metadata": {
        "colab": {
          "base_uri": "https://localhost:8080/",
          "height": 966
        },
        "id": "VrShCu6q2e3A",
        "outputId": "b90c3ae2-e06b-449a-80a0-8589adeb2a7b"
      },
      "outputs": [
        {
          "name": "stdout",
          "output_type": "stream",
          "text": [
            "Epoch 1/100\n",
            "\u001b[1m1025/1025\u001b[0m \u001b[32m━━━━━━━━━━━━━━━━━━━━\u001b[0m\u001b[37m\u001b[0m \u001b[1m5s\u001b[0m 4ms/step - accuracy: 0.8346 - loss: 0.3747 - val_accuracy: 0.8846 - val_loss: 0.2951\n",
            "Epoch 2/100\n",
            "\u001b[1m1025/1025\u001b[0m \u001b[32m━━━━━━━━━━━━━━━━━━━━\u001b[0m\u001b[37m\u001b[0m \u001b[1m4s\u001b[0m 4ms/step - accuracy: 0.8945 - loss: 0.2834 - val_accuracy: 0.8912 - val_loss: 0.2906\n",
            "Epoch 3/100\n",
            "\u001b[1m1025/1025\u001b[0m \u001b[32m━━━━━━━━━━━━━━━━━━━━\u001b[0m\u001b[37m\u001b[0m \u001b[1m4s\u001b[0m 3ms/step - accuracy: 0.9030 - loss: 0.2663 - val_accuracy: 0.8868 - val_loss: 0.2925\n",
            "Epoch 4/100\n",
            "\u001b[1m1025/1025\u001b[0m \u001b[32m━━━━━━━━━━━━━━━━━━━━\u001b[0m\u001b[37m\u001b[0m \u001b[1m4s\u001b[0m 4ms/step - accuracy: 0.9119 - loss: 0.2451 - val_accuracy: 0.8834 - val_loss: 0.3021\n",
            "Epoch 5/100\n",
            "\u001b[1m1025/1025\u001b[0m \u001b[32m━━━━━━━━━━━━━━━━━━━━\u001b[0m\u001b[37m\u001b[0m \u001b[1m4s\u001b[0m 4ms/step - accuracy: 0.9216 - loss: 0.2202 - val_accuracy: 0.8819 - val_loss: 0.3133\n",
            "Epoch 6/100\n",
            "\u001b[1m1025/1025\u001b[0m \u001b[32m━━━━━━━━━━━━━━━━━━━━\u001b[0m\u001b[37m\u001b[0m \u001b[1m5s\u001b[0m 5ms/step - accuracy: 0.9287 - loss: 0.2009 - val_accuracy: 0.8846 - val_loss: 0.3431\n",
            "Epoch 7/100\n",
            "\u001b[1m1025/1025\u001b[0m \u001b[32m━━━━━━━━━━━━━━━━━━━━\u001b[0m\u001b[37m\u001b[0m \u001b[1m4s\u001b[0m 4ms/step - accuracy: 0.9356 - loss: 0.1832 - val_accuracy: 0.8780 - val_loss: 0.3631\n",
            "\u001b[1m129/129\u001b[0m \u001b[32m━━━━━━━━━━━━━━━━━━━━\u001b[0m\u001b[37m\u001b[0m \u001b[1m0s\u001b[0m 1ms/step\n",
            "Classification Report:\n",
            "              precision    recall  f1-score   support\n",
            "\n",
            "           0       0.83      0.83      0.83      1398\n",
            "           1       0.91      0.92      0.91      2700\n",
            "\n",
            "    accuracy                           0.89      4098\n",
            "   macro avg       0.87      0.87      0.87      4098\n",
            "weighted avg       0.88      0.89      0.88      4098\n",
            "\n",
            "Accuracy: 0.89\n"
          ]
        },
        {
          "data": {
            "image/png": "[encoded data removed]",
            "text/plain": [
              "<Figure size 800x600 with 2 Axes>"
            ]
          },
          "metadata": {},
          "output_type": "display_data"
        }
      ],
      "source": [
        "model = models.Sequential([\n",
        "    layers.Dense(512, activation='relu'),\n",
        "    layers.Dropout(0.3),\n",
        "    layers.Dense(254, activation='relu'),\n",
        "    layers.Dropout(0.3),\n",
        "    layers.Dense(128, activation='relu'),\n",
        "    layers.Dropout(0.3),\n",
        "    layers.Dense(64, activation='relu'),\n",
        "    layers.Dropout(0.3),\n",
        "    layers.Dense(32, activation='relu'),\n",
        "    layers.Dense(2, activation='softmax')\n",
        "])\n",
        "\n",
        "model.compile(optimizer='adam', loss='sparse_categorical_crossentropy', metrics=['accuracy'])\n",
        "model.fit(X_train_trans, y_train_trans, epochs=100, batch_size=32, validation_data=(X_val_trans, y_val_trans), callbacks=early_stopping)\n",
        "\n",
        "# Model evaluation\n",
        "y_pred = model.predict(X_test_trans)\n",
        "y_pred_binary = np.where(y_pred[:,1] >= 0.5, 1, 0)\n",
        "\n",
        "evaluate_model(y_test_trans, y_pred_binary)"
      ]
    },
    {
      "cell_type": "markdown",
      "metadata": {
        "id": "bjpl-lV12e3B"
      },
      "source": [
        "## Test with sentences"
      ]
    },
    {
      "cell_type": "code",
      "execution_count": 137,
      "metadata": {
        "id": "NHtxNJz82e3B"
      },
      "outputs": [],
      "source": [
        "def test_new_sentence_lstm(new_sentence, model, tokenizer=tokenizer, max_sequence_length=max_length):\n",
        "    regex_transformers = {\n",
        "        'break_line': re_breakline,\n",
        "        'hiperlinks': re_hiperlinks,\n",
        "        'dates': re_dates,\n",
        "        'money': re_money,\n",
        "        'numbers': re_numbers,\n",
        "        'negation': re_negation,\n",
        "        'special_chars': re_special_chars,\n",
        "        'whitespaces': re_whitespaces\n",
        "    }\n",
        "\n",
        "\n",
        "    # Pre-process\n",
        "    regex = ApplyRegex(regex_transformers)\n",
        "    sentence_processed = regex.transform([new_sentence])\n",
        "    sentence_processed = [' '.join(stopwords_removal(review)) for review in sentence_processed]\n",
        "    sentence_processed = [' '.join(stemming_process(review)) for review in sentence_processed]\n",
        "\n",
        "    print(sentence_processed)\n",
        "\n",
        "    # Tokenizer and padding e aplicando padding\n",
        "    tokenized_sentence = tokenizer.texts_to_sequences(sentence_processed)\n",
        "    padded_sentence = pad_sequences(tokenized_sentence, maxlen=max_sequence_length, padding=\"post\")\n",
        "    print(padded_sentence)\n",
        "\n",
        "    # Result\n",
        "    prediction = model.predict(padded_sentence)\n",
        "    print(prediction)\n",
        "\n",
        "    review = \"positive\" if prediction >= 0.5 else \"negative\"\n",
        "    print(f\"The sentence represents a {review} review!\")"
      ]
    },
    {
      "cell_type": "code",
      "execution_count": 138,
      "metadata": {
        "colab": {
          "base_uri": "https://localhost:8080/"
        },
        "id": "-BHxy-qI2e3C",
        "outputId": "9ddc40ed-40df-49ed-bd16-9a657e30c4c5"
      },
      "outputs": [
        {
          "name": "stdout",
          "output_type": "stream",
          "text": [
            "['compr gift card aind esper cheg produt digit tod sit mand instant vulg mai amér latin simples neg conseg entreg simpl códig mail neg recom serviç péss']\n",
            "[[   5 3568   19   27    7    1  943   38   35  114 3512  204 1199  411\n",
            "     2  832    3  322  487  232    2   11  182  126    0    0    0    0\n",
            "     0    0    0    0    0    0    0    0    0]]\n"
          ]
        },
        {
          "name": "stdout",
          "output_type": "stream",
          "text": [
            "\u001b[1m1/1\u001b[0m \u001b[32m━━━━━━━━━━━━━━━━━━━━\u001b[0m\u001b[37m\u001b[0m \u001b[1m0s\u001b[0m 30ms/step\n",
            "[[0.04152721]]\n",
            "The sentence represents a negative review!\n"
          ]
        }
      ],
      "source": [
        "new_sentence = 'Comprei um gift card e ainda estou esperando chegar, é um produto digital, todos os sites mandam no mesmo instante, \\\n",
        "e o vulgo \"maior da América Latina\" simplesmente não consegue entregar um simples código no e-mail. Não recomendo, serviço péssimo.'\n",
        "test_new_sentence_lstm(new_sentence, best_lstm_model)"
      ]
    },
    {
      "cell_type": "code",
      "execution_count": 139,
      "metadata": {
        "colab": {
          "base_uri": "https://localhost:8080/"
        },
        "id": "CTA1Ac542e3C",
        "outputId": "b35fd240-cf9d-4188-bef2-5841f72cd028"
      },
      "outputs": [
        {
          "name": "stdout",
          "output_type": "stream",
          "text": [
            "['estud institu selecion receb benefíci pae semestr numer numer receb pag benefíci mê pass atras mê aind neg receb coleg selecion benefíci fal receb numer numer tod poi mê pass receb numer mê numer mand mail busc ajud respond esper numer dia utel lig mand retorn segund feir numer novembr hoj lig descobr folh pag fech receb pag jan solic benefíci expliq solicit poi através mant desp estud almoç transport benefíci neg consegu continu estud univers agor esper jan cont err institu pod corr risc neg consegu assist aul cont falt transport']\n",
            "[[ 489    8   53  964  871  377 4841   95   39  721  571 3132 1765 3504\n",
            "   240  377    2  252  231 1765 1422   52   27  964  216   79 4086   72\n",
            "   431  427    2  252 1134 6632  216   45  240]]\n",
            "\u001b[1m1/1\u001b[0m \u001b[32m━━━━━━━━━━━━━━━━━━━━\u001b[0m\u001b[37m\u001b[0m \u001b[1m0s\u001b[0m 26ms/step\n",
            "[[0.27401313]]\n",
            "The sentence represents a negative review!\n"
          ]
        }
      ],
      "source": [
        "new_sentence='Sou estudante da instituição e fui selecionada para receber o benefício PAES no semestre 2024.1, \\\n",
        "recebi o pagamento do benefício do mês passado com atraso e este mês ainda não recebi. Colegas que também foram selecionados pelo benefício,\\\n",
        "falaram que já receberam 1.200 ao todo, pois no mês passado receberam 800 e este mês, 400. Mandei e-mails em busca de uma ajuda e me \\\n",
        "responderam para esperar os 10 dias uteis, liguei e me mandaram retornar na segunda-feira, 18 de novembro (hoje) e ao ligar, descobri que a \\\n",
        "folha de pagamento fechou e só receberei o meu pagamento em janeiro. Ao solicitar esse benefício, expliquei que estava solicitando pois através \\\n",
        "dele, eu manteria as minhas despesas como estudante (almoço e transporte) e sem este benefício, eu não conseguiria continuar estudando na universidade.\\\n",
        "Agora terei que esperar até janeiro por conta de um erro da instituição, podendo correr o risco de não conseguir assistir as aulas por conta da falta de transporte.'\n",
        "test_new_sentence_lstm(new_sentence, best_lstm_model)"
      ]
    },
    {
      "cell_type": "code",
      "execution_count": 140,
      "metadata": {
        "colab": {
          "base_uri": "https://localhost:8080/"
        },
        "id": "rfgJyy1N2e3D",
        "outputId": "0c518865-a3e8-43a9-e000-b2bf8b8de5e0"
      },
      "outputs": [
        {
          "name": "stdout",
          "output_type": "stream",
          "text": [
            "['sit post comunic prim respost verific document mand edit diz pod reenvi document cas neg compat inscr porém sit consult neg dão opç reenvi soment consult document envi anteri']\n",
            "[[  35  348  428  130  120  464 1249  114  145   72  948 1249  109    2\n",
            "   598   44   35 1289    2  834  546  948  122 1289 1249   56  642    0\n",
            "     0    0    0    0    0    0    0    0    0]]\n",
            "\u001b[1m1/1\u001b[0m \u001b[32m━━━━━━━━━━━━━━━━━━━━\u001b[0m\u001b[37m\u001b[0m \u001b[1m0s\u001b[0m 28ms/step\n",
            "[[0.18486482]]\n",
            "The sentence represents a negative review!\n"
          ]
        }
      ],
      "source": [
        "new_sentence='O SITE POSTOU UM COMUNICADO COM A PRIMEIRA RESPOSTA DA VERIFICAÇÃO DOS DOCUMENTOS E MANDOU UM EDITAL DIZENDO QUE EU PODERIA REENVIAR OS DOCUMENTOS CASO NÃO TIVESSE COMPATÍVEL COM A INSCRIÇÃO. PORÉM, NO SITE DE CONSULTA, NÃO ME DÃO A OPÇÃO DE REENVIAR, MAS SOMENTE A DE CONSULTAR O DOCUMENTOS QUE JÁ ENVIEI ANTERIORMENTE.'\n",
        "test_new_sentence_lstm(new_sentence, best_lstm_model)"
      ]
    },
    {
      "cell_type": "code",
      "execution_count": 141,
      "metadata": {
        "colab": {
          "base_uri": "https://localhost:8080/"
        },
        "id": "ms9XhS9p2e3D",
        "outputId": "b9777bcf-27ce-44a1-97cf-1504a9aaa955"
      },
      "outputs": [
        {
          "name": "stdout",
          "output_type": "stream",
          "text": [
            "['excel produt pessoal parab legal gost volt']\n",
            "[[ 23   1 688 298 430  17 123   0   0   0   0   0   0   0   0   0   0   0\n",
            "    0   0   0   0   0   0   0   0   0   0   0   0   0   0   0   0   0   0\n",
            "    0]]\n",
            "\u001b[1m1/1\u001b[0m \u001b[32m━━━━━━━━━━━━━━━━━━━━\u001b[0m\u001b[37m\u001b[0m \u001b[1m0s\u001b[0m 33ms/step\n",
            "[[0.97859794]]\n",
            "The sentence represents a positive review!\n"
          ]
        }
      ],
      "source": [
        "new_sentence='Excelente produto pessoal, parabens, legal, gostei, voltarei!'\n",
        "test_new_sentence_lstm(new_sentence, best_lstm_model)"
      ]
    },
    {
      "cell_type": "code",
      "execution_count": 142,
      "metadata": {
        "colab": {
          "base_uri": "https://localhost:8080/"
        },
        "id": "r86jYtCR2e3D",
        "outputId": "9c804fc1-4fd9-4f3b-f08d-a63eda5f9ec2"
      },
      "outputs": [
        {
          "name": "stdout",
          "output_type": "stream",
          "text": [
            "['neg palavr descrev quã espec mim sei caix mens dev chei poi pesso quer tod gost relembr tod car sint quã grat ter vid hoj quer desej feliz aniversári dia muit celebr abraç apert sorris sincer lad pesso ama esper pod celebr muit outr ano contig parabém dia']\n",
            "[[ 191  101  410   75  814   39  358   61   38   17   38  198  885  417\n",
            "    69 1107  134   61  230  288  933   21  179  927  930 6649 2251  671\n",
            "   358 3362   27   72  179   32  308   48   21]]\n",
            "\u001b[1m1/1\u001b[0m \u001b[32m━━━━━━━━━━━━━━━━━━━━\u001b[0m\u001b[37m\u001b[0m \u001b[1m0s\u001b[0m 31ms/step\n",
            "[[0.7218724]]\n",
            "The sentence represents a positive review!\n"
          ]
        }
      ],
      "source": [
        "new_sentence='Não tenho palavras para descrever o quão especial você é para mim. Sei que sua caixa de mensagens deve estar cheia, pois você é uma pessoa muito querida por todos. Mas gostaria de te relembrar todo o carinho que sinto por você e quão grato eu sou por te ter na minha vida.\\\n",
        "Hoje, quero lhe desejar o mais feliz dos aniversários. Que esse dia seja de muita celebração, abraços apertados e sorrisos sinceros ao lado das pessoas que você mais ama. Espero poder celebrar muitos outros anos contigo.\\\n",
        "Parabéns pelo seu dia.'\n",
        "test_new_sentence_lstm(new_sentence, best_lstm_model)"
      ]
    },
    {
      "cell_type": "markdown",
      "metadata": {
        "id": "jMljACIT2e3E"
      },
      "source": [
        "## Multiclassification problem"
      ]
    },
    {
      "cell_type": "code",
      "execution_count": 143,
      "metadata": {
        "colab": {
          "base_uri": "https://localhost:8080/"
        },
        "id": "KJrL2w5y2e3E",
        "outputId": "760a7911-6a98-4df9-ce69-d49d10a4afed"
      },
      "outputs": [
        {
          "data": {
            "text/plain": [
              "array([[0., 0., 0., 0., 1.],\n",
              "       [0., 0., 0., 0., 1.],\n",
              "       [0., 0., 0., 1., 0.],\n",
              "       ...,\n",
              "       [0., 0., 1., 0., 0.],\n",
              "       [0., 0., 0., 0., 1.],\n",
              "       [1., 0., 0., 0., 0.]])"
            ]
          },
          "execution_count": 143,
          "metadata": {},
          "output_type": "execute_result"
        }
      ],
      "source": [
        "num_classes = df_comments['score'].nunique()\n",
        "y_one_hot = to_categorical(df_comments['score'] - 1, num_classes=num_classes)\n",
        "y_one_hot"
      ]
    },
    {
      "cell_type": "code",
      "execution_count": 144,
      "metadata": {
        "id": "CNoAV82e2e3F"
      },
      "outputs": [],
      "source": [
        "X_train, X_val, X_test, y_train, y_val, y_test = train_val_test_split(reviews_padded, y_one_hot)"
      ]
    },
    {
      "cell_type": "code",
      "execution_count": 145,
      "metadata": {
        "id": "zM4H5dG82e3F"
      },
      "outputs": [],
      "source": [
        "def create_lstm_model_multiclass(num_layers, units_per_layer, input_shape, num_classes):\n",
        "    model = models.Sequential()\n",
        "\n",
        "    # Embedding layer\n",
        "    model.add(layers.Embedding(input_dim=input_shape[0], output_dim=50))\n",
        "\n",
        "    # LSTM layers\n",
        "    for i in range(num_layers):\n",
        "        return_sequences = i < num_layers - 1  # Last layer doesn't return sequence\n",
        "        model.add(layers.LSTM(units_per_layer, return_sequences=return_sequences))\n",
        "        model.add(layers.Dropout(0.2))\n",
        "\n",
        "    # Output layer for multiclass classification\n",
        "    model.add(layers.Dense(num_classes, activation='softmax'))\n",
        "\n",
        "    # Compile with categorical loss\n",
        "    model.compile(optimizer='adam', loss='categorical_crossentropy', metrics=['accuracy'])\n",
        "\n",
        "    return model\n",
        "\n",
        "lstm_multiclass_model = create_lstm_model_multiclass(\n",
        "    num_layers=best_config['num_layers'],\n",
        "    units_per_layer=best_config['units_per_layer'],\n",
        "    input_shape=X_train.shape,\n",
        "    num_classes=num_classes\n",
        ")"
      ]
    },
    {
      "cell_type": "code",
      "execution_count": 146,
      "metadata": {
        "colab": {
          "base_uri": "https://localhost:8080/"
        },
        "id": "DG56tD7B2e3G",
        "outputId": "a287766d-db9d-4c30-9580-d40072c620ad"
      },
      "outputs": [
        {
          "name": "stdout",
          "output_type": "stream",
          "text": [
            "Epoch 1/100\n",
            "\u001b[1m513/513\u001b[0m \u001b[32m━━━━━━━━━━━━━━━━━━━━\u001b[0m\u001b[37m\u001b[0m \u001b[1m24s\u001b[0m 35ms/step - accuracy: 0.5803 - loss: 1.1662 - val_accuracy: 0.6696 - val_loss: 0.9146\n",
            "Epoch 2/100\n",
            "\u001b[1m513/513\u001b[0m \u001b[32m━━━━━━━━━━━━━━━━━━━━\u001b[0m\u001b[37m\u001b[0m \u001b[1m15s\u001b[0m 29ms/step - accuracy: 0.6839 - loss: 0.8925 - val_accuracy: 0.6672 - val_loss: 0.9045\n",
            "Epoch 3/100\n",
            "\u001b[1m513/513\u001b[0m \u001b[32m━━━━━━━━━━━━━━━━━━━━\u001b[0m\u001b[37m\u001b[0m \u001b[1m15s\u001b[0m 28ms/step - accuracy: 0.6967 - loss: 0.8488 - val_accuracy: 0.6813 - val_loss: 0.8806\n",
            "Epoch 4/100\n",
            "\u001b[1m513/513\u001b[0m \u001b[32m━━━━━━━━━━━━━━━━━━━━\u001b[0m\u001b[37m\u001b[0m \u001b[1m15s\u001b[0m 28ms/step - accuracy: 0.7023 - loss: 0.8184 - val_accuracy: 0.6803 - val_loss: 0.8909\n",
            "Epoch 5/100\n",
            "\u001b[1m513/513\u001b[0m \u001b[32m━━━━━━━━━━━━━━━━━━━━\u001b[0m\u001b[37m\u001b[0m \u001b[1m20s\u001b[0m 40ms/step - accuracy: 0.7136 - loss: 0.7983 - val_accuracy: 0.6762 - val_loss: 0.9048\n",
            "Epoch 6/100\n",
            "\u001b[1m513/513\u001b[0m \u001b[32m━━━━━━━━━━━━━━━━━━━━\u001b[0m\u001b[37m\u001b[0m \u001b[1m22s\u001b[0m 43ms/step - accuracy: 0.7212 - loss: 0.7765 - val_accuracy: 0.6789 - val_loss: 0.9122\n",
            "Epoch 7/100\n",
            "\u001b[1m513/513\u001b[0m \u001b[32m━━━━━━━━━━━━━━━━━━━━\u001b[0m\u001b[37m\u001b[0m \u001b[1m35s\u001b[0m 32ms/step - accuracy: 0.7290 - loss: 0.7624 - val_accuracy: 0.6764 - val_loss: 0.9110\n",
            "Epoch 8/100\n",
            "\u001b[1m513/513\u001b[0m \u001b[32m━━━━━━━━━━━━━━━━━━━━\u001b[0m\u001b[37m\u001b[0m \u001b[1m15s\u001b[0m 29ms/step - accuracy: 0.7365 - loss: 0.7434 - val_accuracy: 0.6728 - val_loss: 0.9110\n"
          ]
        }
      ],
      "source": [
        "history = lstm_multiclass_model.fit(\n",
        "    X_train, y_train,\n",
        "    epochs=100,\n",
        "    batch_size=64,\n",
        "    validation_data = (X_val, y_val),\n",
        "    callbacks=[early_stopping]\n",
        ")\n"
      ]
    },
    {
      "cell_type": "code",
      "execution_count": 147,
      "metadata": {
        "colab": {
          "base_uri": "https://localhost:8080/",
          "height": 607
        },
        "id": "-tX57BYQ2e3H",
        "outputId": "f9f82816-9b8f-4c5b-ac3c-e53ab42afc6a"
      },
      "outputs": [
        {
          "data": {
            "image/png": "[encoded data removed]",
            "text/plain": [
              "<Figure size 1400x600 with 2 Axes>"
            ]
          },
          "metadata": {},
          "output_type": "display_data"
        }
      ],
      "source": [
        "plot_hist(history)"
      ]
    },
    {
      "cell_type": "code",
      "execution_count": 148,
      "metadata": {
        "colab": {
          "base_uri": "https://localhost:8080/"
        },
        "id": "Mr7GK0e_2e3H",
        "outputId": "2c326efc-e4a6-4613-ab34-91b46ae19771"
      },
      "outputs": [
        {
          "name": "stdout",
          "output_type": "stream",
          "text": [
            "\u001b[1m129/129\u001b[0m \u001b[32m━━━━━━━━━━━━━━━━━━━━\u001b[0m\u001b[37m\u001b[0m \u001b[1m1s\u001b[0m 7ms/step\n",
            "              precision    recall  f1-score   support\n",
            "\n",
            "     Class 1       0.65      0.88      0.75       834\n",
            "     Class 2       0.00      0.00      0.00       202\n",
            "     Class 3       0.32      0.15      0.21       362\n",
            "     Class 4       0.31      0.12      0.18       649\n",
            "     Class 5       0.76      0.93      0.83      2051\n",
            "\n",
            "    accuracy                           0.68      4098\n",
            "   macro avg       0.41      0.42      0.39      4098\n",
            "weighted avg       0.59      0.68      0.62      4098\n",
            "\n"
          ]
        },
        {
          "name": "stderr",
          "output_type": "stream",
          "text": [
            "/home/carlos/.cache/pypoetry/virtualenvs/brazilian-e-commerce-nlp-deep-learning-Rk9x1azB-py3.12/lib/python3.12/site-packages/sklearn/metrics/_classification.py:1565: UndefinedMetricWarning: Precision is ill-defined and being set to 0.0 in labels with no predicted samples. Use `zero_division` parameter to control this behavior.\n",
            "  _warn_prf(average, modifier, f\"{metric.capitalize()} is\", len(result))\n",
            "/home/carlos/.cache/pypoetry/virtualenvs/brazilian-e-commerce-nlp-deep-learning-Rk9x1azB-py3.12/lib/python3.12/site-packages/sklearn/metrics/_classification.py:1565: UndefinedMetricWarning: Precision is ill-defined and being set to 0.0 in labels with no predicted samples. Use `zero_division` parameter to control this behavior.\n",
            "  _warn_prf(average, modifier, f\"{metric.capitalize()} is\", len(result))\n",
            "/home/carlos/.cache/pypoetry/virtualenvs/brazilian-e-commerce-nlp-deep-learning-Rk9x1azB-py3.12/lib/python3.12/site-packages/sklearn/metrics/_classification.py:1565: UndefinedMetricWarning: Precision is ill-defined and being set to 0.0 in labels with no predicted samples. Use `zero_division` parameter to control this behavior.\n",
            "  _warn_prf(average, modifier, f\"{metric.capitalize()} is\", len(result))\n"
          ]
        }
      ],
      "source": [
        "# Model evaluation\n",
        "y_pred_probs = lstm_multiclass_model.predict(X_test)  # probability\n",
        "\n",
        "# Converts from one-hot back to original classes\n",
        "y_pred = y_pred_probs.argmax(axis=-1) + 1\n",
        "y_true = y_test.argmax(axis=-1) + 1\n",
        "\n",
        "\n",
        "print(classification_report(y_true, y_pred, target_names=[f\"Class {i}\" for i in range(1, num_classes + 1)]))"
      ]
    },
    {
      "cell_type": "code",
      "execution_count": 149,
      "metadata": {
        "colab": {
          "base_uri": "https://localhost:8080/",
          "height": 474
        },
        "id": "TQI-qmtw2e3H",
        "outputId": "e63083c0-eb92-4fd8-b680-8de1a5a37188"
      },
      "outputs": [
        {
          "data": {
            "image/png": "[encoded data removed]",
            "text/plain": [
              "<Figure size 640x480 with 2 Axes>"
            ]
          },
          "metadata": {},
          "output_type": "display_data"
        }
      ],
      "source": [
        "cm = confusion_matrix(y_true, y_pred, labels=range(1, num_classes + 1))\n",
        "\n",
        "disp = ConfusionMatrixDisplay(confusion_matrix=cm, display_labels=range(1, num_classes + 1))\n",
        "disp.plot(cmap=plt.cm.Blues, xticks_rotation=45)\n",
        "plt.title(\"Confusion Matrix\")\n",
        "plt.show()\n"
      ]
    },
    {
      "cell_type": "markdown",
      "metadata": {
        "id": "zPbXI2Cr2e3I"
      },
      "source": [
        "As expected, the multiple classification problem is more difficult for the model, but it still performed well considering that scores like 3 to 2 can be arbitrary."
      ]
    }
  ],
  "metadata": {
    "accelerator": "GPU",
    "colab": {
      "gpuType": "T4",
      "provenance": []
    },
    "kernelspec": {
      "display_name": "Python 3",
      "name": "python3"
    },
    "language_info": {
      "codemirror_mode": {
        "name": "ipython",
        "version": 3
      },
      "file_extension": ".py",
      "mimetype": "text/x-python",
      "name": "python",
      "nbconvert_exporter": "python",
      "pygments_lexer": "ipython3",
      "version": "3.11.9"
    }
  },
  "nbformat": 4,
  "nbformat_minor": 0
}
