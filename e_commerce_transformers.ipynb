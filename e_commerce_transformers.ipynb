{
  "cells": [
    {
      "cell_type": "code",
      "execution_count": 52,
      "metadata": {
        "colab": {
          "base_uri": "https://localhost:8080/"
        },
        "id": "khAinpqS2e2S",
        "outputId": "375737ec-efbd-40b0-b283-82b150fca62a"
      },
      "outputs": [],
      "source": [
        "# !pip install kagglehub\n",
        "# !pip install pandas\n",
        "# !pip install nltk\n",
        "# !pip install scikit-learn\n",
        "# !pip install tensorflow\n",
        "# !pip install matplotlib\n",
        "# !pip install seaborn\n",
        "# !pip install torch\n",
        "# !pip install transformers\n",
        "# !pip install accelerate"
      ]
    },
    {
      "cell_type": "code",
      "execution_count": 53,
      "metadata": {
        "id": "vrFm_hUc2e2W"
      },
      "outputs": [],
      "source": [
        "import kagglehub\n",
        "import pandas as pd\n",
        "import numpy as np\n",
        "import seaborn as sns\n",
        "import re\n",
        "import nltk\n",
        "import matplotlib.pyplot as plt\n",
        "import pickle\n",
        "from tqdm import tqdm\n",
        "\n",
        "from sklearn.feature_extraction.text import CountVectorizer, TfidfVectorizer, TfidfTransformer\n",
        "from sklearn.pipeline import Pipeline\n",
        "from sklearn.base import BaseEstimator, TransformerMixin\n",
        "from sklearn.model_selection import train_test_split\n",
        "from sklearn.metrics import classification_report, confusion_matrix, accuracy_score, ConfusionMatrixDisplay\n",
        "from sklearn.model_selection import KFold\n",
        "\n",
        "import torch\n",
        "from torch.utils.data import Dataset, DataLoader\n",
        "from torch.optim import AdamW\n",
        "from transformers import (\n",
        "    AutoTokenizer, \n",
        "    AutoModelForSequenceClassification,\n",
        "    get_linear_schedule_with_warmup\n",
        ")\n",
        "from sklearn.model_selection import train_test_split"
      ]
    },
    {
      "cell_type": "markdown",
      "metadata": {
        "id": "ALRsADqg2e2Y"
      },
      "source": [
        "\n",
        "\n",
        "olist_customers_dataset.csv\n",
        "olist_geolocation_dataset.csv\n",
        "olist_orders_dataset.csv\n",
        "olist_order_items_dataset.csv\n",
        "olist_order_payments_dataset.csv\n",
        "olist_order_reviews_dataset.csv\n",
        "olist_products_dataset.csv\n",
        "olist_sellers_dataset.csv\n",
        "product_category_name_translation.csv\n"
      ]
    },
    {
      "cell_type": "markdown",
      "metadata": {
        "id": "W6YFwdkk2e2Z"
      },
      "source": [
        "## Dataset"
      ]
    },
    {
      "cell_type": "markdown",
      "metadata": {},
      "source": [
        "We will use the [Brazilian E-Commerce](https://www.kaggle.com/datasets/olistbr/brazilian-ecommerce) dataset, which contains reviews from products bought in e-commerces."
      ]
    },
    {
      "cell_type": "code",
      "execution_count": 54,
      "metadata": {
        "colab": {
          "base_uri": "https://localhost:8080/"
        },
        "id": "SQhAn17h2e2Z",
        "outputId": "6eeedf27-40ae-4ac9-c5d3-e6d1b7e218be"
      },
      "outputs": [
        {
          "name": "stdout",
          "output_type": "stream",
          "text": [
            "Warning: Looks like you're using an outdated `kagglehub` version, please consider updating (latest version: 0.3.11)\n",
            "Path to dataset files: /home/ivon/.cache/kagglehub/datasets/olistbr/brazilian-ecommerce/versions/2\n"
          ]
        }
      ],
      "source": [
        "# Download latest version\n",
        "path = kagglehub.dataset_download(\"olistbr/brazilian-ecommerce\")\n",
        "\n",
        "print(\"Path to dataset files:\", path)"
      ]
    },
    {
      "cell_type": "code",
      "execution_count": 55,
      "metadata": {
        "id": "mUmuSvIW2e2a"
      },
      "outputs": [],
      "source": [
        "# Reading all the files\n",
        "# olist_customer = pd.read_csv(path + 'olist_customers_dataset.csv')\n",
        "# olist_geolocation = pd.read_csv(path + 'olist_geolocation_dataset.csv')\n",
        "# olist_orders = pd.read_csv(path + 'olist_orders_dataset.csv')\n",
        "# olist_order_items = pd.read_csv(path + 'olist_order_items_dataset.csv')\n",
        "# olist_order_payments = pd.read_csv(path + 'olist_order_payments_dataset.csv')\n",
        "olist_order_reviews = pd.read_csv(path + '//olist_order_reviews_dataset.csv')\n",
        "# olist_products = pd.read_csv(path + 'olist_products_dataset.csv')\n",
        "# olist_sellers = pd.read_csv(path + 'olist_sellers_dataset.csv')"
      ]
    },
    {
      "cell_type": "code",
      "execution_count": 56,
      "metadata": {
        "colab": {
          "base_uri": "https://localhost:8080/",
          "height": 300
        },
        "id": "Ft2GFMdD2e2b",
        "outputId": "922b95ba-3378-4287-8975-f114cde36069"
      },
      "outputs": [
        {
          "data": {
            "text/html": [
              "<div>\n",
              "<style scoped>\n",
              "    .dataframe tbody tr th:only-of-type {\n",
              "        vertical-align: middle;\n",
              "    }\n",
              "\n",
              "    .dataframe tbody tr th {\n",
              "        vertical-align: top;\n",
              "    }\n",
              "\n",
              "    .dataframe thead th {\n",
              "        text-align: right;\n",
              "    }\n",
              "</style>\n",
              "<table border=\"1\" class=\"dataframe\">\n",
              "  <thead>\n",
              "    <tr style=\"text-align: right;\">\n",
              "      <th></th>\n",
              "      <th>review_score</th>\n",
              "    </tr>\n",
              "  </thead>\n",
              "  <tbody>\n",
              "    <tr>\n",
              "      <th>count</th>\n",
              "      <td>99224.000000</td>\n",
              "    </tr>\n",
              "    <tr>\n",
              "      <th>mean</th>\n",
              "      <td>4.086421</td>\n",
              "    </tr>\n",
              "    <tr>\n",
              "      <th>std</th>\n",
              "      <td>1.347579</td>\n",
              "    </tr>\n",
              "    <tr>\n",
              "      <th>min</th>\n",
              "      <td>1.000000</td>\n",
              "    </tr>\n",
              "    <tr>\n",
              "      <th>25%</th>\n",
              "      <td>4.000000</td>\n",
              "    </tr>\n",
              "    <tr>\n",
              "      <th>50%</th>\n",
              "      <td>5.000000</td>\n",
              "    </tr>\n",
              "    <tr>\n",
              "      <th>75%</th>\n",
              "      <td>5.000000</td>\n",
              "    </tr>\n",
              "    <tr>\n",
              "      <th>max</th>\n",
              "      <td>5.000000</td>\n",
              "    </tr>\n",
              "  </tbody>\n",
              "</table>\n",
              "</div>"
            ],
            "text/plain": [
              "       review_score\n",
              "count  99224.000000\n",
              "mean       4.086421\n",
              "std        1.347579\n",
              "min        1.000000\n",
              "25%        4.000000\n",
              "50%        5.000000\n",
              "75%        5.000000\n",
              "max        5.000000"
            ]
          },
          "execution_count": 56,
          "metadata": {},
          "output_type": "execute_result"
        }
      ],
      "source": [
        "olist_order_reviews.describe()"
      ]
    },
    {
      "cell_type": "code",
      "execution_count": 57,
      "metadata": {
        "colab": {
          "base_uri": "https://localhost:8080/",
          "height": 224
        },
        "id": "mnrdQZrK2e2b",
        "outputId": "88964732-d970-4e05-d6c0-152a67918116"
      },
      "outputs": [
        {
          "name": "stdout",
          "output_type": "stream",
          "text": [
            "Dataset shape: (40977, 2)\n"
          ]
        },
        {
          "data": {
            "text/html": [
              "<div>\n",
              "<style scoped>\n",
              "    .dataframe tbody tr th:only-of-type {\n",
              "        vertical-align: middle;\n",
              "    }\n",
              "\n",
              "    .dataframe tbody tr th {\n",
              "        vertical-align: top;\n",
              "    }\n",
              "\n",
              "    .dataframe thead th {\n",
              "        text-align: right;\n",
              "    }\n",
              "</style>\n",
              "<table border=\"1\" class=\"dataframe\">\n",
              "  <thead>\n",
              "    <tr style=\"text-align: right;\">\n",
              "      <th></th>\n",
              "      <th>score</th>\n",
              "      <th>comment</th>\n",
              "    </tr>\n",
              "  </thead>\n",
              "  <tbody>\n",
              "    <tr>\n",
              "      <th>0</th>\n",
              "      <td>5</td>\n",
              "      <td>Recebi bem antes do prazo estipulado.</td>\n",
              "    </tr>\n",
              "    <tr>\n",
              "      <th>1</th>\n",
              "      <td>5</td>\n",
              "      <td>Parabéns lojas lannister adorei comprar pela I...</td>\n",
              "    </tr>\n",
              "    <tr>\n",
              "      <th>2</th>\n",
              "      <td>4</td>\n",
              "      <td>aparelho eficiente. no site a marca do aparelh...</td>\n",
              "    </tr>\n",
              "    <tr>\n",
              "      <th>3</th>\n",
              "      <td>4</td>\n",
              "      <td>Mas um pouco ,travando...pelo valor ta Boa.\\r\\n</td>\n",
              "    </tr>\n",
              "    <tr>\n",
              "      <th>4</th>\n",
              "      <td>5</td>\n",
              "      <td>Vendedor confiável, produto ok e entrega antes...</td>\n",
              "    </tr>\n",
              "  </tbody>\n",
              "</table>\n",
              "</div>"
            ],
            "text/plain": [
              "   score                                            comment\n",
              "0      5              Recebi bem antes do prazo estipulado.\n",
              "1      5  Parabéns lojas lannister adorei comprar pela I...\n",
              "2      4  aparelho eficiente. no site a marca do aparelh...\n",
              "3      4    Mas um pouco ,travando...pelo valor ta Boa.\\r\\n\n",
              "4      5  Vendedor confiável, produto ok e entrega antes..."
            ]
          },
          "execution_count": 57,
          "metadata": {},
          "output_type": "execute_result"
        }
      ],
      "source": [
        "df_comments = olist_order_reviews.loc[:, ['review_score', 'review_comment_message']]\n",
        "df_comments = df_comments.dropna(subset=['review_comment_message'])\n",
        "df_comments = df_comments.reset_index(drop=True)\n",
        "\n",
        "print(f'Dataset shape: {df_comments.shape}')\n",
        "df_comments.columns = ['score', 'comment']\n",
        "df_comments.head()"
      ]
    },
    {
      "cell_type": "markdown",
      "metadata": {
        "id": "SzukufS62e2c"
      },
      "source": [
        "We will consider a binary classification problem, with negative comments being with score below 4 and good reviews being 4 and 5."
      ]
    },
    {
      "cell_type": "code",
      "execution_count": 58,
      "metadata": {
        "colab": {
          "base_uri": "https://localhost:8080/"
        },
        "id": "ls4hqbJp2e2c",
        "outputId": "f2de4453-4256-491a-c7c8-30619d9fc00e"
      },
      "outputs": [
        {
          "data": {
            "text/plain": [
              "40977"
            ]
          },
          "execution_count": 58,
          "metadata": {},
          "output_type": "execute_result"
        }
      ],
      "source": [
        "y = df_comments['score']\n",
        "y = y.apply(lambda x: 0 if x < 4 else 1)\n",
        "\n",
        "len(y)"
      ]
    },
    {
      "cell_type": "code",
      "execution_count": 59,
      "metadata": {
        "colab": {
          "base_uri": "https://localhost:8080/",
          "height": 178
        },
        "id": "DMUW1FgP2e2d",
        "outputId": "bfdfbf81-f37b-407e-9609-ae6992f432ae"
      },
      "outputs": [
        {
          "data": {
            "text/plain": [
              "score\n",
              "1    26530\n",
              "0    14447\n",
              "Name: count, dtype: int64"
            ]
          },
          "execution_count": 59,
          "metadata": {},
          "output_type": "execute_result"
        }
      ],
      "source": [
        "y.value_counts(sort=False)"
      ]
    },
    {
      "cell_type": "markdown",
      "metadata": {
        "id": "9Leu95p52e2e"
      },
      "source": [
        "We have almost 41k comments that could be used for training a sentimental analysis model. But, beforehand we have to do some preprocessing on the text to transform the comment input into a vector that can be interpreted for a Machine Learning model."
      ]
    },
    {
      "cell_type": "markdown",
      "metadata": {
        "id": "d_0RZMgi2e2e"
      },
      "source": [
        "## Natural language processing"
      ]
    },
    {
      "cell_type": "markdown",
      "metadata": {
        "id": "Ri09aDIL2e2e"
      },
      "source": [
        "### Regular expressions"
      ]
    },
    {
      "cell_type": "markdown",
      "metadata": {
        "id": "C0xqUjBg2e2e"
      },
      "source": [
        "First lest's define a function to help visualize transformations on data."
      ]
    },
    {
      "cell_type": "code",
      "execution_count": 60,
      "metadata": {
        "id": "_Y83EHtQ2e2f"
      },
      "outputs": [],
      "source": [
        "def print_diff(dataset_original, dataset_changed, limit=4):\n",
        "    # Print the original and changed values from lists\n",
        "    count = 0\n",
        "    for original, modified in zip(dataset_original, dataset_changed):\n",
        "        if original != modified:\n",
        "            print(f'Original: {original}')\n",
        "            print(f'Changed:  {modified}')\n",
        "            print('')\n",
        "            count += 1\n",
        "            if count >= limit:\n",
        "                break"
      ]
    },
    {
      "cell_type": "markdown",
      "metadata": {
        "id": "BuRcNIUe2e2f"
      },
      "source": [
        "##### \\n and \\r"
      ]
    },
    {
      "cell_type": "markdown",
      "metadata": {
        "id": "WWrE_R6E2e2f"
      },
      "source": [
        "As long as we consider the global internet as the source of our comments, probably we have to deal with some HTML tags, break lines, special characteres and other content that could be part of the dataset. Let's dig a little bit more on Regular Expressions to search for those patterns.\n",
        "\n",
        "First of all, let's define a function that will be used for analysing the results of an applied regular expression. With this we can validate our text pre processing in an easier way."
      ]
    },
    {
      "cell_type": "code",
      "execution_count": 61,
      "metadata": {
        "colab": {
          "base_uri": "https://localhost:8080/"
        },
        "id": "KAr5oCeT2e2g",
        "outputId": "2183de62-af26-4ebb-f14d-b260dc4e62a9"
      },
      "outputs": [
        {
          "name": "stdout",
          "output_type": "stream",
          "text": [
            "Original: Mas um pouco ,travando...pelo valor ta Boa.\n",
            "\n",
            "Changed:  Mas um pouco ,travando...pelo valor ta Boa.  \n",
            "\n",
            "Original: A compra foi realizada facilmente.\n",
            "A entrega foi efetuada muito antes do prazo dado.\n",
            "O produto já começou a ser usado e até o presente,\n",
            "sem problemas.\n",
            "Changed:  A compra foi realizada facilmente.  A entrega foi efetuada muito antes do prazo dado.  O produto já começou a ser usado e até o presente,  sem problemas.\n",
            "\n",
            "Original: recebi somente 1 controle Midea Split ESTILO.\n",
            "Faltou Controle Remoto para Ar Condicionado Consul\n",
            "Changed:  recebi somente 1 controle Midea Split ESTILO.  Faltou Controle Remoto para Ar Condicionado Consul\n",
            "\n",
            "Original: Ocorreu tudo como contratado sendo a entrega realizada antes do prazo \n",
            " Estou satisfeita\n",
            "\n",
            "Changed:  Ocorreu tudo como contratado sendo a entrega realizada antes do prazo    Estou satisfeita  \n",
            "\n"
          ]
        }
      ],
      "source": [
        "def re_breakline(text_list):\n",
        "    \"\"\"\n",
        "    Args:\n",
        "    ----------\n",
        "    text_list: list object with text content to be prepared [type: list]\n",
        "    \"\"\"\n",
        "\n",
        "    # Applying regex\n",
        "    return [re.sub('[\\n\\r]', ' ', r) for r in text_list]\n",
        "\n",
        "# Creating a list of comment reviews\n",
        "reviews = list(df_comments['comment'].values)\n",
        "\n",
        "# Applying RegEx\n",
        "reviews_breakline = re_breakline(reviews)\n",
        "df_comments['re_breakline'] = reviews_breakline\n",
        "\n",
        "# Verifying results\n",
        "print_diff(reviews, reviews_breakline)"
      ]
    },
    {
      "cell_type": "markdown",
      "metadata": {},
      "source": [
        "### Word substitution\n",
        "\n",
        "We will substitute some metadata for a word representing the concept. The main idea is to generalize the concept, making it easier for the model to get more information from this data."
      ]
    },
    {
      "cell_type": "markdown",
      "metadata": {
        "id": "tTrs1rQt2e2g"
      },
      "source": [
        "##### links"
      ]
    },
    {
      "cell_type": "code",
      "execution_count": 62,
      "metadata": {
        "colab": {
          "base_uri": "https://localhost:8080/"
        },
        "id": "tLdPtI6b2e2g",
        "outputId": "3f36f3bb-5d99-4908-a103-82790e588448"
      },
      "outputs": [
        {
          "name": "stdout",
          "output_type": "stream",
          "text": [
            "Original: comprei o produto pela cor ilustrada pelo site da loja americana, no site mostra ser preto http://prntscr.com/jkx7hr quando o produto chegou aqui veio todos com a mesma cor, tabaco http://prntscr.com/\n",
            "Changed:  comprei o produto pela cor ilustrada pelo site da loja americana, no site mostra ser preto  link  quando o produto chegou aqui veio todos com a mesma cor, tabaco  link \n",
            "\n"
          ]
        }
      ],
      "source": [
        "def re_hiperlinks(text_list):\n",
        "    \"\"\"\n",
        "    Args:\n",
        "    ----------\n",
        "    text_list: list object with text content to be prepared [type: list]\n",
        "    \"\"\"\n",
        "\n",
        "    # Applying regex\n",
        "    pattern = 'http[s]?://(?:[a-zA-Z]|[0-9]|[$-_@.&+]|[!*\\(\\),]|(?:%[0-9a-fA-F][0-9a-fA-F]))+'\n",
        "    return [re.sub(pattern, ' link ', r) for r in text_list]\n",
        "\n",
        "# Applying RegEx\n",
        "reviews_hiperlinks = re_hiperlinks(reviews_breakline)\n",
        "df_comments['re_hiperlinks'] = reviews_hiperlinks\n",
        "\n",
        "# Printing differences\n",
        "print_diff(reviews_breakline, reviews_hiperlinks)"
      ]
    },
    {
      "cell_type": "markdown",
      "metadata": {
        "id": "gx4Da0j22e2h"
      },
      "source": [
        "##### dates"
      ]
    },
    {
      "cell_type": "code",
      "execution_count": 63,
      "metadata": {
        "colab": {
          "base_uri": "https://localhost:8080/"
        },
        "id": "xiX7V5Jx2e2h",
        "outputId": "e1a59983-ad76-4678-e20c-f73ece627f53"
      },
      "outputs": [
        {
          "name": "stdout",
          "output_type": "stream",
          "text": [
            "Original: A targaryen não é de confiança não entregou a minha compra e colocou no rastreamento do pedido que foi entregue no dia 14/12/17 empresa falsa quero receber meus produtos que foram pagos com boleto bancari\n",
            "Changed:  A targaryen não é de confiança não entregou a minha compra e colocou no rastreamento do pedido que foi entregue no dia  data  empresa falsa quero receber meus produtos que foram pagos com boleto bancari\n",
            "\n",
            "Original: ENTREGA MUITO DEMORADA, COMPREI EM 26/03/2018 E ATÉ AGORA NÃO RECEBI OS PRODUTOS\n",
            "Changed:  ENTREGA MUITO DEMORADA, COMPREI EM  data  E ATÉ AGORA NÃO RECEBI OS PRODUTOS\n",
            "\n",
            "Original: ainda nao recebi e a ultima informacao sobre p produto e do dia 08/12/2017.\n",
            "Changed:  ainda nao recebi e a ultima informacao sobre p produto e do dia  data .\n",
            "\n",
            "Original: Comprei duas bonecas baby kiss Sid nil dia 07/12/17 e eles entregaram somente 1 boneca ,não veio junto nota fiscal,caixa amassada e também não consigo contato com a lannister o telefone só da ocupado\n",
            "Changed:  Comprei duas bonecas baby kiss Sid nil dia  data  e eles entregaram somente 1 boneca ,não veio junto nota fiscal,caixa amassada e também não consigo contato com a lannister o telefone só da ocupado\n",
            "\n"
          ]
        }
      ],
      "source": [
        "def re_dates(text_list):\n",
        "    \"\"\"\n",
        "    Args:\n",
        "    ----------\n",
        "    text_list: list object with text content to be prepared [type: list]\n",
        "    \"\"\"\n",
        "\n",
        "    # Applying regex\n",
        "    pattern = '([0-2][0-9]|(3)[0-1])(\\/|\\.)(((0)[0-9])|((1)[0-2]))(\\/|\\.)\\d{2,4}'\n",
        "    return [re.sub(pattern, ' data ', r) for r in text_list]\n",
        "\n",
        "\n",
        "# Applying RegEx\n",
        "reviews_dates = re_dates(reviews_hiperlinks)\n",
        "df_comments['re_dates'] = reviews_dates\n",
        "\n",
        "# Verifying results\n",
        "print_diff(reviews_hiperlinks, reviews_dates)\n"
      ]
    },
    {
      "cell_type": "markdown",
      "metadata": {
        "id": "atie-uYj2e2h"
      },
      "source": [
        "##### money"
      ]
    },
    {
      "cell_type": "code",
      "execution_count": 64,
      "metadata": {
        "colab": {
          "base_uri": "https://localhost:8080/"
        },
        "id": "vP2RbQS22e2i",
        "outputId": "e46539ea-e70b-41e0-c0c5-6ac0058c0b84"
      },
      "outputs": [
        {
          "name": "stdout",
          "output_type": "stream",
          "text": [
            "Original: Este foi o pedido  Balde Com 128 Peças - Blocos De Montar 2 un - R$ 25,00 cada (NÃO FOI ENTREGUE)  Vendido e entregue targaryen  Tapete de Eva Nº Letras 36 Peças Crianças 1 un - R$ 35,90 (ESTE FOI ENTREG\n",
            "Changed:  Este foi o pedido  Balde Com 128 Peças - Blocos De Montar 2 un -  dinheiro  cada (NÃO FOI ENTREGUE)  Vendido e entregue targaryen  Tapete de Eva Nº Letras 36 Peças Crianças 1 un -  dinheiro  (ESTE FOI ENTREG\n",
            "\n",
            "Original: Comprei 4 produtos, sendo que só recebi 3. Faltou um lençol branco sem elástico. Foi quase R$ 100,00. E como eu fico? No prejuizo?\n",
            "Changed:  Comprei 4 produtos, sendo que só recebi 3. Faltou um lençol branco sem elástico. Foi quase  dinheiro . E como eu fico? No prejuizo?\n",
            "\n",
            "Original: Relógio belíssimo, muito elegante, inacreditável diante do valor de menos de R$ 150,00! Veio muito bem embrulhado e protegido, fora que tem também caixa muito chique, como se fosse jóia!!! Recomendo\n",
            "Changed:  Relógio belíssimo, muito elegante, inacreditável diante do valor de menos de  dinheiro ! Veio muito bem embrulhado e protegido, fora que tem também caixa muito chique, como se fosse jóia!!! Recomendo\n",
            "\n",
            "Original: Entrega super rápida. Quanto ao produto, não gostei tanto, imaginei que seria melhor e mais bonito, se tivesse visto em uma loja, pegado em mãos antes não teria pagado R$21,90 não, mas ok.\n",
            "Changed:  Entrega super rápida. Quanto ao produto, não gostei tanto, imaginei que seria melhor e mais bonito, se tivesse visto em uma loja, pegado em mãos antes não teria pagado  dinheiro  não, mas ok.\n",
            "\n"
          ]
        }
      ],
      "source": [
        "def re_money(text_list):\n",
        "    \"\"\"\n",
        "    Args:\n",
        "    ----------\n",
        "    text_list: list object with text content to be prepared [type: list]\n",
        "    \"\"\"\n",
        "\n",
        "    # Applying regex\n",
        "    pattern = '[R]{0,1}\\$[ ]{0,}\\d+(,|\\.)\\d+'\n",
        "    return [re.sub(pattern, ' dinheiro ', r) for r in text_list]\n",
        "\n",
        "# Applying RegEx\n",
        "reviews_money = re_money(reviews_dates)\n",
        "df_comments['re_money'] = reviews_money\n",
        "\n",
        "# Verifying results\n",
        "print_diff(reviews_dates, reviews_money)"
      ]
    },
    {
      "cell_type": "markdown",
      "metadata": {
        "id": "zo3LG4W42e2i"
      },
      "source": [
        "#### numbers"
      ]
    },
    {
      "cell_type": "code",
      "execution_count": 65,
      "metadata": {
        "colab": {
          "base_uri": "https://localhost:8080/"
        },
        "id": "9QZNM5Ig2e2i",
        "outputId": "2d58acb8-9d6a-4390-e968-18081b251cec"
      },
      "outputs": [
        {
          "name": "stdout",
          "output_type": "stream",
          "text": [
            "Original: aparelho eficiente. no site a marca do aparelho esta impresso como 3desinfector e ao chegar esta com outro nome...atualizar com a marca correta uma vez que é o mesmo aparelho\n",
            "Changed:  aparelho eficiente. no site a marca do aparelho esta impresso como  numero desinfector e ao chegar esta com outro nome...atualizar com a marca correta uma vez que é o mesmo aparelho\n",
            "\n",
            "Original: Loja nota 10\n",
            "Changed:  Loja nota  numero \n",
            "\n",
            "Original: recebi somente 1 controle Midea Split ESTILO.  Faltou Controle Remoto para Ar Condicionado Consul\n",
            "Changed:  recebi somente  numero  controle Midea Split ESTILO.  Faltou Controle Remoto para Ar Condicionado Consul\n",
            "\n",
            "Original: Este foi o pedido  Balde Com 128 Peças - Blocos De Montar 2 un -  dinheiro  cada (NÃO FOI ENTREGUE)  Vendido e entregue targaryen  Tapete de Eva Nº Letras 36 Peças Crianças 1 un -  dinheiro  (ESTE FOI ENTREG\n",
            "Changed:  Este foi o pedido  Balde Com  numero  Peças - Blocos De Montar  numero  un -  dinheiro  cada (NÃO FOI ENTREGUE)  Vendido e entregue targaryen  Tapete de Eva Nº Letras  numero  Peças Crianças  numero  un -  dinheiro  (ESTE FOI ENTREG\n",
            "\n"
          ]
        }
      ],
      "source": [
        "def re_numbers(text_list):\n",
        "    \"\"\"\n",
        "    Args:\n",
        "    ----------\n",
        "    text_series: list object with text content to be prepared [type: list]\n",
        "    \"\"\"\n",
        "\n",
        "    return [re.sub('[0-9]+', ' numero ', r) for r in text_list]\n",
        "\n",
        "reviews_numbers = re_numbers(reviews_money)\n",
        "df_comments['re_numbers'] = reviews_numbers\n",
        "\n",
        "print_diff(reviews_money, reviews_numbers)"
      ]
    },
    {
      "cell_type": "markdown",
      "metadata": {
        "id": "Ce6DpA1f2e2j"
      },
      "source": [
        "#### negation"
      ]
    },
    {
      "cell_type": "code",
      "execution_count": 66,
      "metadata": {
        "colab": {
          "base_uri": "https://localhost:8080/"
        },
        "id": "DsOpxaDK2e2j",
        "outputId": "9b895e22-33f4-4278-8fc9-9f01718cb006"
      },
      "outputs": [
        {
          "name": "stdout",
          "output_type": "stream",
          "text": [
            "Original: Não gostei ! Comprei gato por lebre\n",
            "Changed:   negação  gostei ! Comprei gato por lebre\n",
            "\n",
            "Original: Sempre compro pela Internet e a entrega ocorre antes do prazo combinado, que acredito ser o prazo máximo. No stark o prazo máximo já se esgotou e ainda não recebi o produto.\n",
            "Changed:  Sempre compro pela Internet e a entrega ocorre antes do prazo combinado, que acredito ser o prazo máximo. No stark o prazo máximo já se esgotou e ainda  negação  recebi o produto.\n",
            "\n",
            "Original: O produto não chegou no prazo estipulado e causou transtorno, pq programei a viagem de férias do meu filho, baseado no prazo. Moro na Bahia e ele em Cuiabá sozinho. Agora, a casa está vazia. \n",
            "Changed:  O produto  negação  chegou no prazo estipulado e causou transtorno, pq programei a viagem de férias do meu filho, baseado no prazo. Moro na Bahia e ele em Cuiabá sozinho. Agora, a casa está vazia. \n",
            "\n",
            "Original: Produto bom, porém o que veio para mim não condiz com a foto do anúncio.\n",
            "Changed:  Produto bom, porém o que veio para mim  negação  condiz com a foto do anúncio.\n",
            "\n"
          ]
        }
      ],
      "source": [
        "def re_negation(text_list):\n",
        "    \"\"\"\n",
        "    Args:\n",
        "    ----------\n",
        "    text_series: list object with text content to be prepared [type: list]\n",
        "    \"\"\"\n",
        "\n",
        "    return [re.sub('([nN][ãÃaA][oO]|[ñÑ]| [nN] )', ' negação ', r) for r in text_list]\n",
        "\n",
        "reviews_negation = re_negation(reviews_numbers)\n",
        "df_comments['re_negation'] = reviews_negation\n",
        "\n",
        "print_diff(reviews_numbers, reviews_negation)"
      ]
    },
    {
      "cell_type": "markdown",
      "metadata": {
        "id": "iwVZfy522e2k"
      },
      "source": [
        "##### special characters"
      ]
    },
    {
      "cell_type": "code",
      "execution_count": 67,
      "metadata": {
        "colab": {
          "base_uri": "https://localhost:8080/"
        },
        "id": "hwTb3zgG2e2k",
        "outputId": "43a02c72-c965-45ac-be58-517e289a11c4"
      },
      "outputs": [
        {
          "name": "stdout",
          "output_type": "stream",
          "text": [
            "Original: Recebi bem antes do prazo estipulado.\n",
            "Changed:  Recebi bem antes do prazo estipulado \n",
            "\n",
            "Original: aparelho eficiente. no site a marca do aparelho esta impresso como  numero desinfector e ao chegar esta com outro nome...atualizar com a marca correta uma vez que é o mesmo aparelho\n",
            "Changed:  aparelho eficiente  no site a marca do aparelho esta impresso como  numero desinfector e ao chegar esta com outro nome   atualizar com a marca correta uma vez que é o mesmo aparelho\n",
            "\n",
            "Original: Mas um pouco ,travando...pelo valor ta Boa.  \n",
            "Changed:  Mas um pouco  travando   pelo valor ta Boa   \n",
            "\n",
            "Original: Vendedor confiável, produto ok e entrega antes do prazo.\n",
            "Changed:  Vendedor confiável  produto ok e entrega antes do prazo \n",
            "\n",
            "Original: GOSTARIA DE SABER O QUE HOUVE, SEMPRE RECEBI E ESSA COMPRA AGORA ME DECPCIONOU\n",
            "Changed:  GOSTARIA DE SABER O QUE HOUVE  SEMPRE RECEBI E ESSA COMPRA AGORA ME DECPCIONOU\n",
            "\n",
            "Original: A compra foi realizada facilmente.  A entrega foi efetuada muito antes do prazo dado.  O produto já começou a ser usado e até o presente,  sem problemas.\n",
            "Changed:  A compra foi realizada facilmente   A entrega foi efetuada muito antes do prazo dado   O produto já começou a ser usado e até o presente   sem problemas \n",
            "\n"
          ]
        }
      ],
      "source": [
        "def re_special_chars(text_list):\n",
        "    \"\"\"\n",
        "    Args:\n",
        "    ----------\n",
        "    text_series: list object with text content to be prepared [type: list]\n",
        "    \"\"\"\n",
        "\n",
        "    return [re.sub('\\W', ' ', r) for r in text_list]\n",
        "\n",
        "reviews_special_chars = re_special_chars(reviews_negation)\n",
        "df_comments['re_special_chars'] = reviews_special_chars\n",
        "\n",
        "print_diff(reviews_negation, reviews_special_chars, limit=6)"
      ]
    },
    {
      "cell_type": "markdown",
      "metadata": {
        "id": "MPuqhOJz2e2k"
      },
      "source": [
        "##### whitespaces"
      ]
    },
    {
      "cell_type": "code",
      "execution_count": 68,
      "metadata": {
        "colab": {
          "base_uri": "https://localhost:8080/"
        },
        "id": "EZcyCaL02e2l",
        "outputId": "63dc9094-01f7-4dd4-dbd1-97e6dd47d899"
      },
      "outputs": [
        {
          "name": "stdout",
          "output_type": "stream",
          "text": [
            "Original: Recebi bem antes do prazo estipulado \n",
            "Changed:  Recebi bem antes do prazo estipulado\n",
            "\n",
            "Original: aparelho eficiente  no site a marca do aparelho esta impresso como  numero desinfector e ao chegar esta com outro nome   atualizar com a marca correta uma vez que é o mesmo aparelho\n",
            "Changed:  aparelho eficiente no site a marca do aparelho esta impresso como numero desinfector e ao chegar esta com outro nome atualizar com a marca correta uma vez que é o mesmo aparelho\n",
            "\n",
            "Original: Mas um pouco  travando   pelo valor ta Boa   \n",
            "Changed:  Mas um pouco travando pelo valor ta Boa\n",
            "\n",
            "Original: Vendedor confiável  produto ok e entrega antes do prazo \n",
            "Changed:  Vendedor confiável produto ok e entrega antes do prazo\n",
            "\n"
          ]
        }
      ],
      "source": [
        "def re_whitespaces(text_list):\n",
        "    \"\"\"\n",
        "    Args:\n",
        "    ----------\n",
        "    text_series: list object with text content to be prepared [type: list]\n",
        "    \"\"\"\n",
        "\n",
        "    # Applying regex\n",
        "    white_spaces = [re.sub('\\s+', ' ', r) for r in text_list]\n",
        "    white_spaces_end = [re.sub('[ \\t]+$', '', r) for r in white_spaces]\n",
        "    return white_spaces_end\n",
        "\n",
        "reviews_whitespaces = re_whitespaces(reviews_special_chars)\n",
        "df_comments['re_whitespaces'] = reviews_whitespaces\n",
        "\n",
        "# Verifying results\n",
        "print_diff(reviews_special_chars, reviews_whitespaces)"
      ]
    },
    {
      "cell_type": "markdown",
      "metadata": {
        "id": "J-3O9Vxr2e2l"
      },
      "source": [
        "##### stopwords"
      ]
    },
    {
      "cell_type": "code",
      "execution_count": 69,
      "metadata": {
        "colab": {
          "base_uri": "https://localhost:8080/"
        },
        "id": "JbgVnPFy2e2l",
        "outputId": "33ad18ce-10e7-4c27-fb53-78813e8a8c13"
      },
      "outputs": [
        {
          "name": "stdout",
          "output_type": "stream",
          "text": [
            "Total portuguese stopwords in the nltk.corpous module: 207\n",
            "['a', 'à', 'ao', 'aos', 'aquela', 'aquelas', 'aquele', 'aqueles', 'aquilo', 'as']\n"
          ]
        },
        {
          "name": "stderr",
          "output_type": "stream",
          "text": [
            "[nltk_data] Downloading package stopwords to /home/ivon/nltk_data...\n",
            "[nltk_data]   Package stopwords is already up-to-date!\n"
          ]
        }
      ],
      "source": [
        "# Download stopwords\n",
        "nltk.download('stopwords')\n",
        "\n",
        "# Examples of some portuguese stopwords\n",
        "pt_stopwords = nltk.corpus.stopwords.words('portuguese')\n",
        "print(f'Total portuguese stopwords in the nltk.corpous module: {len(pt_stopwords)}')\n",
        "print(pt_stopwords[:10])"
      ]
    },
    {
      "cell_type": "code",
      "execution_count": 70,
      "metadata": {
        "colab": {
          "base_uri": "https://localhost:8080/"
        },
        "id": "FxzScKdF2e2m",
        "outputId": "93357c3f-fb3f-40c6-c8ea-99a0f96f6ee6"
      },
      "outputs": [
        {
          "name": "stdout",
          "output_type": "stream",
          "text": [
            "Original: Recebi bem antes do prazo estipulado\n",
            "Changed:  recebi bem antes prazo estipulado\n",
            "\n",
            "Original: Parabéns lojas lannister adorei comprar pela Internet seguro e prático Parabéns a todos feliz Páscoa\n",
            "Changed:  parabéns lojas lannister adorei comprar internet seguro prático parabéns todos feliz páscoa\n",
            "\n",
            "Original: aparelho eficiente no site a marca do aparelho esta impresso como numero desinfector e ao chegar esta com outro nome atualizar com a marca correta uma vez que é o mesmo aparelho\n",
            "Changed:  aparelho eficiente site marca aparelho impresso numero desinfector chegar outro nome atualizar marca correta vez aparelho\n",
            "\n",
            "Original: Mas um pouco travando pelo valor ta Boa\n",
            "Changed:  pouco travando valor ta boa\n",
            "\n"
          ]
        }
      ],
      "source": [
        "# Defining a function to remove the stopwords and to lower the comments\n",
        "def stopwords_removal(text, cached_stopwords=nltk.corpus.stopwords.words('portuguese')):\n",
        "    \"\"\"\n",
        "    Args:\n",
        "    ----------\n",
        "    text: list object where the stopwords will be removed [type: list]\n",
        "    cached_stopwords: stopwords to be applied on the process [type: list, default: stopwords.words('portuguese')]\n",
        "    \"\"\"\n",
        "\n",
        "    return [c.lower() for c in text.split() if c.lower() not in cached_stopwords]\n",
        "\n",
        "reviews_stopwords = [' '.join(stopwords_removal(review)) for review in reviews_whitespaces]\n",
        "df_comments['stopwords_removed'] = reviews_stopwords\n",
        "\n",
        "print_diff(reviews_whitespaces, reviews_stopwords)"
      ]
    },
    {
      "cell_type": "markdown",
      "metadata": {
        "id": "I2gBO7_F2e2m"
      },
      "source": [
        "##### stemming\n",
        "\n",
        "Stemming is a text normalization process used in Natural Language Processing (NLP) to reduce words to their root or base form. The goal is to group together different forms of a word so they can be analyzed as a single item. For example, the words \"running\", \"runner\", and \"ran\" can all be reduced to the root word \"run\"."
      ]
    },
    {
      "cell_type": "code",
      "execution_count": 71,
      "metadata": {
        "colab": {
          "base_uri": "https://localhost:8080/"
        },
        "id": "0ozVKz0U2e2n",
        "outputId": "0d8f2d6b-dff9-4a74-e449-d4c8e2a6c314"
      },
      "outputs": [
        {
          "name": "stderr",
          "output_type": "stream",
          "text": [
            "[nltk_data] Downloading package rslp to /home/ivon/nltk_data...\n",
            "[nltk_data]   Package rslp is already up-to-date!\n"
          ]
        },
        {
          "data": {
            "text/plain": [
              "True"
            ]
          },
          "execution_count": 71,
          "metadata": {},
          "output_type": "execute_result"
        }
      ],
      "source": [
        "# Download rslp\n",
        "nltk.download('rslp')"
      ]
    },
    {
      "cell_type": "code",
      "execution_count": 72,
      "metadata": {
        "colab": {
          "base_uri": "https://localhost:8080/"
        },
        "id": "65_Dj5fr2e2n",
        "outputId": "d0510dc3-3bfe-4372-ba27-195efbfc0334"
      },
      "outputs": [
        {
          "name": "stdout",
          "output_type": "stream",
          "text": [
            "Original: recebi bem antes prazo estipulado\n",
            "Changed:  receb bem ant praz estipul\n",
            "\n",
            "Original: parabéns lojas lannister adorei comprar internet seguro prático parabéns todos feliz páscoa\n",
            "Changed:  parabém loj lannist ador compr internet segur prát parabém tod feliz pásco\n",
            "\n",
            "Original: aparelho eficiente site marca aparelho impresso numero desinfector chegar outro nome atualizar marca correta vez aparelho\n",
            "Changed:  aparelh efici sit marc aparelh impress numer desinfec cheg outr nom atual marc corret vez aparelh\n",
            "\n",
            "Original: pouco travando valor ta boa\n",
            "Changed:  pouc trav val ta boa\n",
            "\n"
          ]
        }
      ],
      "source": [
        "# Defining a function to remove the stopwords and to lower the comments\n",
        "def stemming_process(text, stemmer=nltk.stem.RSLPStemmer()):\n",
        "    \"\"\"\n",
        "    Args:\n",
        "    ----------\n",
        "    text: list object where the stopwords will be removed [type: list]\n",
        "    stemmer: type of stemmer to be applied [type: class, default: RSLPStemmer()]\n",
        "    \"\"\"\n",
        "\n",
        "    return [stemmer.stem(c) for c in text.split()]\n",
        "\n",
        "# Applying stemming and looking at some examples\n",
        "reviews_stemmer = [' '.join(stemming_process(review)) for review in reviews_stopwords]\n",
        "df_comments['stemming'] = reviews_stemmer\n",
        "\n",
        "print_diff(reviews_stopwords, reviews_stemmer)"
      ]
    },
    {
      "cell_type": "code",
      "execution_count": 73,
      "metadata": {
        "id": "bAqKArZC2e2p"
      },
      "outputs": [],
      "source": [
        "reviews_final = reviews_stemmer"
      ]
    },
    {
      "cell_type": "markdown",
      "metadata": {
        "id": "c5BN5mhvAICD"
      },
      "source": [
        "#### tokenization and pad"
      ]
    },
    {
      "cell_type": "code",
      "execution_count": 74,
      "metadata": {
        "colab": {
          "base_uri": "https://localhost:8080/"
        },
        "id": "tnpp2e-e_9Ue",
        "outputId": "ae425ff4-6d07-45b2-add4-b55a695434bc"
      },
      "outputs": [],
      "source": [
        "# Tokenization and padding\n",
        "# tokenizer = Tokenizer()\n",
        "# tokenizer.fit_on_texts(reviews_final)\n",
        "\n",
        "# reviews_sequences = tokenizer.texts_to_sequences(reviews_final)\n",
        "\n",
        "# max_length = max(len(seq) for seq in reviews_sequences)\n",
        "# reviews_padded = pad_sequences(reviews_sequences, maxlen=max_length, padding='post')\n",
        "\n",
        "# reviews_padded[:5]"
      ]
    },
    {
      "cell_type": "markdown",
      "metadata": {
        "id": "YDTJDqb52e2p"
      },
      "source": [
        "# Sentiment Classification"
      ]
    },
    {
      "cell_type": "markdown",
      "metadata": {
        "id": "OlTmgJNv2e2q"
      },
      "source": [
        "## Deep Neural Networks"
      ]
    },
    {
      "cell_type": "markdown",
      "metadata": {
        "id": "YZSlwHMp2e2r"
      },
      "source": [
        "Dive data into train, validation and test (80%, 10%, 10%)."
      ]
    },
    {
      "cell_type": "code",
      "execution_count": 75,
      "metadata": {},
      "outputs": [
        {
          "name": "stderr",
          "output_type": "stream",
          "text": [
            "Some weights of BertForSequenceClassification were not initialized from the model checkpoint at neuralmind/bert-base-portuguese-cased and are newly initialized: ['classifier.bias', 'classifier.weight']\n",
            "You should probably TRAIN this model on a down-stream task to be able to use it for predictions and inference.\n"
          ]
        }
      ],
      "source": [
        "model_name = \"neuralmind/bert-base-portuguese-cased\"  # or \"microsoft/mdeberta-v3-base\"\n",
        "tokenizer = AutoTokenizer.from_pretrained(model_name)\n",
        "model = AutoModelForSequenceClassification.from_pretrained(\n",
        "    model_name, \n",
        "    num_labels=2,  # binary classification\n",
        ")\n",
        "num_epochs = 15"
      ]
    },
    {
      "cell_type": "code",
      "execution_count": 76,
      "metadata": {},
      "outputs": [],
      "source": [
        "class ReviewDataset(Dataset):\n",
        "    def __init__(self, texts, labels, tokenizer, max_len=128):\n",
        "        self.texts = texts\n",
        "        self.labels = labels\n",
        "        self.tokenizer = tokenizer\n",
        "        self.max_len = max_len\n",
        "        \n",
        "    def __len__(self):\n",
        "        return len(self.texts)\n",
        "    \n",
        "    def __getitem__(self, idx):\n",
        "        text = str(self.texts[idx])\n",
        "        label = self.labels[idx]\n",
        "        \n",
        "        # Tokenize the text\n",
        "        encoding = self.tokenizer.encode_plus(\n",
        "            text,\n",
        "            add_special_tokens=True,\n",
        "            max_length=self.max_len,\n",
        "            return_token_type_ids=False,\n",
        "            padding='max_length',\n",
        "            truncation=True,\n",
        "            return_attention_mask=True,\n",
        "            return_tensors='pt'\n",
        "        )\n",
        "        \n",
        "        return {\n",
        "            'input_ids': encoding['input_ids'].flatten(),\n",
        "            'attention_mask': encoding['attention_mask'].flatten(),\n",
        "            'labels': torch.tensor(label, dtype=torch.long)\n",
        "        }"
      ]
    },
    {
      "cell_type": "code",
      "execution_count": null,
      "metadata": {},
      "outputs": [],
      "source": [
        "def train_model(model, num_epochs, train_loader, val_loader, device, patience=3, save_path='transformers_weights'):\n",
        "    import os\n",
        "    os.makedirs(save_path, exist_ok=True)\n",
        "\n",
        "    optimizer = AdamW(model.parameters(), lr=2e-5)\n",
        "    \n",
        "    # Number of training steps\n",
        "    num_training_steps = num_epochs * len(train_loader)\n",
        "    \n",
        "    # Create scheduler\n",
        "    scheduler = get_linear_schedule_with_warmup(\n",
        "        optimizer,\n",
        "        num_warmup_steps=0,\n",
        "        num_training_steps=num_training_steps\n",
        "    )\n",
        "    \n",
        "    # Store metrics\n",
        "    best_val_accuracy = 0.0\n",
        "    epochs_without_improvement = 0\n",
        "    train_losses = []\n",
        "    val_losses = []\n",
        "    train_accuracies = []\n",
        "    val_accuracies = []\n",
        "\n",
        "    # Training loop\n",
        "    for epoch in range(num_epochs):\n",
        "        print(f'Epoch {epoch + 1}/{num_epochs}')\n",
        "        print('-' * 10)\n",
        "        \n",
        "        # Training\n",
        "        model.train()\n",
        "        epoch_train_loss = 0\n",
        "        epoch_train_correct = 0\n",
        "        epoch_train_total = 0\n",
        "\n",
        "        for batch in tqdm(train_loader):\n",
        "            input_ids = batch['input_ids'].to(device)\n",
        "            attention_mask = batch['attention_mask'].to(device)\n",
        "            labels = batch['labels'].to(device)\n",
        "            \n",
        "            # Zero gradients\n",
        "            optimizer.zero_grad()\n",
        "            \n",
        "            # Forward pass\n",
        "            outputs = model(\n",
        "                input_ids=input_ids,\n",
        "                attention_mask=attention_mask,\n",
        "                labels=labels\n",
        "            )\n",
        "            \n",
        "            loss = outputs.loss\n",
        "            epoch_train_loss += loss.item()\n",
        "            \n",
        "            # Calculate training accuracy\n",
        "            preds = torch.argmax(outputs.logits, dim=1)\n",
        "            epoch_train_correct += (preds == labels).sum().item()\n",
        "            epoch_train_total += labels.size(0)\n",
        "\n",
        "            # Backward pass\n",
        "            loss.backward()\n",
        "            \n",
        "            # Clip gradients\n",
        "            torch.nn.utils.clip_grad_norm_(model.parameters(), max_norm=1.0)\n",
        "            \n",
        "            # Update weights\n",
        "            optimizer.step()\n",
        "            scheduler.step()\n",
        "        \n",
        "        # Calculate training metrics\n",
        "        avg_train_loss = epoch_train_loss / len(train_loader)\n",
        "        train_accuracy = epoch_train_correct / epoch_train_total\n",
        "        train_losses.append(avg_train_loss)\n",
        "        train_accuracies.append(train_accuracy)\n",
        "        print(f'Train Loss: {avg_train_loss:.4f} | Train Acc: {train_accuracy:.4f}')\n",
        "        \n",
        "        # Validation\n",
        "        model.eval()\n",
        "        epoch_val_loss = 0\n",
        "        epoch_val_correct = 0\n",
        "        epoch_val_total = 0\n",
        "        \n",
        "        with torch.no_grad():\n",
        "            for batch in val_loader:\n",
        "                input_ids = batch['input_ids'].to(device)\n",
        "                attention_mask = batch['attention_mask'].to(device)\n",
        "                labels = batch['labels'].to(device)\n",
        "                \n",
        "                outputs = model(\n",
        "                    input_ids=input_ids,\n",
        "                    attention_mask=attention_mask,\n",
        "                    labels=labels\n",
        "                )\n",
        "\n",
        "                epoch_val_loss += outputs.loss.item()\n",
        "                preds = torch.argmax(outputs.logits, dim=1)\n",
        "                epoch_val_correct += (preds == labels).sum().item()\n",
        "                epoch_val_total += labels.size(0)\n",
        "        \n",
        "        # Calculate validation metrics\n",
        "        avg_val_loss = epoch_val_loss / len(val_loader)\n",
        "        val_accuracy = epoch_val_correct / epoch_val_total\n",
        "        val_losses.append(avg_val_loss)\n",
        "        val_accuracies.append(val_accuracy)\n",
        "        print(f'Val Loss: {avg_val_loss:.4f} | Val Acc: {val_accuracy:.4f}')\n",
        "\n",
        "        model_save_path = os.path.join(save_path, f'model_epoch_{epoch}.pt') \n",
        "        torch.save(model.state_dict(), model_save_path)\n",
        "\n",
        "        # Early stopping logic\n",
        "        if val_accuracy > best_val_accuracy:\n",
        "            best_val_accuracy = val_accuracy\n",
        "            epochs_without_improvement = 0\n",
        "\n",
        "            model_save_path = os.path.join(save_path, f'best_model.pt') \n",
        "            torch.save(model.state_dict(), model_save_path)\n",
        "            print(f\"New best model saved (Accuracy: {best_val_accuracy:.4f})\")\n",
        "\n",
        "        else:\n",
        "            epochs_without_improvement += 1\n",
        "            print(f\"No improvement for {epochs_without_improvement}/{patience} epochs\")\n",
        "            \n",
        "            if epochs_without_improvement >= patience:\n",
        "                print(f\"Early stopping triggered (no improvement for {patience} epochs)\")\n",
        "                break\n",
        "    \n",
        "    print(f\"\\nTraining complete. Best Validation Accuracy: {best_val_accuracy:.4f}\")\n",
        "    \n",
        "    metrics = {\n",
        "        'train_losses': train_losses,\n",
        "        'val_losses': val_losses,\n",
        "        'train_accuracies': train_accuracies,\n",
        "        'val_accuracies': val_accuracies,\n",
        "        'best_val_accuracy': best_val_accuracy\n",
        "    }\n",
        "\n",
        "    return model, metrics\n"
      ]
    },
    {
      "cell_type": "code",
      "execution_count": 78,
      "metadata": {},
      "outputs": [],
      "source": [
        "# 4. Prepare data and train\n",
        "# Assuming df_comments is your DataFrame with 'comment' and binary 'score' columns\n",
        "X = reviews_final\n",
        "y = y.to_list()"
      ]
    },
    {
      "cell_type": "code",
      "execution_count": 79,
      "metadata": {},
      "outputs": [],
      "source": [
        "seed = 0\n",
        "torch.manual_seed(seed)\n",
        "torch.cuda.manual_seed(seed)"
      ]
    },
    {
      "cell_type": "code",
      "execution_count": 80,
      "metadata": {},
      "outputs": [],
      "source": [
        "# Split data\n",
        "X_train, X_temp, y_train, y_temp = train_test_split(X, y, test_size=0.2, random_state=seed)\n",
        "X_val, X_test, y_val, y_test = train_test_split(X_temp, y_temp, test_size=0.5, random_state=seed)\n",
        "\n",
        "# Create datasets\n",
        "train_dataset = ReviewDataset(X_train, y_train, tokenizer)\n",
        "val_dataset = ReviewDataset(X_val, y_val, tokenizer)\n",
        "test_dataset = ReviewDataset(X_test, y_test, tokenizer)\n",
        "\n",
        "# Create dataloaders\n",
        "train_loader = DataLoader(train_dataset, batch_size=16, shuffle=True)\n",
        "val_loader = DataLoader(val_dataset, batch_size=16)\n",
        "test_loader = DataLoader(test_dataset, batch_size=16)"
      ]
    },
    {
      "cell_type": "code",
      "execution_count": 42,
      "metadata": {},
      "outputs": [
        {
          "data": {
            "text/plain": [
              "(2049, 257, 257)"
            ]
          },
          "execution_count": 42,
          "metadata": {},
          "output_type": "execute_result"
        }
      ],
      "source": [
        "len(train_loader), len(val_loader), len(test_loader)"
      ]
    },
    {
      "cell_type": "code",
      "execution_count": 81,
      "metadata": {},
      "outputs": [
        {
          "name": "stdout",
          "output_type": "stream",
          "text": [
            "Using device: cuda\n"
          ]
        },
        {
          "data": {
            "text/plain": [
              "BertForSequenceClassification(\n",
              "  (bert): BertModel(\n",
              "    (embeddings): BertEmbeddings(\n",
              "      (word_embeddings): Embedding(29794, 768, padding_idx=0)\n",
              "      (position_embeddings): Embedding(512, 768)\n",
              "      (token_type_embeddings): Embedding(2, 768)\n",
              "      (LayerNorm): LayerNorm((768,), eps=1e-12, elementwise_affine=True)\n",
              "      (dropout): Dropout(p=0.1, inplace=False)\n",
              "    )\n",
              "    (encoder): BertEncoder(\n",
              "      (layer): ModuleList(\n",
              "        (0-11): 12 x BertLayer(\n",
              "          (attention): BertAttention(\n",
              "            (self): BertSdpaSelfAttention(\n",
              "              (query): Linear(in_features=768, out_features=768, bias=True)\n",
              "              (key): Linear(in_features=768, out_features=768, bias=True)\n",
              "              (value): Linear(in_features=768, out_features=768, bias=True)\n",
              "              (dropout): Dropout(p=0.1, inplace=False)\n",
              "            )\n",
              "            (output): BertSelfOutput(\n",
              "              (dense): Linear(in_features=768, out_features=768, bias=True)\n",
              "              (LayerNorm): LayerNorm((768,), eps=1e-12, elementwise_affine=True)\n",
              "              (dropout): Dropout(p=0.1, inplace=False)\n",
              "            )\n",
              "          )\n",
              "          (intermediate): BertIntermediate(\n",
              "            (dense): Linear(in_features=768, out_features=3072, bias=True)\n",
              "            (intermediate_act_fn): GELUActivation()\n",
              "          )\n",
              "          (output): BertOutput(\n",
              "            (dense): Linear(in_features=3072, out_features=768, bias=True)\n",
              "            (LayerNorm): LayerNorm((768,), eps=1e-12, elementwise_affine=True)\n",
              "            (dropout): Dropout(p=0.1, inplace=False)\n",
              "          )\n",
              "        )\n",
              "      )\n",
              "    )\n",
              "    (pooler): BertPooler(\n",
              "      (dense): Linear(in_features=768, out_features=768, bias=True)\n",
              "      (activation): Tanh()\n",
              "    )\n",
              "  )\n",
              "  (dropout): Dropout(p=0.1, inplace=False)\n",
              "  (classifier): Linear(in_features=768, out_features=2, bias=True)\n",
              ")"
            ]
          },
          "execution_count": 81,
          "metadata": {},
          "output_type": "execute_result"
        }
      ],
      "source": [
        "# Set device\n",
        "device = torch.device('cuda' if torch.cuda.is_available() else 'cpu')\n",
        "print(\"Using device:\", device)\n",
        "model = model.to(device)\n",
        "model"
      ]
    },
    {
      "cell_type": "code",
      "execution_count": 82,
      "metadata": {},
      "outputs": [
        {
          "name": "stdout",
          "output_type": "stream",
          "text": [
            "Epoch 1/15\n",
            "----------\n"
          ]
        },
        {
          "name": "stderr",
          "output_type": "stream",
          "text": [
            "100%|██████████| 2049/2049 [03:12<00:00, 10.63it/s]\n"
          ]
        },
        {
          "name": "stdout",
          "output_type": "stream",
          "text": [
            "Train Loss: 0.3044 | Train Acc: 0.8870\n",
            "Val Loss: 0.2752 | Val Acc: 0.9007\n",
            "New best model saved (Accuracy: 0.9007)\n",
            "Epoch 2/15\n",
            "----------\n"
          ]
        },
        {
          "name": "stderr",
          "output_type": "stream",
          "text": [
            "100%|██████████| 2049/2049 [03:14<00:00, 10.53it/s]\n"
          ]
        },
        {
          "name": "stdout",
          "output_type": "stream",
          "text": [
            "Train Loss: 0.2501 | Train Acc: 0.9110\n",
            "Val Loss: 0.2791 | Val Acc: 0.9004\n",
            "No improvement for 1/3 epochs\n",
            "Epoch 3/15\n",
            "----------\n"
          ]
        },
        {
          "name": "stderr",
          "output_type": "stream",
          "text": [
            "100%|██████████| 2049/2049 [03:11<00:00, 10.67it/s]\n"
          ]
        },
        {
          "name": "stdout",
          "output_type": "stream",
          "text": [
            "Train Loss: 0.2218 | Train Acc: 0.9267\n",
            "Val Loss: 0.2922 | Val Acc: 0.9063\n",
            "New best model saved (Accuracy: 0.9063)\n",
            "Epoch 4/15\n",
            "----------\n"
          ]
        },
        {
          "name": "stderr",
          "output_type": "stream",
          "text": [
            "100%|██████████| 2049/2049 [03:11<00:00, 10.72it/s]\n"
          ]
        },
        {
          "name": "stdout",
          "output_type": "stream",
          "text": [
            "Train Loss: 0.1905 | Train Acc: 0.9441\n",
            "Val Loss: 0.3649 | Val Acc: 0.8992\n",
            "No improvement for 1/3 epochs\n",
            "Epoch 5/15\n",
            "----------\n"
          ]
        },
        {
          "name": "stderr",
          "output_type": "stream",
          "text": [
            "100%|██████████| 2049/2049 [03:11<00:00, 10.71it/s]\n"
          ]
        },
        {
          "name": "stdout",
          "output_type": "stream",
          "text": [
            "Train Loss: 0.1655 | Train Acc: 0.9553\n",
            "Val Loss: 0.3933 | Val Acc: 0.8978\n",
            "No improvement for 2/3 epochs\n",
            "Epoch 6/15\n",
            "----------\n"
          ]
        },
        {
          "name": "stderr",
          "output_type": "stream",
          "text": [
            "100%|██████████| 2049/2049 [03:11<00:00, 10.71it/s]\n"
          ]
        },
        {
          "name": "stdout",
          "output_type": "stream",
          "text": [
            "Train Loss: 0.1416 | Train Acc: 0.9623\n",
            "Val Loss: 0.4383 | Val Acc: 0.8960\n",
            "No improvement for 3/3 epochs\n",
            "Early stopping triggered (no improvement for 3 epochs)\n",
            "\n",
            "Training complete. Best Validation Accuracy: 0.9063\n"
          ]
        }
      ],
      "source": [
        "model, metrics = train_model(model, num_epochs, train_loader, val_loader, device)"
      ]
    },
    {
      "cell_type": "code",
      "execution_count": null,
      "metadata": {},
      "outputs": [
        {
          "data": {
            "image/png": "[encoded data removed]",
            "text/plain": [
              "<Figure size 1200x600 with 1 Axes>"
            ]
          },
          "metadata": {},
          "output_type": "display_data"
        },
        {
          "data": {
            "image/png": "[encoded data removed]",
            "text/plain": [
              "<Figure size 1200x600 with 1 Axes>"
            ]
          },
          "metadata": {},
          "output_type": "display_data"
        }
      ],
      "source": [
        "# Plot training and validation losses\n",
        "plt.figure(figsize=(12, 6))\n",
        "plt.plot(metrics['train_losses'], label='Training Loss')\n",
        "plt.plot(metrics['val_losses'], label='Validation Loss')\n",
        "plt.xlabel('Epochs')\n",
        "plt.ylabel('Loss')\n",
        "plt.title('Training and Validation Loss')\n",
        "plt.legend()\n",
        "plt.show()\n",
        "\n",
        "# Plot training and validation accuracies\n",
        "plt.figure(figsize=(12, 6))\n",
        "plt.plot(metrics['train_accuracies'], label='Training Accuracy')\n",
        "plt.plot(metrics['val_accuracies'], label='Validation Accuracy')\n",
        "plt.xlabel('Epochs')\n",
        "plt.ylabel('Accuracy')\n",
        "plt.title('Training and Validation Accuracy')\n",
        "plt.legend()\n",
        "plt.show()"
      ]
    },
    {
      "cell_type": "markdown",
      "metadata": {
        "id": "LzTEq2ws2e22"
      },
      "source": [
        "## Tests"
      ]
    },
    {
      "cell_type": "code",
      "execution_count": 111,
      "metadata": {},
      "outputs": [
        {
          "name": "stderr",
          "output_type": "stream",
          "text": [
            "Some weights of BertForSequenceClassification were not initialized from the model checkpoint at neuralmind/bert-base-portuguese-cased and are newly initialized: ['classifier.bias', 'classifier.weight']\n",
            "You should probably TRAIN this model on a down-stream task to be able to use it for predictions and inference.\n"
          ]
        },
        {
          "data": {
            "text/plain": [
              "BertForSequenceClassification(\n",
              "  (bert): BertModel(\n",
              "    (embeddings): BertEmbeddings(\n",
              "      (word_embeddings): Embedding(29794, 768, padding_idx=0)\n",
              "      (position_embeddings): Embedding(512, 768)\n",
              "      (token_type_embeddings): Embedding(2, 768)\n",
              "      (LayerNorm): LayerNorm((768,), eps=1e-12, elementwise_affine=True)\n",
              "      (dropout): Dropout(p=0.1, inplace=False)\n",
              "    )\n",
              "    (encoder): BertEncoder(\n",
              "      (layer): ModuleList(\n",
              "        (0-11): 12 x BertLayer(\n",
              "          (attention): BertAttention(\n",
              "            (self): BertSdpaSelfAttention(\n",
              "              (query): Linear(in_features=768, out_features=768, bias=True)\n",
              "              (key): Linear(in_features=768, out_features=768, bias=True)\n",
              "              (value): Linear(in_features=768, out_features=768, bias=True)\n",
              "              (dropout): Dropout(p=0.1, inplace=False)\n",
              "            )\n",
              "            (output): BertSelfOutput(\n",
              "              (dense): Linear(in_features=768, out_features=768, bias=True)\n",
              "              (LayerNorm): LayerNorm((768,), eps=1e-12, elementwise_affine=True)\n",
              "              (dropout): Dropout(p=0.1, inplace=False)\n",
              "            )\n",
              "          )\n",
              "          (intermediate): BertIntermediate(\n",
              "            (dense): Linear(in_features=768, out_features=3072, bias=True)\n",
              "            (intermediate_act_fn): GELUActivation()\n",
              "          )\n",
              "          (output): BertOutput(\n",
              "            (dense): Linear(in_features=3072, out_features=768, bias=True)\n",
              "            (LayerNorm): LayerNorm((768,), eps=1e-12, elementwise_affine=True)\n",
              "            (dropout): Dropout(p=0.1, inplace=False)\n",
              "          )\n",
              "        )\n",
              "      )\n",
              "    )\n",
              "    (pooler): BertPooler(\n",
              "      (dense): Linear(in_features=768, out_features=768, bias=True)\n",
              "      (activation): Tanh()\n",
              "    )\n",
              "  )\n",
              "  (dropout): Dropout(p=0.1, inplace=False)\n",
              "  (classifier): Linear(in_features=768, out_features=2, bias=True)\n",
              ")"
            ]
          },
          "execution_count": 111,
          "metadata": {},
          "output_type": "execute_result"
        }
      ],
      "source": [
        "best_model = AutoModelForSequenceClassification.from_pretrained(\n",
        "    model_name, \n",
        "    num_labels=2,  # binary classification\n",
        ")\n",
        "best_model.load_state_dict(torch.load('transformers_weights/best_model.pt', weights_only=True))\n",
        "best_model.to(device)"
      ]
    },
    {
      "cell_type": "code",
      "execution_count": 85,
      "metadata": {
        "id": "qY32MWj82e23"
      },
      "outputs": [],
      "source": [
        "def evaluate_model(y_true, y_pred):\n",
        "    print(\"Classification Report:\")\n",
        "    print(classification_report(y_true, y_pred))\n",
        "\n",
        "    print(f\"Accuracy: {accuracy_score(y_true, y_pred):.2f}\")\n",
        "\n",
        "    # Confusion matrix\n",
        "    cm = confusion_matrix(y_true, y_pred)\n",
        "    plt.figure(figsize=(8, 6))\n",
        "    sns.heatmap(cm, annot=True, fmt='d', cmap='Blues', xticklabels=['Not Satisfied', 'Satisfied'], yticklabels=['Not Satisfied', 'Satisfied'])\n",
        "    plt.xlabel('Predicted')\n",
        "    plt.ylabel('True')\n",
        "    plt.title('Confusion Matrix')\n",
        "    plt.show()\n",
        "\n",
        "def display_predictions(df, y_true, y_pred, n=5):\n",
        "    df['true_label'] = y_true\n",
        "    df['predicted_label'] = y_pred\n",
        "    correct = df[df['true_label'] == df['predicted_label']].sample(n)\n",
        "    incorrect = df[df['true_label'] != df['predicted_label']].sample(n)\n",
        "\n",
        "    print(\"Correct Predictions:\")\n",
        "    print(correct[['comment', 'true_label', 'predicted_label']])\n",
        "    print(\"\\nIncorrect Predictions:\")\n",
        "    print(incorrect[['comment', 'true_label', 'predicted_label']])"
      ]
    },
    {
      "cell_type": "code",
      "execution_count": 112,
      "metadata": {},
      "outputs": [
        {
          "name": "stdout",
          "output_type": "stream",
          "text": [
            "Classification Report:\n",
            "              precision    recall  f1-score   support\n",
            "\n",
            "           0       0.88      0.87      0.87      1468\n",
            "           1       0.93      0.93      0.93      2630\n",
            "\n",
            "    accuracy                           0.91      4098\n",
            "   macro avg       0.90      0.90      0.90      4098\n",
            "weighted avg       0.91      0.91      0.91      4098\n",
            "\n",
            "Accuracy: 0.91\n"
          ]
        },
        {
          "data": {
            "image/png": "[encoded data removed]",
            "text/plain": [
              "<Figure size 800x600 with 2 Axes>"
            ]
          },
          "metadata": {},
          "output_type": "display_data"
        }
      ],
      "source": [
        "test_loader.dataset[0]\n",
        "\n",
        "best_model.eval()\n",
        "predictions = []\n",
        "true_labels = []\n",
        "with torch.no_grad():\n",
        "    for batch in test_loader:\n",
        "        input_ids = batch['input_ids'].to(device)\n",
        "        attention_mask = batch['attention_mask'].to(device)\n",
        "        labels = batch['labels'].to(device)\n",
        "\n",
        "        outputs = best_model(input_ids=input_ids, attention_mask=attention_mask)\n",
        "        preds = torch.argmax(outputs.logits, dim=1)\n",
        "        \n",
        "        predictions.extend(preds.cpu().numpy())\n",
        "        true_labels.extend(labels.cpu().numpy())\n",
        "\n",
        "# Convert to numpy arrays\n",
        "predictions = np.array(predictions)\n",
        "true_labels = np.array(true_labels)\n",
        "\n",
        "# Evaluate thebest_model \n",
        "evaluate_model(true_labels, predictions)"
      ]
    },
    {
      "cell_type": "markdown",
      "metadata": {
        "id": "w-nXvQwz2e25"
      },
      "source": [
        "## Dense model with Regex Transformers + TF-IDF Vectorizer"
      ]
    },
    {
      "cell_type": "markdown",
      "metadata": {
        "id": "0tEsKkX32e25"
      },
      "source": [
        "### Feature Extraction\n",
        "\n",
        "After the RegEx, stopwords removal and stemming application, we can use Bag of Words, TF-IDF and Word2Vec to get more meaning. To make our analysis easier, let's define a function that receives a text and a vectorizer object and applies the feature extraction on the respective text."
      ]
    },
    {
      "cell_type": "markdown",
      "metadata": {
        "id": "DyOoN_BF2e25"
      },
      "source": [
        "#### CountVectorizer\n",
        "\n",
        "Count vectorization is a technique in NLP that converts text documents into a matrix of token counts. Tokens can be words, characters, or n-grams. Each token represents a column in the matrix, and the resulting vector for each document has counts for each token.\n",
        "\n",
        "On the Bag of Words approach, we create a dictionary vocabulary with all the unique words and, for each word in each comment/text string, we index the words into a vector that represents the occurrence (1) or not (0) of each word. This is a way for transforming a text into a frequency vector considering a literal bag of words (dictionary vocabulary).\n",
        "\n",
        "Example:"
      ]
    },
    {
      "cell_type": "code",
      "execution_count": 125,
      "metadata": {
        "colab": {
          "base_uri": "https://localhost:8080/"
        },
        "id": "UVt67_3Y2e26",
        "outputId": "231f1eb0-e93a-4134-ab6d-5840e1866f3d"
      },
      "outputs": [
        {
          "data": {
            "text/plain": [
              "{'this': 8,\n",
              " 'is': 3,\n",
              " 'the': 6,\n",
              " 'first': 2,\n",
              " 'document': 1,\n",
              " 'second': 5,\n",
              " 'and': 0,\n",
              " 'third': 7,\n",
              " 'one': 4}"
            ]
          },
          "execution_count": 125,
          "metadata": {},
          "output_type": "execute_result"
        }
      ],
      "source": [
        "corpus = [\n",
        "    'This is the first document',\n",
        "    'This document is the second document',\n",
        "    'and this is the third one',\n",
        "    'is this the first document'\n",
        "]\n",
        "\n",
        "vec = CountVectorizer().fit(corpus)\n",
        "vec.vocabulary_"
      ]
    },
    {
      "cell_type": "code",
      "execution_count": 126,
      "metadata": {
        "colab": {
          "base_uri": "https://localhost:8080/"
        },
        "id": "VfgX6YcZ2e26",
        "outputId": "f0d6d1fc-5b84-4e28-c7ed-3b096f417761"
      },
      "outputs": [
        {
          "data": {
            "text/plain": [
              "array([[0, 1, 1, 1, 0, 0, 1, 0, 1],\n",
              "       [0, 2, 0, 1, 0, 1, 1, 0, 1],\n",
              "       [1, 0, 0, 1, 1, 0, 1, 1, 1],\n",
              "       [0, 1, 1, 1, 0, 0, 1, 0, 1]])"
            ]
          },
          "execution_count": 126,
          "metadata": {},
          "output_type": "execute_result"
        }
      ],
      "source": [
        "vec.transform(corpus).toarray()"
      ]
    },
    {
      "cell_type": "markdown",
      "metadata": {
        "id": "s1usMedh2e27"
      },
      "source": [
        "#### TF-IDF\n",
        "\n",
        "With the Bag of Words approach, each word has the same weight, which may not be true all the time, especially for those words with a very low frequency in the corpus. So, the TF-IDF (Term Frequency and Inverse Document Frequency) approach can be used with the scikit-learn library following the formulas:\n",
        "\n",
        "$$\n",
        "TF = \\frac{\\text{Frequency of a word in the document}}{\\text{Total words in the document}}\n",
        "$$\n",
        "\n",
        "$$\n",
        "IDF = \\log\\left(\\frac{\\text{Total number of documents}}{\\text{Number of documents containing the word}}\\right)\n",
        "$$\n",
        "\n",
        "The purpose of using tf-idf instead of simply counting the frequency of a token in a document is to reduce the influence of tokens that appear very frequently in a given collection of documents. These tokens are less informative than those appearing in only a small fraction of the corpus. Scaling down the impact of these frequently occurring tokens helps improve text-based machine-learning models’ accuracy.\n",
        "\n",
        "Example:"
      ]
    },
    {
      "cell_type": "code",
      "execution_count": 127,
      "metadata": {
        "colab": {
          "base_uri": "https://localhost:8080/"
        },
        "id": "MqLh6YU_2e27",
        "outputId": "ed8c12cd-949c-474c-a4e5-6049344ddc5f"
      },
      "outputs": [
        {
          "data": {
            "text/plain": [
              "array([[0.        , 0.46979139, 0.58028582, 0.38408524, 0.        ,\n",
              "        0.        , 0.38408524, 0.        , 0.38408524],\n",
              "       [0.        , 0.6876236 , 0.        , 0.28108867, 0.        ,\n",
              "        0.53864762, 0.28108867, 0.        , 0.28108867],\n",
              "       [0.51184851, 0.        , 0.        , 0.26710379, 0.51184851,\n",
              "        0.        , 0.26710379, 0.51184851, 0.26710379],\n",
              "       [0.        , 0.46979139, 0.58028582, 0.38408524, 0.        ,\n",
              "        0.        , 0.38408524, 0.        , 0.38408524]])"
            ]
          },
          "execution_count": 127,
          "metadata": {},
          "output_type": "execute_result"
        }
      ],
      "source": [
        "vectorized = vec.transform(corpus).toarray()\n",
        "tfid = TfidfTransformer().fit(vectorized)\n",
        "\n",
        "tfid.transform(vectorized).toarray()"
      ]
    },
    {
      "cell_type": "code",
      "execution_count": 128,
      "metadata": {
        "id": "Sc9MiVU_2e27"
      },
      "outputs": [],
      "source": [
        "# [TEXT PREP] Class to apply multiple RegEx functions on a dict\n",
        "class ApplyRegex(BaseEstimator, TransformerMixin):\n",
        "\n",
        "    def __init__(self, regex_transformers):\n",
        "        self.regex_transformers = regex_transformers\n",
        "\n",
        "    def fit(self, X, y=None):\n",
        "        return self\n",
        "\n",
        "    def transform(self, X, y=None):\n",
        "        # Applying all regex functions in the regex_transformers dictionary\n",
        "        for regex_name, regex_function in self.regex_transformers.items():\n",
        "            X = regex_function(X)\n",
        "\n",
        "        return X\n",
        "\n",
        "\n",
        "# [TEXT PREP] Class to remove stopwords\n",
        "class StopWordsRemoval(BaseEstimator, TransformerMixin):\n",
        "\n",
        "    def __init__(self, text_stopwords):\n",
        "        self.text_stopwords = text_stopwords\n",
        "\n",
        "    def fit(self, X, y=None):\n",
        "        return self\n",
        "\n",
        "    def transform(self, X, y=None):\n",
        "        return [' '.join(stopwords_removal(comment, self.text_stopwords)) for comment in X]\n",
        "\n",
        "\n",
        "# [TEXT PREP] Class to apply stemming\n",
        "class StemmingProcess(BaseEstimator, TransformerMixin):\n",
        "\n",
        "    def __init__(self, stemmer):\n",
        "        self.stemmer = stemmer\n",
        "\n",
        "    def fit(self, X, y=None):\n",
        "        return self\n",
        "\n",
        "    def transform(self, X, y=None):\n",
        "        return [' '.join(stemming_process(comment, self.stemmer)) for comment in X]\n",
        "\n",
        "\n",
        "# [TEXT PREP] Class to extract features (vocab / bag of words / TF-IDF)\n",
        "class TextFeatureExtraction(BaseEstimator, TransformerMixin):\n",
        "\n",
        "    def __init__(self, vectorizer, train=True):\n",
        "        self.vectorizer = vectorizer\n",
        "        self.train = train\n",
        "\n",
        "    def fit(self, X, y=None):\n",
        "        return self\n",
        "\n",
        "    def transform(self, X, y=None):\n",
        "        if self.train:\n",
        "            return self.vectorizer.fit_transform(X).toarray()\n",
        "        else:\n",
        "            return self.vectorizer.transform(X)"
      ]
    },
    {
      "cell_type": "code",
      "execution_count": 129,
      "metadata": {
        "id": "WWuSW3LX2e28"
      },
      "outputs": [],
      "source": [
        "# Defining regex transformers to be applied\n",
        "regex_transformers = {\n",
        "    'break_line': re_breakline,\n",
        "    'hiperlinks': re_hiperlinks,\n",
        "    'dates': re_dates,\n",
        "    'money': re_money,\n",
        "    'numbers': re_numbers,\n",
        "    'negation': re_negation,\n",
        "    'special_chars': re_special_chars,\n",
        "    'whitespaces': re_whitespaces\n",
        "}\n",
        "\n",
        "# Defining the vectorizer to extract features from text\n",
        "vectorizer = TfidfVectorizer(max_features=300, min_df=7, max_df=0.8, stop_words=pt_stopwords)\n",
        "\n",
        "# Building the Pipeline\n",
        "text_pipeline = Pipeline([\n",
        "    ('regex', ApplyRegex(regex_transformers)),\n",
        "    ('stopwords', StopWordsRemoval(nltk.corpus.stopwords.words('portuguese'))),\n",
        "    ('stemming', StemmingProcess(nltk.stem.RSLPStemmer())),\n",
        "    ('text_features', TextFeatureExtraction(vectorizer))\n",
        "])"
      ]
    },
    {
      "cell_type": "markdown",
      "metadata": {
        "id": "c4qCk9Q_2e28"
      },
      "source": [
        "* max_features=300: indicates that the matrix will be created using the 300 most common words from the corpus\n",
        "* max_df=0.8: indicates that we will use only words with at least 80% frequency in the corpus\n",
        "* min_df=7: indicates that we will use only words that occurs in at least 7 text strings in the corpus"
      ]
    },
    {
      "cell_type": "code",
      "execution_count": 130,
      "metadata": {
        "id": "gUUOoFpy2e29"
      },
      "outputs": [],
      "source": [
        "X = df_comments['comment']\n",
        "\n",
        "X_transformed = text_pipeline.fit_transform(reviews_final)"
      ]
    },
    {
      "cell_type": "code",
      "execution_count": 131,
      "metadata": {
        "id": "0an69owE2e29"
      },
      "outputs": [],
      "source": [
        "X_train_trans, X_val_trans, X_test_trans, y_train_trans, y_val_trans, y_test_trans = train_val_test_split(X_transformed, y)"
      ]
    },
    {
      "cell_type": "code",
      "execution_count": 132,
      "metadata": {
        "colab": {
          "base_uri": "https://localhost:8080/"
        },
        "id": "vvP0jDeT2e29",
        "outputId": "00099d29-4103-4a6a-9cf3-eb53cde9dfb4"
      },
      "outputs": [
        {
          "data": {
            "text/plain": [
              "array([0.        , 0.        , 0.        , 0.        , 0.        ,\n",
              "       0.        , 0.        , 0.        , 0.        , 0.43824671,\n",
              "       0.        , 0.        , 0.        , 0.        , 0.        ,\n",
              "       0.        , 0.        , 0.        , 0.        , 0.        ,\n",
              "       0.        , 0.        , 0.        , 0.        , 0.        ,\n",
              "       0.        , 0.        , 0.        , 0.        , 0.        ,\n",
              "       0.        , 0.        , 0.        , 0.        , 0.        ,\n",
              "       0.        , 0.        , 0.        , 0.        , 0.        ,\n",
              "       0.        , 0.        , 0.        , 0.        , 0.        ,\n",
              "       0.        , 0.        , 0.        , 0.32527411, 0.        ,\n",
              "       0.        , 0.        , 0.        , 0.        , 0.        ,\n",
              "       0.        , 0.        , 0.        , 0.        , 0.        ,\n",
              "       0.        , 0.        , 0.        , 0.        , 0.        ,\n",
              "       0.        , 0.        , 0.        , 0.        , 0.        ,\n",
              "       0.        , 0.        , 0.        , 0.        , 0.        ,\n",
              "       0.        , 0.        , 0.        , 0.        , 0.        ,\n",
              "       0.        , 0.        , 0.        , 0.        , 0.        ,\n",
              "       0.        , 0.        , 0.        , 0.        , 0.        ,\n",
              "       0.        , 0.        , 0.        , 0.        , 0.        ,\n",
              "       0.        , 0.        , 0.        , 0.        , 0.        ,\n",
              "       0.        , 0.        , 0.25943248, 0.        , 0.        ,\n",
              "       0.        , 0.        , 0.        , 0.        , 0.        ,\n",
              "       0.        , 0.        , 0.        , 0.        , 0.        ,\n",
              "       0.        , 0.        , 0.        , 0.        , 0.        ,\n",
              "       0.        , 0.        , 0.        , 0.        , 0.        ,\n",
              "       0.        , 0.        , 0.        , 0.        , 0.        ,\n",
              "       0.        , 0.        , 0.        , 0.        , 0.        ,\n",
              "       0.        , 0.        , 0.        , 0.        , 0.        ,\n",
              "       0.        , 0.        , 0.        , 0.        , 0.        ,\n",
              "       0.        , 0.        , 0.        , 0.        , 0.        ,\n",
              "       0.        , 0.        , 0.        , 0.        , 0.        ,\n",
              "       0.        , 0.        , 0.        , 0.        , 0.        ,\n",
              "       0.        , 0.        , 0.        , 0.        , 0.        ,\n",
              "       0.        , 0.        , 0.        , 0.        , 0.        ,\n",
              "       0.        , 0.        , 0.        , 0.        , 0.        ,\n",
              "       0.        , 0.        , 0.        , 0.27427872, 0.        ,\n",
              "       0.        , 0.        , 0.        , 0.        , 0.        ,\n",
              "       0.        , 0.        , 0.        , 0.        , 0.        ,\n",
              "       0.        , 0.        , 0.        , 0.        , 0.        ,\n",
              "       0.        , 0.        , 0.65831002, 0.        , 0.        ,\n",
              "       0.        , 0.        , 0.        , 0.        , 0.        ,\n",
              "       0.        , 0.        , 0.        , 0.        , 0.        ,\n",
              "       0.        , 0.        , 0.        , 0.        , 0.29037051,\n",
              "       0.        , 0.        , 0.        , 0.        , 0.        ,\n",
              "       0.        , 0.        , 0.        , 0.2047326 , 0.        ,\n",
              "       0.        , 0.        , 0.        , 0.        , 0.        ,\n",
              "       0.        , 0.        , 0.        , 0.        , 0.        ,\n",
              "       0.        , 0.        , 0.        , 0.        , 0.        ,\n",
              "       0.        , 0.        , 0.        , 0.        , 0.        ,\n",
              "       0.        , 0.        , 0.        , 0.        , 0.        ,\n",
              "       0.        , 0.        , 0.        , 0.        , 0.        ,\n",
              "       0.        , 0.        , 0.        , 0.        , 0.        ,\n",
              "       0.        , 0.        , 0.        , 0.        , 0.        ,\n",
              "       0.        , 0.        , 0.        , 0.        , 0.        ,\n",
              "       0.        , 0.        , 0.        , 0.        , 0.        ,\n",
              "       0.        , 0.        , 0.        , 0.        , 0.        ,\n",
              "       0.        , 0.        , 0.        , 0.        , 0.        ,\n",
              "       0.        , 0.        , 0.        , 0.        , 0.        ,\n",
              "       0.        , 0.        , 0.        , 0.        , 0.        ,\n",
              "       0.        , 0.        , 0.        , 0.        , 0.        ])"
            ]
          },
          "execution_count": 132,
          "metadata": {},
          "output_type": "execute_result"
        }
      ],
      "source": [
        "X_train_trans[500]"
      ]
    },
    {
      "cell_type": "markdown",
      "metadata": {
        "id": "bjpl-lV12e3B"
      },
      "source": [
        "## Test with sentences"
      ]
    },
    {
      "cell_type": "code",
      "execution_count": 137,
      "metadata": {
        "id": "NHtxNJz82e3B"
      },
      "outputs": [],
      "source": [
        "def test_new_sentence_lstm(new_sentence, model, tokenizer=tokenizer, max_sequence_length=max_length):\n",
        "    regex_transformers = {\n",
        "        'break_line': re_breakline,\n",
        "        'hiperlinks': re_hiperlinks,\n",
        "        'dates': re_dates,\n",
        "        'money': re_money,\n",
        "        'numbers': re_numbers,\n",
        "        'negation': re_negation,\n",
        "        'special_chars': re_special_chars,\n",
        "        'whitespaces': re_whitespaces\n",
        "    }\n",
        "\n",
        "\n",
        "    # Pre-process\n",
        "    regex = ApplyRegex(regex_transformers)\n",
        "    sentence_processed = regex.transform([new_sentence])\n",
        "    sentence_processed = [' '.join(stopwords_removal(review)) for review in sentence_processed]\n",
        "    sentence_processed = [' '.join(stemming_process(review)) for review in sentence_processed]\n",
        "\n",
        "    print(sentence_processed)\n",
        "\n",
        "    # Tokenizer and padding e aplicando padding\n",
        "    tokenized_sentence = tokenizer.texts_to_sequences(sentence_processed)\n",
        "    padded_sentence = pad_sequences(tokenized_sentence, maxlen=max_sequence_length, padding=\"post\")\n",
        "    print(padded_sentence)\n",
        "\n",
        "    # Result\n",
        "    prediction = model.predict(padded_sentence)\n",
        "    print(prediction)\n",
        "\n",
        "    review = \"positive\" if prediction >= 0.5 else \"negative\"\n",
        "    print(f\"The sentence represents a {review} review!\")"
      ]
    },
    {
      "cell_type": "code",
      "execution_count": 138,
      "metadata": {
        "colab": {
          "base_uri": "https://localhost:8080/"
        },
        "id": "-BHxy-qI2e3C",
        "outputId": "9ddc40ed-40df-49ed-bd16-9a657e30c4c5"
      },
      "outputs": [
        {
          "name": "stdout",
          "output_type": "stream",
          "text": [
            "['compr gift card aind esper cheg produt digit tod sit mand instant vulg mai amér latin simples neg conseg entreg simpl códig mail neg recom serviç péss']\n",
            "[[   5 3568   19   27    7    1  943   38   35  114 3512  204 1199  411\n",
            "     2  832    3  322  487  232    2   11  182  126    0    0    0    0\n",
            "     0    0    0    0    0    0    0    0    0]]\n"
          ]
        },
        {
          "name": "stdout",
          "output_type": "stream",
          "text": [
            "\u001b[1m1/1\u001b[0m \u001b[32m━━━━━━━━━━━━━━━━━━━━\u001b[0m\u001b[37m\u001b[0m \u001b[1m0s\u001b[0m 30ms/step\n",
            "[[0.04152721]]\n",
            "The sentence represents a negative review!\n"
          ]
        }
      ],
      "source": [
        "new_sentence = 'Comprei um gift card e ainda estou esperando chegar, é um produto digital, todos os sites mandam no mesmo instante, \\\n",
        "e o vulgo \"maior da América Latina\" simplesmente não consegue entregar um simples código no e-mail. Não recomendo, serviço péssimo.'\n",
        "test_new_sentence_lstm(new_sentence, best_lstm_model)"
      ]
    },
    {
      "cell_type": "code",
      "execution_count": 139,
      "metadata": {
        "colab": {
          "base_uri": "https://localhost:8080/"
        },
        "id": "CTA1Ac542e3C",
        "outputId": "b35fd240-cf9d-4188-bef2-5841f72cd028"
      },
      "outputs": [
        {
          "name": "stdout",
          "output_type": "stream",
          "text": [
            "['estud institu selecion receb benefíci pae semestr numer numer receb pag benefíci mê pass atras mê aind neg receb coleg selecion benefíci fal receb numer numer tod poi mê pass receb numer mê numer mand mail busc ajud respond esper numer dia utel lig mand retorn segund feir numer novembr hoj lig descobr folh pag fech receb pag jan solic benefíci expliq solicit poi através mant desp estud almoç transport benefíci neg consegu continu estud univers agor esper jan cont err institu pod corr risc neg consegu assist aul cont falt transport']\n",
            "[[ 489    8   53  964  871  377 4841   95   39  721  571 3132 1765 3504\n",
            "   240  377    2  252  231 1765 1422   52   27  964  216   79 4086   72\n",
            "   431  427    2  252 1134 6632  216   45  240]]\n",
            "\u001b[1m1/1\u001b[0m \u001b[32m━━━━━━━━━━━━━━━━━━━━\u001b[0m\u001b[37m\u001b[0m \u001b[1m0s\u001b[0m 26ms/step\n",
            "[[0.27401313]]\n",
            "The sentence represents a negative review!\n"
          ]
        }
      ],
      "source": [
        "new_sentence='Sou estudante da instituição e fui selecionada para receber o benefício PAES no semestre 2024.1, \\\n",
        "recebi o pagamento do benefício do mês passado com atraso e este mês ainda não recebi. Colegas que também foram selecionados pelo benefício,\\\n",
        "falaram que já receberam 1.200 ao todo, pois no mês passado receberam 800 e este mês, 400. Mandei e-mails em busca de uma ajuda e me \\\n",
        "responderam para esperar os 10 dias uteis, liguei e me mandaram retornar na segunda-feira, 18 de novembro (hoje) e ao ligar, descobri que a \\\n",
        "folha de pagamento fechou e só receberei o meu pagamento em janeiro. Ao solicitar esse benefício, expliquei que estava solicitando pois através \\\n",
        "dele, eu manteria as minhas despesas como estudante (almoço e transporte) e sem este benefício, eu não conseguiria continuar estudando na universidade.\\\n",
        "Agora terei que esperar até janeiro por conta de um erro da instituição, podendo correr o risco de não conseguir assistir as aulas por conta da falta de transporte.'\n",
        "test_new_sentence_lstm(new_sentence, best_lstm_model)"
      ]
    },
    {
      "cell_type": "code",
      "execution_count": 140,
      "metadata": {
        "colab": {
          "base_uri": "https://localhost:8080/"
        },
        "id": "rfgJyy1N2e3D",
        "outputId": "0c518865-a3e8-43a9-e000-b2bf8b8de5e0"
      },
      "outputs": [
        {
          "name": "stdout",
          "output_type": "stream",
          "text": [
            "['sit post comunic prim respost verific document mand edit diz pod reenvi document cas neg compat inscr porém sit consult neg dão opç reenvi soment consult document envi anteri']\n",
            "[[  35  348  428  130  120  464 1249  114  145   72  948 1249  109    2\n",
            "   598   44   35 1289    2  834  546  948  122 1289 1249   56  642    0\n",
            "     0    0    0    0    0    0    0    0    0]]\n",
            "\u001b[1m1/1\u001b[0m \u001b[32m━━━━━━━━━━━━━━━━━━━━\u001b[0m\u001b[37m\u001b[0m \u001b[1m0s\u001b[0m 28ms/step\n",
            "[[0.18486482]]\n",
            "The sentence represents a negative review!\n"
          ]
        }
      ],
      "source": [
        "new_sentence='O SITE POSTOU UM COMUNICADO COM A PRIMEIRA RESPOSTA DA VERIFICAÇÃO DOS DOCUMENTOS E MANDOU UM EDITAL DIZENDO QUE EU PODERIA REENVIAR OS DOCUMENTOS CASO NÃO TIVESSE COMPATÍVEL COM A INSCRIÇÃO. PORÉM, NO SITE DE CONSULTA, NÃO ME DÃO A OPÇÃO DE REENVIAR, MAS SOMENTE A DE CONSULTAR O DOCUMENTOS QUE JÁ ENVIEI ANTERIORMENTE.'\n",
        "test_new_sentence_lstm(new_sentence, best_lstm_model)"
      ]
    },
    {
      "cell_type": "code",
      "execution_count": 141,
      "metadata": {
        "colab": {
          "base_uri": "https://localhost:8080/"
        },
        "id": "ms9XhS9p2e3D",
        "outputId": "b9777bcf-27ce-44a1-97cf-1504a9aaa955"
      },
      "outputs": [
        {
          "name": "stdout",
          "output_type": "stream",
          "text": [
            "['excel produt pessoal parab legal gost volt']\n",
            "[[ 23   1 688 298 430  17 123   0   0   0   0   0   0   0   0   0   0   0\n",
            "    0   0   0   0   0   0   0   0   0   0   0   0   0   0   0   0   0   0\n",
            "    0]]\n",
            "\u001b[1m1/1\u001b[0m \u001b[32m━━━━━━━━━━━━━━━━━━━━\u001b[0m\u001b[37m\u001b[0m \u001b[1m0s\u001b[0m 33ms/step\n",
            "[[0.97859794]]\n",
            "The sentence represents a positive review!\n"
          ]
        }
      ],
      "source": [
        "new_sentence='Excelente produto pessoal, parabens, legal, gostei, voltarei!'\n",
        "test_new_sentence_lstm(new_sentence, best_lstm_model)"
      ]
    },
    {
      "cell_type": "code",
      "execution_count": 142,
      "metadata": {
        "colab": {
          "base_uri": "https://localhost:8080/"
        },
        "id": "r86jYtCR2e3D",
        "outputId": "9c804fc1-4fd9-4f3b-f08d-a63eda5f9ec2"
      },
      "outputs": [
        {
          "name": "stdout",
          "output_type": "stream",
          "text": [
            "['neg palavr descrev quã espec mim sei caix mens dev chei poi pesso quer tod gost relembr tod car sint quã grat ter vid hoj quer desej feliz aniversári dia muit celebr abraç apert sorris sincer lad pesso ama esper pod celebr muit outr ano contig parabém dia']\n",
            "[[ 191  101  410   75  814   39  358   61   38   17   38  198  885  417\n",
            "    69 1107  134   61  230  288  933   21  179  927  930 6649 2251  671\n",
            "   358 3362   27   72  179   32  308   48   21]]\n",
            "\u001b[1m1/1\u001b[0m \u001b[32m━━━━━━━━━━━━━━━━━━━━\u001b[0m\u001b[37m\u001b[0m \u001b[1m0s\u001b[0m 31ms/step\n",
            "[[0.7218724]]\n",
            "The sentence represents a positive review!\n"
          ]
        }
      ],
      "source": [
        "new_sentence='Não tenho palavras para descrever o quão especial você é para mim. Sei que sua caixa de mensagens deve estar cheia, pois você é uma pessoa muito querida por todos. Mas gostaria de te relembrar todo o carinho que sinto por você e quão grato eu sou por te ter na minha vida.\\\n",
        "Hoje, quero lhe desejar o mais feliz dos aniversários. Que esse dia seja de muita celebração, abraços apertados e sorrisos sinceros ao lado das pessoas que você mais ama. Espero poder celebrar muitos outros anos contigo.\\\n",
        "Parabéns pelo seu dia.'\n",
        "test_new_sentence_lstm(new_sentence, best_lstm_model)"
      ]
    }
  ],
  "metadata": {
    "accelerator": "GPU",
    "colab": {
      "gpuType": "T4",
      "provenance": []
    },
    "kernelspec": {
      "display_name": "Python 3",
      "language": "python",
      "name": "python3"
    },
    "language_info": {
      "codemirror_mode": {
        "name": "ipython",
        "version": 3
      },
      "file_extension": ".py",
      "mimetype": "text/x-python",
      "name": "python",
      "nbconvert_exporter": "python",
      "pygments_lexer": "ipython3",
      "version": "3.8.10"
    }
  },
  "nbformat": 4,
  "nbformat_minor": 0
}
